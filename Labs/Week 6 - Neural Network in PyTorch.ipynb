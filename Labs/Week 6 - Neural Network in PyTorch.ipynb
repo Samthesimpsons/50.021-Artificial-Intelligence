{
  "nbformat": 4,
  "nbformat_minor": 0,
  "metadata": {
    "accelerator": "GPU",
    "colab": {
      "name": "Week 6 - AI class - PyTorch Neural Networks",
      "provenance": [],
      "collapsed_sections": [],
      "toc_visible": true
    },
    "kernelspec": {
      "display_name": "Python 3",
      "name": "python3"
    },
    "widgets": {
      "application/vnd.jupyter.widget-state+json": {
        "af04404c48f0448da8d4fde75e0ee09e": {
          "model_module": "@jupyter-widgets/controls",
          "model_name": "HBoxModel",
          "model_module_version": "1.5.0",
          "state": {
            "_dom_classes": [],
            "_model_module": "@jupyter-widgets/controls",
            "_model_module_version": "1.5.0",
            "_model_name": "HBoxModel",
            "_view_count": null,
            "_view_module": "@jupyter-widgets/controls",
            "_view_module_version": "1.5.0",
            "_view_name": "HBoxView",
            "box_style": "",
            "children": [
              "IPY_MODEL_faa031ad6d984ec8ae73d9ce481deff9",
              "IPY_MODEL_8c88959eaa244976bf42a225aa2e3d02",
              "IPY_MODEL_0ea2f16ab34f4c4e8ea5ea37b53c86fb"
            ],
            "layout": "IPY_MODEL_14f2ac2551f94495b09bc420b519dad8"
          }
        },
        "faa031ad6d984ec8ae73d9ce481deff9": {
          "model_module": "@jupyter-widgets/controls",
          "model_name": "HTMLModel",
          "model_module_version": "1.5.0",
          "state": {
            "_dom_classes": [],
            "_model_module": "@jupyter-widgets/controls",
            "_model_module_version": "1.5.0",
            "_model_name": "HTMLModel",
            "_view_count": null,
            "_view_module": "@jupyter-widgets/controls",
            "_view_module_version": "1.5.0",
            "_view_name": "HTMLView",
            "description": "",
            "description_tooltip": null,
            "layout": "IPY_MODEL_7fca22b63daa40f3a38338f612327a26",
            "placeholder": "​",
            "style": "IPY_MODEL_1065f7daee324997bfcfc3d21498e3d7",
            "value": ""
          }
        },
        "8c88959eaa244976bf42a225aa2e3d02": {
          "model_module": "@jupyter-widgets/controls",
          "model_name": "FloatProgressModel",
          "model_module_version": "1.5.0",
          "state": {
            "_dom_classes": [],
            "_model_module": "@jupyter-widgets/controls",
            "_model_module_version": "1.5.0",
            "_model_name": "FloatProgressModel",
            "_view_count": null,
            "_view_module": "@jupyter-widgets/controls",
            "_view_module_version": "1.5.0",
            "_view_name": "ProgressView",
            "bar_style": "success",
            "description": "",
            "description_tooltip": null,
            "layout": "IPY_MODEL_53e548e344284171bd5067f65ef15ed3",
            "max": 26421880,
            "min": 0,
            "orientation": "horizontal",
            "style": "IPY_MODEL_81e60699760b4ca084096ea286f607d8",
            "value": 26421880
          }
        },
        "0ea2f16ab34f4c4e8ea5ea37b53c86fb": {
          "model_module": "@jupyter-widgets/controls",
          "model_name": "HTMLModel",
          "model_module_version": "1.5.0",
          "state": {
            "_dom_classes": [],
            "_model_module": "@jupyter-widgets/controls",
            "_model_module_version": "1.5.0",
            "_model_name": "HTMLModel",
            "_view_count": null,
            "_view_module": "@jupyter-widgets/controls",
            "_view_module_version": "1.5.0",
            "_view_name": "HTMLView",
            "description": "",
            "description_tooltip": null,
            "layout": "IPY_MODEL_4f9100457e2d46649008e6313a4773e1",
            "placeholder": "​",
            "style": "IPY_MODEL_5f49f083311b404bbda67f924a3d2051",
            "value": " 26422272/? [00:01&lt;00:00, 20441786.57it/s]"
          }
        },
        "14f2ac2551f94495b09bc420b519dad8": {
          "model_module": "@jupyter-widgets/base",
          "model_name": "LayoutModel",
          "model_module_version": "1.2.0",
          "state": {
            "_model_module": "@jupyter-widgets/base",
            "_model_module_version": "1.2.0",
            "_model_name": "LayoutModel",
            "_view_count": null,
            "_view_module": "@jupyter-widgets/base",
            "_view_module_version": "1.2.0",
            "_view_name": "LayoutView",
            "align_content": null,
            "align_items": null,
            "align_self": null,
            "border": null,
            "bottom": null,
            "display": null,
            "flex": null,
            "flex_flow": null,
            "grid_area": null,
            "grid_auto_columns": null,
            "grid_auto_flow": null,
            "grid_auto_rows": null,
            "grid_column": null,
            "grid_gap": null,
            "grid_row": null,
            "grid_template_areas": null,
            "grid_template_columns": null,
            "grid_template_rows": null,
            "height": null,
            "justify_content": null,
            "justify_items": null,
            "left": null,
            "margin": null,
            "max_height": null,
            "max_width": null,
            "min_height": null,
            "min_width": null,
            "object_fit": null,
            "object_position": null,
            "order": null,
            "overflow": null,
            "overflow_x": null,
            "overflow_y": null,
            "padding": null,
            "right": null,
            "top": null,
            "visibility": null,
            "width": null
          }
        },
        "7fca22b63daa40f3a38338f612327a26": {
          "model_module": "@jupyter-widgets/base",
          "model_name": "LayoutModel",
          "model_module_version": "1.2.0",
          "state": {
            "_model_module": "@jupyter-widgets/base",
            "_model_module_version": "1.2.0",
            "_model_name": "LayoutModel",
            "_view_count": null,
            "_view_module": "@jupyter-widgets/base",
            "_view_module_version": "1.2.0",
            "_view_name": "LayoutView",
            "align_content": null,
            "align_items": null,
            "align_self": null,
            "border": null,
            "bottom": null,
            "display": null,
            "flex": null,
            "flex_flow": null,
            "grid_area": null,
            "grid_auto_columns": null,
            "grid_auto_flow": null,
            "grid_auto_rows": null,
            "grid_column": null,
            "grid_gap": null,
            "grid_row": null,
            "grid_template_areas": null,
            "grid_template_columns": null,
            "grid_template_rows": null,
            "height": null,
            "justify_content": null,
            "justify_items": null,
            "left": null,
            "margin": null,
            "max_height": null,
            "max_width": null,
            "min_height": null,
            "min_width": null,
            "object_fit": null,
            "object_position": null,
            "order": null,
            "overflow": null,
            "overflow_x": null,
            "overflow_y": null,
            "padding": null,
            "right": null,
            "top": null,
            "visibility": null,
            "width": null
          }
        },
        "1065f7daee324997bfcfc3d21498e3d7": {
          "model_module": "@jupyter-widgets/controls",
          "model_name": "DescriptionStyleModel",
          "model_module_version": "1.5.0",
          "state": {
            "_model_module": "@jupyter-widgets/controls",
            "_model_module_version": "1.5.0",
            "_model_name": "DescriptionStyleModel",
            "_view_count": null,
            "_view_module": "@jupyter-widgets/base",
            "_view_module_version": "1.2.0",
            "_view_name": "StyleView",
            "description_width": ""
          }
        },
        "53e548e344284171bd5067f65ef15ed3": {
          "model_module": "@jupyter-widgets/base",
          "model_name": "LayoutModel",
          "model_module_version": "1.2.0",
          "state": {
            "_model_module": "@jupyter-widgets/base",
            "_model_module_version": "1.2.0",
            "_model_name": "LayoutModel",
            "_view_count": null,
            "_view_module": "@jupyter-widgets/base",
            "_view_module_version": "1.2.0",
            "_view_name": "LayoutView",
            "align_content": null,
            "align_items": null,
            "align_self": null,
            "border": null,
            "bottom": null,
            "display": null,
            "flex": null,
            "flex_flow": null,
            "grid_area": null,
            "grid_auto_columns": null,
            "grid_auto_flow": null,
            "grid_auto_rows": null,
            "grid_column": null,
            "grid_gap": null,
            "grid_row": null,
            "grid_template_areas": null,
            "grid_template_columns": null,
            "grid_template_rows": null,
            "height": null,
            "justify_content": null,
            "justify_items": null,
            "left": null,
            "margin": null,
            "max_height": null,
            "max_width": null,
            "min_height": null,
            "min_width": null,
            "object_fit": null,
            "object_position": null,
            "order": null,
            "overflow": null,
            "overflow_x": null,
            "overflow_y": null,
            "padding": null,
            "right": null,
            "top": null,
            "visibility": null,
            "width": null
          }
        },
        "81e60699760b4ca084096ea286f607d8": {
          "model_module": "@jupyter-widgets/controls",
          "model_name": "ProgressStyleModel",
          "model_module_version": "1.5.0",
          "state": {
            "_model_module": "@jupyter-widgets/controls",
            "_model_module_version": "1.5.0",
            "_model_name": "ProgressStyleModel",
            "_view_count": null,
            "_view_module": "@jupyter-widgets/base",
            "_view_module_version": "1.2.0",
            "_view_name": "StyleView",
            "bar_color": null,
            "description_width": ""
          }
        },
        "4f9100457e2d46649008e6313a4773e1": {
          "model_module": "@jupyter-widgets/base",
          "model_name": "LayoutModel",
          "model_module_version": "1.2.0",
          "state": {
            "_model_module": "@jupyter-widgets/base",
            "_model_module_version": "1.2.0",
            "_model_name": "LayoutModel",
            "_view_count": null,
            "_view_module": "@jupyter-widgets/base",
            "_view_module_version": "1.2.0",
            "_view_name": "LayoutView",
            "align_content": null,
            "align_items": null,
            "align_self": null,
            "border": null,
            "bottom": null,
            "display": null,
            "flex": null,
            "flex_flow": null,
            "grid_area": null,
            "grid_auto_columns": null,
            "grid_auto_flow": null,
            "grid_auto_rows": null,
            "grid_column": null,
            "grid_gap": null,
            "grid_row": null,
            "grid_template_areas": null,
            "grid_template_columns": null,
            "grid_template_rows": null,
            "height": null,
            "justify_content": null,
            "justify_items": null,
            "left": null,
            "margin": null,
            "max_height": null,
            "max_width": null,
            "min_height": null,
            "min_width": null,
            "object_fit": null,
            "object_position": null,
            "order": null,
            "overflow": null,
            "overflow_x": null,
            "overflow_y": null,
            "padding": null,
            "right": null,
            "top": null,
            "visibility": null,
            "width": null
          }
        },
        "5f49f083311b404bbda67f924a3d2051": {
          "model_module": "@jupyter-widgets/controls",
          "model_name": "DescriptionStyleModel",
          "model_module_version": "1.5.0",
          "state": {
            "_model_module": "@jupyter-widgets/controls",
            "_model_module_version": "1.5.0",
            "_model_name": "DescriptionStyleModel",
            "_view_count": null,
            "_view_module": "@jupyter-widgets/base",
            "_view_module_version": "1.2.0",
            "_view_name": "StyleView",
            "description_width": ""
          }
        },
        "3af376f5845a4b6fb40fd81e70b3e8e3": {
          "model_module": "@jupyter-widgets/controls",
          "model_name": "HBoxModel",
          "model_module_version": "1.5.0",
          "state": {
            "_dom_classes": [],
            "_model_module": "@jupyter-widgets/controls",
            "_model_module_version": "1.5.0",
            "_model_name": "HBoxModel",
            "_view_count": null,
            "_view_module": "@jupyter-widgets/controls",
            "_view_module_version": "1.5.0",
            "_view_name": "HBoxView",
            "box_style": "",
            "children": [
              "IPY_MODEL_e3822885f6094c118344694b8ac56f6f",
              "IPY_MODEL_8d138dd8a08d45e2a45552dcd814a35f",
              "IPY_MODEL_fe516c2ddb7b4928b589e2c033ba8d5d"
            ],
            "layout": "IPY_MODEL_7216ca8680344488ab62b1ede6577812"
          }
        },
        "e3822885f6094c118344694b8ac56f6f": {
          "model_module": "@jupyter-widgets/controls",
          "model_name": "HTMLModel",
          "model_module_version": "1.5.0",
          "state": {
            "_dom_classes": [],
            "_model_module": "@jupyter-widgets/controls",
            "_model_module_version": "1.5.0",
            "_model_name": "HTMLModel",
            "_view_count": null,
            "_view_module": "@jupyter-widgets/controls",
            "_view_module_version": "1.5.0",
            "_view_name": "HTMLView",
            "description": "",
            "description_tooltip": null,
            "layout": "IPY_MODEL_8a441acfde3341b2accf0aa58798619b",
            "placeholder": "​",
            "style": "IPY_MODEL_00372fb5c937404a96601da88308ce1e",
            "value": ""
          }
        },
        "8d138dd8a08d45e2a45552dcd814a35f": {
          "model_module": "@jupyter-widgets/controls",
          "model_name": "FloatProgressModel",
          "model_module_version": "1.5.0",
          "state": {
            "_dom_classes": [],
            "_model_module": "@jupyter-widgets/controls",
            "_model_module_version": "1.5.0",
            "_model_name": "FloatProgressModel",
            "_view_count": null,
            "_view_module": "@jupyter-widgets/controls",
            "_view_module_version": "1.5.0",
            "_view_name": "ProgressView",
            "bar_style": "success",
            "description": "",
            "description_tooltip": null,
            "layout": "IPY_MODEL_45e1f4e253114e40b90ec21da3cf0eef",
            "max": 29515,
            "min": 0,
            "orientation": "horizontal",
            "style": "IPY_MODEL_6f0141b5c95846b29a83af34f26c7d8b",
            "value": 29515
          }
        },
        "fe516c2ddb7b4928b589e2c033ba8d5d": {
          "model_module": "@jupyter-widgets/controls",
          "model_name": "HTMLModel",
          "model_module_version": "1.5.0",
          "state": {
            "_dom_classes": [],
            "_model_module": "@jupyter-widgets/controls",
            "_model_module_version": "1.5.0",
            "_model_name": "HTMLModel",
            "_view_count": null,
            "_view_module": "@jupyter-widgets/controls",
            "_view_module_version": "1.5.0",
            "_view_name": "HTMLView",
            "description": "",
            "description_tooltip": null,
            "layout": "IPY_MODEL_1c9e74bb5a274ad4a87d1f834044001a",
            "placeholder": "​",
            "style": "IPY_MODEL_a796ed51530445e4b6198f1572a29782",
            "value": " 29696/? [00:00&lt;00:00, 97752.63it/s]"
          }
        },
        "7216ca8680344488ab62b1ede6577812": {
          "model_module": "@jupyter-widgets/base",
          "model_name": "LayoutModel",
          "model_module_version": "1.2.0",
          "state": {
            "_model_module": "@jupyter-widgets/base",
            "_model_module_version": "1.2.0",
            "_model_name": "LayoutModel",
            "_view_count": null,
            "_view_module": "@jupyter-widgets/base",
            "_view_module_version": "1.2.0",
            "_view_name": "LayoutView",
            "align_content": null,
            "align_items": null,
            "align_self": null,
            "border": null,
            "bottom": null,
            "display": null,
            "flex": null,
            "flex_flow": null,
            "grid_area": null,
            "grid_auto_columns": null,
            "grid_auto_flow": null,
            "grid_auto_rows": null,
            "grid_column": null,
            "grid_gap": null,
            "grid_row": null,
            "grid_template_areas": null,
            "grid_template_columns": null,
            "grid_template_rows": null,
            "height": null,
            "justify_content": null,
            "justify_items": null,
            "left": null,
            "margin": null,
            "max_height": null,
            "max_width": null,
            "min_height": null,
            "min_width": null,
            "object_fit": null,
            "object_position": null,
            "order": null,
            "overflow": null,
            "overflow_x": null,
            "overflow_y": null,
            "padding": null,
            "right": null,
            "top": null,
            "visibility": null,
            "width": null
          }
        },
        "8a441acfde3341b2accf0aa58798619b": {
          "model_module": "@jupyter-widgets/base",
          "model_name": "LayoutModel",
          "model_module_version": "1.2.0",
          "state": {
            "_model_module": "@jupyter-widgets/base",
            "_model_module_version": "1.2.0",
            "_model_name": "LayoutModel",
            "_view_count": null,
            "_view_module": "@jupyter-widgets/base",
            "_view_module_version": "1.2.0",
            "_view_name": "LayoutView",
            "align_content": null,
            "align_items": null,
            "align_self": null,
            "border": null,
            "bottom": null,
            "display": null,
            "flex": null,
            "flex_flow": null,
            "grid_area": null,
            "grid_auto_columns": null,
            "grid_auto_flow": null,
            "grid_auto_rows": null,
            "grid_column": null,
            "grid_gap": null,
            "grid_row": null,
            "grid_template_areas": null,
            "grid_template_columns": null,
            "grid_template_rows": null,
            "height": null,
            "justify_content": null,
            "justify_items": null,
            "left": null,
            "margin": null,
            "max_height": null,
            "max_width": null,
            "min_height": null,
            "min_width": null,
            "object_fit": null,
            "object_position": null,
            "order": null,
            "overflow": null,
            "overflow_x": null,
            "overflow_y": null,
            "padding": null,
            "right": null,
            "top": null,
            "visibility": null,
            "width": null
          }
        },
        "00372fb5c937404a96601da88308ce1e": {
          "model_module": "@jupyter-widgets/controls",
          "model_name": "DescriptionStyleModel",
          "model_module_version": "1.5.0",
          "state": {
            "_model_module": "@jupyter-widgets/controls",
            "_model_module_version": "1.5.0",
            "_model_name": "DescriptionStyleModel",
            "_view_count": null,
            "_view_module": "@jupyter-widgets/base",
            "_view_module_version": "1.2.0",
            "_view_name": "StyleView",
            "description_width": ""
          }
        },
        "45e1f4e253114e40b90ec21da3cf0eef": {
          "model_module": "@jupyter-widgets/base",
          "model_name": "LayoutModel",
          "model_module_version": "1.2.0",
          "state": {
            "_model_module": "@jupyter-widgets/base",
            "_model_module_version": "1.2.0",
            "_model_name": "LayoutModel",
            "_view_count": null,
            "_view_module": "@jupyter-widgets/base",
            "_view_module_version": "1.2.0",
            "_view_name": "LayoutView",
            "align_content": null,
            "align_items": null,
            "align_self": null,
            "border": null,
            "bottom": null,
            "display": null,
            "flex": null,
            "flex_flow": null,
            "grid_area": null,
            "grid_auto_columns": null,
            "grid_auto_flow": null,
            "grid_auto_rows": null,
            "grid_column": null,
            "grid_gap": null,
            "grid_row": null,
            "grid_template_areas": null,
            "grid_template_columns": null,
            "grid_template_rows": null,
            "height": null,
            "justify_content": null,
            "justify_items": null,
            "left": null,
            "margin": null,
            "max_height": null,
            "max_width": null,
            "min_height": null,
            "min_width": null,
            "object_fit": null,
            "object_position": null,
            "order": null,
            "overflow": null,
            "overflow_x": null,
            "overflow_y": null,
            "padding": null,
            "right": null,
            "top": null,
            "visibility": null,
            "width": null
          }
        },
        "6f0141b5c95846b29a83af34f26c7d8b": {
          "model_module": "@jupyter-widgets/controls",
          "model_name": "ProgressStyleModel",
          "model_module_version": "1.5.0",
          "state": {
            "_model_module": "@jupyter-widgets/controls",
            "_model_module_version": "1.5.0",
            "_model_name": "ProgressStyleModel",
            "_view_count": null,
            "_view_module": "@jupyter-widgets/base",
            "_view_module_version": "1.2.0",
            "_view_name": "StyleView",
            "bar_color": null,
            "description_width": ""
          }
        },
        "1c9e74bb5a274ad4a87d1f834044001a": {
          "model_module": "@jupyter-widgets/base",
          "model_name": "LayoutModel",
          "model_module_version": "1.2.0",
          "state": {
            "_model_module": "@jupyter-widgets/base",
            "_model_module_version": "1.2.0",
            "_model_name": "LayoutModel",
            "_view_count": null,
            "_view_module": "@jupyter-widgets/base",
            "_view_module_version": "1.2.0",
            "_view_name": "LayoutView",
            "align_content": null,
            "align_items": null,
            "align_self": null,
            "border": null,
            "bottom": null,
            "display": null,
            "flex": null,
            "flex_flow": null,
            "grid_area": null,
            "grid_auto_columns": null,
            "grid_auto_flow": null,
            "grid_auto_rows": null,
            "grid_column": null,
            "grid_gap": null,
            "grid_row": null,
            "grid_template_areas": null,
            "grid_template_columns": null,
            "grid_template_rows": null,
            "height": null,
            "justify_content": null,
            "justify_items": null,
            "left": null,
            "margin": null,
            "max_height": null,
            "max_width": null,
            "min_height": null,
            "min_width": null,
            "object_fit": null,
            "object_position": null,
            "order": null,
            "overflow": null,
            "overflow_x": null,
            "overflow_y": null,
            "padding": null,
            "right": null,
            "top": null,
            "visibility": null,
            "width": null
          }
        },
        "a796ed51530445e4b6198f1572a29782": {
          "model_module": "@jupyter-widgets/controls",
          "model_name": "DescriptionStyleModel",
          "model_module_version": "1.5.0",
          "state": {
            "_model_module": "@jupyter-widgets/controls",
            "_model_module_version": "1.5.0",
            "_model_name": "DescriptionStyleModel",
            "_view_count": null,
            "_view_module": "@jupyter-widgets/base",
            "_view_module_version": "1.2.0",
            "_view_name": "StyleView",
            "description_width": ""
          }
        },
        "45b45a95d2804aae91636fec96d02180": {
          "model_module": "@jupyter-widgets/controls",
          "model_name": "HBoxModel",
          "model_module_version": "1.5.0",
          "state": {
            "_dom_classes": [],
            "_model_module": "@jupyter-widgets/controls",
            "_model_module_version": "1.5.0",
            "_model_name": "HBoxModel",
            "_view_count": null,
            "_view_module": "@jupyter-widgets/controls",
            "_view_module_version": "1.5.0",
            "_view_name": "HBoxView",
            "box_style": "",
            "children": [
              "IPY_MODEL_e19dbea088894cbab6b638d2b5228e89",
              "IPY_MODEL_14e1c9cfdefa4c57a2ce8a9944bd50dc",
              "IPY_MODEL_8ef827789f704b8898fa5f6bdc351ebd"
            ],
            "layout": "IPY_MODEL_131a7335ff83412191f7628b2f54c35a"
          }
        },
        "e19dbea088894cbab6b638d2b5228e89": {
          "model_module": "@jupyter-widgets/controls",
          "model_name": "HTMLModel",
          "model_module_version": "1.5.0",
          "state": {
            "_dom_classes": [],
            "_model_module": "@jupyter-widgets/controls",
            "_model_module_version": "1.5.0",
            "_model_name": "HTMLModel",
            "_view_count": null,
            "_view_module": "@jupyter-widgets/controls",
            "_view_module_version": "1.5.0",
            "_view_name": "HTMLView",
            "description": "",
            "description_tooltip": null,
            "layout": "IPY_MODEL_524a0c917fc849d7b023ad1a91688233",
            "placeholder": "​",
            "style": "IPY_MODEL_c69d7114c1714807853af91e6bbee0ce",
            "value": ""
          }
        },
        "14e1c9cfdefa4c57a2ce8a9944bd50dc": {
          "model_module": "@jupyter-widgets/controls",
          "model_name": "FloatProgressModel",
          "model_module_version": "1.5.0",
          "state": {
            "_dom_classes": [],
            "_model_module": "@jupyter-widgets/controls",
            "_model_module_version": "1.5.0",
            "_model_name": "FloatProgressModel",
            "_view_count": null,
            "_view_module": "@jupyter-widgets/controls",
            "_view_module_version": "1.5.0",
            "_view_name": "ProgressView",
            "bar_style": "success",
            "description": "",
            "description_tooltip": null,
            "layout": "IPY_MODEL_95f416ccc20246ceb714bb41d9819ee1",
            "max": 4422102,
            "min": 0,
            "orientation": "horizontal",
            "style": "IPY_MODEL_d7526504f70946ab87535216bfc6c099",
            "value": 4422102
          }
        },
        "8ef827789f704b8898fa5f6bdc351ebd": {
          "model_module": "@jupyter-widgets/controls",
          "model_name": "HTMLModel",
          "model_module_version": "1.5.0",
          "state": {
            "_dom_classes": [],
            "_model_module": "@jupyter-widgets/controls",
            "_model_module_version": "1.5.0",
            "_model_name": "HTMLModel",
            "_view_count": null,
            "_view_module": "@jupyter-widgets/controls",
            "_view_module_version": "1.5.0",
            "_view_name": "HTMLView",
            "description": "",
            "description_tooltip": null,
            "layout": "IPY_MODEL_2fa3c911138e4bf999dfa13334661a06",
            "placeholder": "​",
            "style": "IPY_MODEL_a08a70f4dde6450ea367d134b4dec24e",
            "value": " 4422656/? [00:00&lt;00:00, 8844208.67it/s]"
          }
        },
        "131a7335ff83412191f7628b2f54c35a": {
          "model_module": "@jupyter-widgets/base",
          "model_name": "LayoutModel",
          "model_module_version": "1.2.0",
          "state": {
            "_model_module": "@jupyter-widgets/base",
            "_model_module_version": "1.2.0",
            "_model_name": "LayoutModel",
            "_view_count": null,
            "_view_module": "@jupyter-widgets/base",
            "_view_module_version": "1.2.0",
            "_view_name": "LayoutView",
            "align_content": null,
            "align_items": null,
            "align_self": null,
            "border": null,
            "bottom": null,
            "display": null,
            "flex": null,
            "flex_flow": null,
            "grid_area": null,
            "grid_auto_columns": null,
            "grid_auto_flow": null,
            "grid_auto_rows": null,
            "grid_column": null,
            "grid_gap": null,
            "grid_row": null,
            "grid_template_areas": null,
            "grid_template_columns": null,
            "grid_template_rows": null,
            "height": null,
            "justify_content": null,
            "justify_items": null,
            "left": null,
            "margin": null,
            "max_height": null,
            "max_width": null,
            "min_height": null,
            "min_width": null,
            "object_fit": null,
            "object_position": null,
            "order": null,
            "overflow": null,
            "overflow_x": null,
            "overflow_y": null,
            "padding": null,
            "right": null,
            "top": null,
            "visibility": null,
            "width": null
          }
        },
        "524a0c917fc849d7b023ad1a91688233": {
          "model_module": "@jupyter-widgets/base",
          "model_name": "LayoutModel",
          "model_module_version": "1.2.0",
          "state": {
            "_model_module": "@jupyter-widgets/base",
            "_model_module_version": "1.2.0",
            "_model_name": "LayoutModel",
            "_view_count": null,
            "_view_module": "@jupyter-widgets/base",
            "_view_module_version": "1.2.0",
            "_view_name": "LayoutView",
            "align_content": null,
            "align_items": null,
            "align_self": null,
            "border": null,
            "bottom": null,
            "display": null,
            "flex": null,
            "flex_flow": null,
            "grid_area": null,
            "grid_auto_columns": null,
            "grid_auto_flow": null,
            "grid_auto_rows": null,
            "grid_column": null,
            "grid_gap": null,
            "grid_row": null,
            "grid_template_areas": null,
            "grid_template_columns": null,
            "grid_template_rows": null,
            "height": null,
            "justify_content": null,
            "justify_items": null,
            "left": null,
            "margin": null,
            "max_height": null,
            "max_width": null,
            "min_height": null,
            "min_width": null,
            "object_fit": null,
            "object_position": null,
            "order": null,
            "overflow": null,
            "overflow_x": null,
            "overflow_y": null,
            "padding": null,
            "right": null,
            "top": null,
            "visibility": null,
            "width": null
          }
        },
        "c69d7114c1714807853af91e6bbee0ce": {
          "model_module": "@jupyter-widgets/controls",
          "model_name": "DescriptionStyleModel",
          "model_module_version": "1.5.0",
          "state": {
            "_model_module": "@jupyter-widgets/controls",
            "_model_module_version": "1.5.0",
            "_model_name": "DescriptionStyleModel",
            "_view_count": null,
            "_view_module": "@jupyter-widgets/base",
            "_view_module_version": "1.2.0",
            "_view_name": "StyleView",
            "description_width": ""
          }
        },
        "95f416ccc20246ceb714bb41d9819ee1": {
          "model_module": "@jupyter-widgets/base",
          "model_name": "LayoutModel",
          "model_module_version": "1.2.0",
          "state": {
            "_model_module": "@jupyter-widgets/base",
            "_model_module_version": "1.2.0",
            "_model_name": "LayoutModel",
            "_view_count": null,
            "_view_module": "@jupyter-widgets/base",
            "_view_module_version": "1.2.0",
            "_view_name": "LayoutView",
            "align_content": null,
            "align_items": null,
            "align_self": null,
            "border": null,
            "bottom": null,
            "display": null,
            "flex": null,
            "flex_flow": null,
            "grid_area": null,
            "grid_auto_columns": null,
            "grid_auto_flow": null,
            "grid_auto_rows": null,
            "grid_column": null,
            "grid_gap": null,
            "grid_row": null,
            "grid_template_areas": null,
            "grid_template_columns": null,
            "grid_template_rows": null,
            "height": null,
            "justify_content": null,
            "justify_items": null,
            "left": null,
            "margin": null,
            "max_height": null,
            "max_width": null,
            "min_height": null,
            "min_width": null,
            "object_fit": null,
            "object_position": null,
            "order": null,
            "overflow": null,
            "overflow_x": null,
            "overflow_y": null,
            "padding": null,
            "right": null,
            "top": null,
            "visibility": null,
            "width": null
          }
        },
        "d7526504f70946ab87535216bfc6c099": {
          "model_module": "@jupyter-widgets/controls",
          "model_name": "ProgressStyleModel",
          "model_module_version": "1.5.0",
          "state": {
            "_model_module": "@jupyter-widgets/controls",
            "_model_module_version": "1.5.0",
            "_model_name": "ProgressStyleModel",
            "_view_count": null,
            "_view_module": "@jupyter-widgets/base",
            "_view_module_version": "1.2.0",
            "_view_name": "StyleView",
            "bar_color": null,
            "description_width": ""
          }
        },
        "2fa3c911138e4bf999dfa13334661a06": {
          "model_module": "@jupyter-widgets/base",
          "model_name": "LayoutModel",
          "model_module_version": "1.2.0",
          "state": {
            "_model_module": "@jupyter-widgets/base",
            "_model_module_version": "1.2.0",
            "_model_name": "LayoutModel",
            "_view_count": null,
            "_view_module": "@jupyter-widgets/base",
            "_view_module_version": "1.2.0",
            "_view_name": "LayoutView",
            "align_content": null,
            "align_items": null,
            "align_self": null,
            "border": null,
            "bottom": null,
            "display": null,
            "flex": null,
            "flex_flow": null,
            "grid_area": null,
            "grid_auto_columns": null,
            "grid_auto_flow": null,
            "grid_auto_rows": null,
            "grid_column": null,
            "grid_gap": null,
            "grid_row": null,
            "grid_template_areas": null,
            "grid_template_columns": null,
            "grid_template_rows": null,
            "height": null,
            "justify_content": null,
            "justify_items": null,
            "left": null,
            "margin": null,
            "max_height": null,
            "max_width": null,
            "min_height": null,
            "min_width": null,
            "object_fit": null,
            "object_position": null,
            "order": null,
            "overflow": null,
            "overflow_x": null,
            "overflow_y": null,
            "padding": null,
            "right": null,
            "top": null,
            "visibility": null,
            "width": null
          }
        },
        "a08a70f4dde6450ea367d134b4dec24e": {
          "model_module": "@jupyter-widgets/controls",
          "model_name": "DescriptionStyleModel",
          "model_module_version": "1.5.0",
          "state": {
            "_model_module": "@jupyter-widgets/controls",
            "_model_module_version": "1.5.0",
            "_model_name": "DescriptionStyleModel",
            "_view_count": null,
            "_view_module": "@jupyter-widgets/base",
            "_view_module_version": "1.2.0",
            "_view_name": "StyleView",
            "description_width": ""
          }
        },
        "cd2109a656d544639b2ad5d228f2d26a": {
          "model_module": "@jupyter-widgets/controls",
          "model_name": "HBoxModel",
          "model_module_version": "1.5.0",
          "state": {
            "_dom_classes": [],
            "_model_module": "@jupyter-widgets/controls",
            "_model_module_version": "1.5.0",
            "_model_name": "HBoxModel",
            "_view_count": null,
            "_view_module": "@jupyter-widgets/controls",
            "_view_module_version": "1.5.0",
            "_view_name": "HBoxView",
            "box_style": "",
            "children": [
              "IPY_MODEL_52386c14dc4147278692437c76ed73c0",
              "IPY_MODEL_0ed16376ef2c4157b963d0afb053200b",
              "IPY_MODEL_44af88129c53464b90e6edda7014a067"
            ],
            "layout": "IPY_MODEL_c919b572ac7d4489ab449ca111098582"
          }
        },
        "52386c14dc4147278692437c76ed73c0": {
          "model_module": "@jupyter-widgets/controls",
          "model_name": "HTMLModel",
          "model_module_version": "1.5.0",
          "state": {
            "_dom_classes": [],
            "_model_module": "@jupyter-widgets/controls",
            "_model_module_version": "1.5.0",
            "_model_name": "HTMLModel",
            "_view_count": null,
            "_view_module": "@jupyter-widgets/controls",
            "_view_module_version": "1.5.0",
            "_view_name": "HTMLView",
            "description": "",
            "description_tooltip": null,
            "layout": "IPY_MODEL_be374e156c4741f094355dc042a753f2",
            "placeholder": "​",
            "style": "IPY_MODEL_f4d46eed03e0462a92ab59a705536dac",
            "value": ""
          }
        },
        "0ed16376ef2c4157b963d0afb053200b": {
          "model_module": "@jupyter-widgets/controls",
          "model_name": "FloatProgressModel",
          "model_module_version": "1.5.0",
          "state": {
            "_dom_classes": [],
            "_model_module": "@jupyter-widgets/controls",
            "_model_module_version": "1.5.0",
            "_model_name": "FloatProgressModel",
            "_view_count": null,
            "_view_module": "@jupyter-widgets/controls",
            "_view_module_version": "1.5.0",
            "_view_name": "ProgressView",
            "bar_style": "success",
            "description": "",
            "description_tooltip": null,
            "layout": "IPY_MODEL_e62ea647ec01408ab0b300fb4edd1369",
            "max": 5148,
            "min": 0,
            "orientation": "horizontal",
            "style": "IPY_MODEL_a3d3469cc7f5445da86c8a6666fe08fa",
            "value": 5148
          }
        },
        "44af88129c53464b90e6edda7014a067": {
          "model_module": "@jupyter-widgets/controls",
          "model_name": "HTMLModel",
          "model_module_version": "1.5.0",
          "state": {
            "_dom_classes": [],
            "_model_module": "@jupyter-widgets/controls",
            "_model_module_version": "1.5.0",
            "_model_name": "HTMLModel",
            "_view_count": null,
            "_view_module": "@jupyter-widgets/controls",
            "_view_module_version": "1.5.0",
            "_view_name": "HTMLView",
            "description": "",
            "description_tooltip": null,
            "layout": "IPY_MODEL_ee06dac8ad4c4daea87b3ee0513d6df5",
            "placeholder": "​",
            "style": "IPY_MODEL_7188403f1ed041549dc98442d61e9459",
            "value": " 6144/? [00:00&lt;00:00, 85310.98it/s]"
          }
        },
        "c919b572ac7d4489ab449ca111098582": {
          "model_module": "@jupyter-widgets/base",
          "model_name": "LayoutModel",
          "model_module_version": "1.2.0",
          "state": {
            "_model_module": "@jupyter-widgets/base",
            "_model_module_version": "1.2.0",
            "_model_name": "LayoutModel",
            "_view_count": null,
            "_view_module": "@jupyter-widgets/base",
            "_view_module_version": "1.2.0",
            "_view_name": "LayoutView",
            "align_content": null,
            "align_items": null,
            "align_self": null,
            "border": null,
            "bottom": null,
            "display": null,
            "flex": null,
            "flex_flow": null,
            "grid_area": null,
            "grid_auto_columns": null,
            "grid_auto_flow": null,
            "grid_auto_rows": null,
            "grid_column": null,
            "grid_gap": null,
            "grid_row": null,
            "grid_template_areas": null,
            "grid_template_columns": null,
            "grid_template_rows": null,
            "height": null,
            "justify_content": null,
            "justify_items": null,
            "left": null,
            "margin": null,
            "max_height": null,
            "max_width": null,
            "min_height": null,
            "min_width": null,
            "object_fit": null,
            "object_position": null,
            "order": null,
            "overflow": null,
            "overflow_x": null,
            "overflow_y": null,
            "padding": null,
            "right": null,
            "top": null,
            "visibility": null,
            "width": null
          }
        },
        "be374e156c4741f094355dc042a753f2": {
          "model_module": "@jupyter-widgets/base",
          "model_name": "LayoutModel",
          "model_module_version": "1.2.0",
          "state": {
            "_model_module": "@jupyter-widgets/base",
            "_model_module_version": "1.2.0",
            "_model_name": "LayoutModel",
            "_view_count": null,
            "_view_module": "@jupyter-widgets/base",
            "_view_module_version": "1.2.0",
            "_view_name": "LayoutView",
            "align_content": null,
            "align_items": null,
            "align_self": null,
            "border": null,
            "bottom": null,
            "display": null,
            "flex": null,
            "flex_flow": null,
            "grid_area": null,
            "grid_auto_columns": null,
            "grid_auto_flow": null,
            "grid_auto_rows": null,
            "grid_column": null,
            "grid_gap": null,
            "grid_row": null,
            "grid_template_areas": null,
            "grid_template_columns": null,
            "grid_template_rows": null,
            "height": null,
            "justify_content": null,
            "justify_items": null,
            "left": null,
            "margin": null,
            "max_height": null,
            "max_width": null,
            "min_height": null,
            "min_width": null,
            "object_fit": null,
            "object_position": null,
            "order": null,
            "overflow": null,
            "overflow_x": null,
            "overflow_y": null,
            "padding": null,
            "right": null,
            "top": null,
            "visibility": null,
            "width": null
          }
        },
        "f4d46eed03e0462a92ab59a705536dac": {
          "model_module": "@jupyter-widgets/controls",
          "model_name": "DescriptionStyleModel",
          "model_module_version": "1.5.0",
          "state": {
            "_model_module": "@jupyter-widgets/controls",
            "_model_module_version": "1.5.0",
            "_model_name": "DescriptionStyleModel",
            "_view_count": null,
            "_view_module": "@jupyter-widgets/base",
            "_view_module_version": "1.2.0",
            "_view_name": "StyleView",
            "description_width": ""
          }
        },
        "e62ea647ec01408ab0b300fb4edd1369": {
          "model_module": "@jupyter-widgets/base",
          "model_name": "LayoutModel",
          "model_module_version": "1.2.0",
          "state": {
            "_model_module": "@jupyter-widgets/base",
            "_model_module_version": "1.2.0",
            "_model_name": "LayoutModel",
            "_view_count": null,
            "_view_module": "@jupyter-widgets/base",
            "_view_module_version": "1.2.0",
            "_view_name": "LayoutView",
            "align_content": null,
            "align_items": null,
            "align_self": null,
            "border": null,
            "bottom": null,
            "display": null,
            "flex": null,
            "flex_flow": null,
            "grid_area": null,
            "grid_auto_columns": null,
            "grid_auto_flow": null,
            "grid_auto_rows": null,
            "grid_column": null,
            "grid_gap": null,
            "grid_row": null,
            "grid_template_areas": null,
            "grid_template_columns": null,
            "grid_template_rows": null,
            "height": null,
            "justify_content": null,
            "justify_items": null,
            "left": null,
            "margin": null,
            "max_height": null,
            "max_width": null,
            "min_height": null,
            "min_width": null,
            "object_fit": null,
            "object_position": null,
            "order": null,
            "overflow": null,
            "overflow_x": null,
            "overflow_y": null,
            "padding": null,
            "right": null,
            "top": null,
            "visibility": null,
            "width": null
          }
        },
        "a3d3469cc7f5445da86c8a6666fe08fa": {
          "model_module": "@jupyter-widgets/controls",
          "model_name": "ProgressStyleModel",
          "model_module_version": "1.5.0",
          "state": {
            "_model_module": "@jupyter-widgets/controls",
            "_model_module_version": "1.5.0",
            "_model_name": "ProgressStyleModel",
            "_view_count": null,
            "_view_module": "@jupyter-widgets/base",
            "_view_module_version": "1.2.0",
            "_view_name": "StyleView",
            "bar_color": null,
            "description_width": ""
          }
        },
        "ee06dac8ad4c4daea87b3ee0513d6df5": {
          "model_module": "@jupyter-widgets/base",
          "model_name": "LayoutModel",
          "model_module_version": "1.2.0",
          "state": {
            "_model_module": "@jupyter-widgets/base",
            "_model_module_version": "1.2.0",
            "_model_name": "LayoutModel",
            "_view_count": null,
            "_view_module": "@jupyter-widgets/base",
            "_view_module_version": "1.2.0",
            "_view_name": "LayoutView",
            "align_content": null,
            "align_items": null,
            "align_self": null,
            "border": null,
            "bottom": null,
            "display": null,
            "flex": null,
            "flex_flow": null,
            "grid_area": null,
            "grid_auto_columns": null,
            "grid_auto_flow": null,
            "grid_auto_rows": null,
            "grid_column": null,
            "grid_gap": null,
            "grid_row": null,
            "grid_template_areas": null,
            "grid_template_columns": null,
            "grid_template_rows": null,
            "height": null,
            "justify_content": null,
            "justify_items": null,
            "left": null,
            "margin": null,
            "max_height": null,
            "max_width": null,
            "min_height": null,
            "min_width": null,
            "object_fit": null,
            "object_position": null,
            "order": null,
            "overflow": null,
            "overflow_x": null,
            "overflow_y": null,
            "padding": null,
            "right": null,
            "top": null,
            "visibility": null,
            "width": null
          }
        },
        "7188403f1ed041549dc98442d61e9459": {
          "model_module": "@jupyter-widgets/controls",
          "model_name": "DescriptionStyleModel",
          "model_module_version": "1.5.0",
          "state": {
            "_model_module": "@jupyter-widgets/controls",
            "_model_module_version": "1.5.0",
            "_model_name": "DescriptionStyleModel",
            "_view_count": null,
            "_view_module": "@jupyter-widgets/base",
            "_view_module_version": "1.2.0",
            "_view_name": "StyleView",
            "description_width": ""
          }
        }
      }
    }
  },
  "cells": [
    {
      "cell_type": "markdown",
      "metadata": {
        "id": "3NAyKlyGxHT9"
      },
      "source": [
        "# PyTorch Tutorial - Neural Networks\n",
        "Prof. Dorien Herremans, with many thanks to Nelson Lui for the base text. "
      ]
    },
    {
      "cell_type": "markdown",
      "metadata": {
        "id": "oZnM_yfCBz6P"
      },
      "source": [
        "**To edit the notebook**:\n",
        "\n",
        "There are two ways to edit the notebook.\n",
        "\n",
        "You can either open it in the \"playground\", where you can change and run cells. After closing the tab, your changes will be lost. To do so, press \"File\" > \"Open in playground\".\n",
        "\n",
        "Alternatively, you can make a copy of this notebook to your own Google Drive account through \"File\" > \"Save a copy in Drive...\""
      ]
    },
    {
      "cell_type": "markdown",
      "metadata": {
        "id": "kK-sJIRG6BLp"
      },
      "source": [
        "**Activating the GPU on Colab**:\n",
        "\n",
        "Colab now gives you 12 hours of free GPU time (before you have to request a new node).\n",
        "Simply select \"GPU\" in the Accelerator drop-down in Notebook Settings (either through the Edit menu or the command palette at cmd/ctrl-shift-P)."
      ]
    },
    {
      "cell_type": "markdown",
      "metadata": {
        "id": "mgs23T03xBK7"
      },
      "source": [
        "# Setting up the notebook on colab\n",
        "\n",
        "Let's check if we are using the GPU environment and cuda is installed: "
      ]
    },
    {
      "cell_type": "code",
      "metadata": {
        "colab": {
          "base_uri": "https://localhost:8080/"
        },
        "id": "kig3C9d9D-kA",
        "outputId": "287d4933-8a2b-459e-d1f5-cb63de9451ca"
      },
      "source": [
        "# Import PyTorch and other libraries\n",
        "import torch\n",
        "import numpy as np\n",
        "from tqdm import tqdm\n",
        "\n",
        "print(\"PyTorch version:\")\n",
        "print(torch.__version__)\n",
        "print(\"GPU Detected:\")\n",
        "print(torch.cuda.is_available())\n",
        "\n",
        "#defining a shortcut function for later:\n",
        "import os\n",
        "using_GPU = os.path.exists('/opt/bin/nvidia-smi')"
      ],
      "execution_count": null,
      "outputs": [
        {
          "output_type": "stream",
          "name": "stdout",
          "text": [
            "PyTorch version:\n",
            "1.9.0+cu102\n",
            "GPU Detected:\n",
            "True\n"
          ]
        }
      ]
    },
    {
      "cell_type": "markdown",
      "metadata": {
        "id": "IE8RE8n5cUmJ"
      },
      "source": [
        "# Computation Graphs"
      ]
    },
    {
      "cell_type": "markdown",
      "metadata": {
        "id": "I00992FzWysI"
      },
      "source": [
        "A computation graph is simply a way to define a sequence of operations to go from input to model output. \n",
        "\n",
        "You can think of the nodes in the graph as representing operations, and the edges in the graph represent tensors going in and out.\n",
        "\n",
        "For example, say we wanted to build a linear regression model. This has the form $\\hat y = Wx + b$. \n",
        "\n",
        "In this equation, $x$ is our input, $W$ is a learned weight matrix, $b$ is a learned bias, and $\\hat y$ is the predicted output. \n",
        "\n",
        "As a computation graph, this looks like:\n",
        "\n",
        "![Linear Regression Computation Graph](https://imgur.com/IcBhTjS.png)\n",
        "\n",
        "When implementing deep learning models, you're basically designing and specifying computation graphs. It's a bit like playing with Legos in that you're stringing together a bunch of blocks (the operations) to achieve a final desired output."
      ]
    },
    {
      "cell_type": "markdown",
      "metadata": {
        "id": "5d2nO7nFW6vj"
      },
      "source": [
        "# The building blocks of deep learning models\n",
        "\n",
        "`torch.nn` makes it easy to build neural nets by providing functions for specifying arbitrary computation graphs and abstractions for putting them all together. We'll start by covering a few classes in the `torch.nn` module that form basic building blocks of many deep learning applications.\n",
        "\n",
        "The classes below are all callable, so you can use them with `outputs = YourDeepLearningBlock(its_inputs)`"
      ]
    },
    {
      "cell_type": "code",
      "metadata": {
        "id": "_jzL24p4YHeT"
      },
      "source": [
        "import torch.nn as nn\n",
        "import torch.nn.functional as F\n",
        "from torch.autograd import Variable"
      ],
      "execution_count": null,
      "outputs": []
    },
    {
      "cell_type": "markdown",
      "metadata": {
        "id": "4UAYmVadXZzM"
      },
      "source": [
        "## Linear Layers (Affine Transforms)\n",
        "\n",
        "A linear layer (also known as an affine transform) defines a function:\n",
        "\n",
        "$$f(x) = Wx + b$$\n",
        "\n",
        "This linear transform is a core part of deep learning. $W$ and $b$ are the parameters of this layer, where $W$ is a learned weight matrix and $b$ is a learned bias vector.\n",
        "\n",
        "`nn.Linear()` takes two construction parameters: the dimensionality of the input and the dimensionality of the desired output."
      ]
    },
    {
      "cell_type": "code",
      "metadata": {
        "colab": {
          "base_uri": "https://localhost:8080/"
        },
        "id": "vGzhJV4rYEI6",
        "outputId": "a1efb33a-e4e2-423e-867f-d3d17d924430"
      },
      "source": [
        "# Create a Linear layer. Input should have 5 dimensions, output will have 3.\n",
        "lin = nn.Linear(5, 3)\n",
        "# Data is a matrix of shape (2, 5). Can we use the linear layer on it?\n",
        "data = torch.randn(2, 5)\n",
        "\n",
        "# Yes! Running the data matrix through the layer outputs shape (2, 3).\n",
        "print(lin(data))"
      ],
      "execution_count": null,
      "outputs": [
        {
          "output_type": "stream",
          "name": "stdout",
          "text": [
            "tensor([[ 0.3422, -0.7592, -0.1219],\n",
            "        [-0.0089, -0.7833,  0.2338]], grad_fn=<AddmmBackward>)\n"
          ]
        }
      ]
    },
    {
      "cell_type": "code",
      "metadata": {
        "colab": {
          "base_uri": "https://localhost:8080/"
        },
        "id": "qK_mOB6oZWZ8",
        "outputId": "c7327f2a-7fd2-430c-8a3b-1cfd2a5e1cc0"
      },
      "source": [
        "# What about a matrix of shape (2, 4, 5)?\n",
        "data = torch.randn(2, 4, 5)\n",
        "# This works as well! As long as the last dimension is the specified\n",
        "# input dimension to the Linear layer, you're good.\n",
        "# Output shape: (2, 4, 3)\n",
        "print(lin(data))"
      ],
      "execution_count": null,
      "outputs": [
        {
          "output_type": "stream",
          "name": "stdout",
          "text": [
            "tensor([[[ 0.3514, -1.1524, -0.1976],\n",
            "         [-0.4204, -0.4022,  0.1193],\n",
            "         [-0.4594,  0.0822,  0.3247],\n",
            "         [-0.1488,  0.9246,  0.6199]],\n",
            "\n",
            "        [[-0.3879,  0.6701, -0.0313],\n",
            "         [-0.4964,  0.0262,  0.0052],\n",
            "         [-0.0078,  1.0672,  1.0633],\n",
            "         [-0.1704, -0.3994,  0.3941]]], grad_fn=<AddBackward0>)\n"
          ]
        }
      ]
    },
    {
      "cell_type": "code",
      "metadata": {
        "id": "qTv_DwVnZywZ"
      },
      "source": [
        "# But (5, 2) is an incompatible shape (uncomment and run to see error)\n",
        "data = torch.randn(5, 2)\n",
        "# print(lin(data))"
      ],
      "execution_count": null,
      "outputs": []
    },
    {
      "cell_type": "code",
      "metadata": {
        "colab": {
          "base_uri": "https://localhost:8080/"
        },
        "id": "Q07tNHV4aGhw",
        "outputId": "df4c76d0-7a77-40de-a860-b7c27dcca5a3"
      },
      "source": [
        "# But we can transpose it using t()!\n",
        "# Now its shape (2, 5) and all is fine.\n",
        "print(lin(data.t()))"
      ],
      "execution_count": null,
      "outputs": [
        {
          "output_type": "stream",
          "name": "stdout",
          "text": [
            "tensor([[-0.1411, -0.3461,  0.4740],\n",
            "        [-0.0045,  0.4013,  0.2197]], grad_fn=<AddmmBackward>)\n"
          ]
        }
      ]
    },
    {
      "cell_type": "markdown",
      "metadata": {
        "id": "7ObbNWGsaR60"
      },
      "source": [
        "## Nonlinearities / Activation Functions\n",
        "\n",
        "Since composing linear transformations gives you a linear transformation, we don't gain any representational power by just chaining `Linear` layers.\n",
        "\n",
        "In deep learning, we add nonlinearities after our Linear transforms, which lets us build more powerful models.\n",
        "\n",
        "PyTorch comes with a veritable zoo of nonlinearities."
      ]
    },
    {
      "cell_type": "code",
      "metadata": {
        "colab": {
          "base_uri": "https://localhost:8080/"
        },
        "id": "L0Of7Zc7bZoO",
        "outputId": "c85248e1-6800-4e94-cded-711f262f9447"
      },
      "source": [
        "data = torch.randn(2, 3)\n",
        "print(data)\n",
        "\n",
        "# Nonlinearities are layers too!\n",
        "relu = nn.ReLU()\n",
        "print(relu)\n",
        "print(relu(data))\n",
        "\n",
        "tanh = nn.Tanh()\n",
        "print(tanh)\n",
        "print(tanh(data))\n",
        "\n",
        "sigmoid = nn.Sigmoid()\n",
        "print(sigmoid)\n",
        "print(sigmoid(data))"
      ],
      "execution_count": null,
      "outputs": [
        {
          "output_type": "stream",
          "name": "stdout",
          "text": [
            "tensor([[-0.3331,  0.9188, -0.0262],\n",
            "        [ 0.3773, -0.6585, -1.2296]])\n",
            "ReLU()\n",
            "tensor([[0.0000, 0.9188, 0.0000],\n",
            "        [0.3773, 0.0000, 0.0000]])\n",
            "Tanh()\n",
            "tensor([[-0.3213,  0.7253, -0.0262],\n",
            "        [ 0.3603, -0.5773, -0.8425]])\n",
            "Sigmoid()\n",
            "tensor([[0.4175, 0.7148, 0.4935],\n",
            "        [0.5932, 0.3411, 0.2263]])\n"
          ]
        }
      ]
    },
    {
      "cell_type": "markdown",
      "metadata": {
        "id": "P6LvhuQ5cAA0"
      },
      "source": [
        "If you'd prefer to not create a class for the nonlinearity, you can also call it functionally as below:"
      ]
    },
    {
      "cell_type": "code",
      "metadata": {
        "colab": {
          "base_uri": "https://localhost:8080/"
        },
        "id": "8FC3JGzCa7nT",
        "outputId": "4c1c81cd-0d7e-4c4f-a638-08c7661d3045"
      },
      "source": [
        "data = torch.randn(2, 3)\n",
        "print(data)\n",
        "\n",
        "# Nonlinearities can also be used functionally, with no need to create a class!\n",
        "print(\"ReLu:\")\n",
        "print(torch.relu(data))\n",
        "\n",
        "print(\"tanh:\")\n",
        "print(torch.tanh(data))\n",
        "\n",
        "print(\"Sigmoid:\")\n",
        "print(torch.sigmoid(data))"
      ],
      "execution_count": null,
      "outputs": [
        {
          "output_type": "stream",
          "name": "stdout",
          "text": [
            "tensor([[0.6311, 1.2757, 1.7403],\n",
            "        [0.6475, 0.6180, 1.2930]])\n",
            "ReLu:\n",
            "tensor([[0.6311, 1.2757, 1.7403],\n",
            "        [0.6475, 0.6180, 1.2930]])\n",
            "tanh:\n",
            "tensor([[0.5588, 0.8553, 0.9403],\n",
            "        [0.5700, 0.5498, 0.8599]])\n",
            "Sigmoid:\n",
            "tensor([[0.6527, 0.7817, 0.8507],\n",
            "        [0.6564, 0.6498, 0.7847]])\n"
          ]
        }
      ]
    },
    {
      "cell_type": "markdown",
      "metadata": {
        "id": "609lvRL3cecR"
      },
      "source": [
        "## Dropout\n",
        "\n",
        "Dropout is used to regularize our models by randomly setting some outputs to 0. \n",
        "\n",
        "This helps to prevent overfitting by encouraging the model to look beyond specific spurious patterns and find features that generalize.\n",
        "\n",
        "**Note that we should only apply dropout during training!**"
      ]
    },
    {
      "cell_type": "code",
      "metadata": {
        "colab": {
          "base_uri": "https://localhost:8080/"
        },
        "id": "62Tot0pNc8co",
        "outputId": "9b5720cc-39fa-482c-e2db-5ff9bdaf33e6"
      },
      "source": [
        "data = torch.randn(2, 3)\n",
        "print(data)\n",
        "\n",
        "# Create a Dropout layer and call it on input\n",
        "# Here, the probability of zeroing an element is 0.5\n",
        "dropout = nn.Dropout(0.5)\n",
        "print(dropout)\n",
        "print(dropout(data))\n",
        "\n",
        "# Use dropout functionally, training=False by default so no change.\n",
        "print(\"Functional dropout, training=False\")\n",
        "print(F.dropout(data, 0.5, training=False))\n",
        "\n",
        "# Set training=True, so things are dropped out\n",
        "print(\"Functional dropout, training=True\")\n",
        "print(F.dropout(data, 0.5, training=True))"
      ],
      "execution_count": null,
      "outputs": [
        {
          "output_type": "stream",
          "name": "stdout",
          "text": [
            "tensor([[ 0.0532,  1.8771,  0.6992],\n",
            "        [-0.4105,  1.1192, -0.7046]])\n",
            "Dropout(p=0.5, inplace=False)\n",
            "tensor([[ 0.1065,  3.7542,  0.0000],\n",
            "        [-0.8210,  0.0000, -0.0000]])\n",
            "Functional dropout, training=False\n",
            "tensor([[ 0.0532,  1.8771,  0.6992],\n",
            "        [-0.4105,  1.1192, -0.7046]])\n",
            "Functional dropout, training=True\n",
            "tensor([[ 0.1065,  3.7542,  0.0000],\n",
            "        [-0.8210,  0.0000, -1.4092]])\n"
          ]
        }
      ]
    },
    {
      "cell_type": "markdown",
      "metadata": {
        "id": "GgQUlcmfeQum"
      },
      "source": [
        "## RNNs (LSTMs / GRUs in particular) \n",
        "\n",
        "RNNs encode a sequence of vectors as another sequence of vectors --- generally you take the final output as a representation of the input sequence. They're powerful models for sequential data, and thus they're very popular in NLP. Their API takes a tensor of shape `(sequence length, batch size, dim)` if `batch_first=False` (default) and `(batch size, sequence length, dim)` if `batch_first=True`."
      ]
    },
    {
      "cell_type": "code",
      "metadata": {
        "colab": {
          "base_uri": "https://localhost:8080/"
        },
        "id": "ghk-BcDbe1XY",
        "outputId": "f579c935-2703-4d41-8d39-c9be7811a613"
      },
      "source": [
        "# Some batch-first data. Batch size is 2, sequence length is 3, \n",
        "# and length of each feature vector is 4.\n",
        "data = torch.randn(2, 3, 4)\n",
        "\n",
        "input_size = 4\n",
        "hidden_dim = 5\n",
        "# Create a LSTM RNN with hidden dim of 5\n",
        "# batch_first=True since semantics of shape is\n",
        "# (batch_size, sequence_length, num_features)\n",
        "lstm = nn.LSTM(input_size, hidden_dim, batch_first=True)\n",
        "\n",
        "\n",
        "lstm_output_tuple = lstm(data)\n",
        "print(type(lstm_output_tuple))\n",
        "\n",
        "lstm_output, (lstm_hidden_state, lstm_cell_state) = lstm_output_tuple\n",
        "print(\"LSTM Outputs: \")\n",
        "print(lstm_output)\n",
        "\n",
        "print(\"Final LSTM Output: \")\n",
        "print(lstm_output[:, -1])\n",
        "\n",
        "print(\"LSTM Hidden State: \")\n",
        "print(lstm_hidden_state)\n",
        "\n",
        "print(\"LSTM Cell State: \")\n",
        "print(lstm_cell_state)"
      ],
      "execution_count": null,
      "outputs": [
        {
          "output_type": "stream",
          "name": "stdout",
          "text": [
            "<class 'tuple'>\n",
            "LSTM Outputs: \n",
            "tensor([[[ 2.9769e-02, -9.8905e-03, -1.1061e-01,  3.4861e-02,  1.7674e-01],\n",
            "         [-2.5880e-04,  3.1721e-03, -1.6033e-01,  1.8351e-02,  1.1251e-01],\n",
            "         [ 2.3561e-02, -4.0200e-02, -9.2511e-02,  8.6973e-02,  2.0759e-01]],\n",
            "\n",
            "        [[-3.6957e-02,  3.4543e-02, -2.6316e-01, -8.9367e-02, -1.6820e-02],\n",
            "         [-1.5898e-02,  7.1342e-02, -8.3923e-02, -3.8104e-03,  1.4923e-01],\n",
            "         [ 3.0621e-02,  1.0854e-01, -2.8008e-01, -4.5898e-02,  1.7132e-01]]],\n",
            "       grad_fn=<TransposeBackward0>)\n",
            "Final LSTM Output: \n",
            "tensor([[ 0.0236, -0.0402, -0.0925,  0.0870,  0.2076],\n",
            "        [ 0.0306,  0.1085, -0.2801, -0.0459,  0.1713]],\n",
            "       grad_fn=<SelectBackward>)\n",
            "LSTM Hidden State: \n",
            "tensor([[[ 0.0236, -0.0402, -0.0925,  0.0870,  0.2076],\n",
            "         [ 0.0306,  0.1085, -0.2801, -0.0459,  0.1713]]],\n",
            "       grad_fn=<StackBackward>)\n",
            "LSTM Cell State: \n",
            "tensor([[[ 0.0355, -0.0576, -0.4265,  0.1919,  0.3796],\n",
            "         [ 0.0684,  0.1617, -0.4780, -0.0968,  0.4027]]],\n",
            "       grad_fn=<StackBackward>)\n"
          ]
        }
      ]
    },
    {
      "cell_type": "markdown",
      "metadata": {
        "id": "RZNnUJcrU2r2"
      },
      "source": [
        "# Structuring PyTorch models\n",
        "\n",
        "At the highest level, `nn.Module` defines what most would refer to as a \"model\". It's a convenient way for encapsulating the trainable parameters of a model or a component of your model, and subclassing this class gives you Python functions for moving your model to the GPU, saving it, loading it etc.\n",
        "\n",
        "When you're building your own model, you're going to subclass `nn.Module`. Critically, you also need to override the `__init__()` and `forward()` functions.\n",
        "\n",
        "*   In `__init__()`, you should take arguments that modify how the model runs (e.g. # of layers, # of hidden units, output sizes). You'll also set up most of the layers that you use in the forward pass here.\n",
        "*   In `forward()`, you define the \"forward pass\" of your model, or the operations needed to transform input to output. **You can use any of the Tensor operations in the forward pass.**\n",
        "\n"
      ]
    },
    {
      "cell_type": "markdown",
      "metadata": {
        "id": "goB1WdBQ3TKd"
      },
      "source": [
        "### Feed-forward neural net\n",
        "\n",
        "To improve upon the logistic regression model we saw last week, we can add some intermediate layers (called hidden layers), nonlinearities, and dropout for regularization. This is essentially a multi-layer feed forward neural net, and it's implementation as a module is outlined below:"
      ]
    },
    {
      "cell_type": "code",
      "metadata": {
        "id": "dXe9xPrn3zSK"
      },
      "source": [
        "class FeedForwardNN(nn.Module):\n",
        "  # input_size: Dimensionality of input feature vector.\n",
        "  # num_classes: The number of classes in the classification problem.\n",
        "  # num_hidden: The number of hidden (intermediate) layers to use.\n",
        "  # hidden_dim: The size of each of the hidden layers.\n",
        "  # dropout: The proportion of units to drop out after each layer.\n",
        "  def __init__(self, input_size, num_classes, num_hidden, hidden_dim, dropout):\n",
        "    # Always call the superclass (nn.Module) constructor first!\n",
        "    super(FeedForwardNN, self).__init__()\n",
        "    \n",
        "    # Set up the hidden layers.\n",
        "    assert num_hidden > 0\n",
        "    # A special ModuleList to store our hidden layers.\n",
        "    self.hidden_layers = nn.ModuleList([])\n",
        "    # First hidden layer maps from input_size -> num_hidden.\n",
        "    self.hidden_layers.append(nn.Linear(input_size, hidden_dim))\n",
        "    # Subsequent hidden layers map from num_hidden -> num_hidden.\n",
        "    # Note that they can map to any dimensionality --- as long as the final\n",
        "    # output is a distribution over your classes!\n",
        "    for i in range(num_hidden - 1):\n",
        "      self.hidden_layers.append(nn.Linear(hidden_dim, hidden_dim))\n",
        "    \n",
        "    # Set up the dropout layer.\n",
        "    self.dropout = nn.Dropout(dropout)\n",
        "    \n",
        "    # Set up the final transform to a distribution over classes.\n",
        "    self.output_projection = nn.Linear(hidden_dim, num_classes)\n",
        "    \n",
        "    # Set up the nonlinearity to use between layers.\n",
        "    self.nonlinearity = nn.ReLU()\n",
        "    \n",
        "  # Forward's sole argument is the input.\n",
        "  # input is of shape (batch_size, input_size)\n",
        "  def forward(self, x):\n",
        "    # Apply the hidden layers, nonlinearity, and dropout.\n",
        "    for hidden_layer in self.hidden_layers:\n",
        "      x = hidden_layer(x)\n",
        "      x = self.dropout(x)\n",
        "      x = self.nonlinearity(x)\n",
        "      \n",
        "    # Output layer: project x to a distribution over classes.\n",
        "    out = self.output_projection(x)\n",
        "    \n",
        "    # Softmax the out tensor to get a log-probability distribution\n",
        "    # over classes for each example.\n",
        "    out_distribution = F.log_softmax(out, dim=-1)\n",
        "    return out_distribution"
      ],
      "execution_count": null,
      "outputs": []
    },
    {
      "cell_type": "markdown",
      "metadata": {
        "id": "c_oWVoYX6IJo"
      },
      "source": [
        "# Training PyTorch models: Losses and Optimizers\n",
        "\n",
        "By now, we've learned how to construct models in PyTorch. In this section, we'll go over how to calculate your model's loss and how to optimize the parameters to minimize the loss."
      ]
    },
    {
      "cell_type": "markdown",
      "metadata": {
        "id": "R-FcsSK266VJ"
      },
      "source": [
        "## Loss Functions\n",
        "\n",
        "Intuitively, loss functions serve to tell your model how poorly it's doing --- the purpose of training is to adjust the weights of our model to minimize the loss.\n",
        "\n",
        "A loss function takes a true output $y$ and a model-predicted output $\\hat y$ and calculates the loss. If $y = \\hat y$, our model produced the correct output and thus our loss is 0. The further our predicted $\\hat y$ from the true $y$, the higher our loss is.\n",
        "\n",
        "PyTorch comes with a large collection of loss functions. The most commonly used loss for classification is negative log likelihood (`nn.NLLLoss` or the very related `nn.CrossEntropyLoss`). The difference between `nn.NLLLoss` and `nn.CrossEntropyLoss` for classification problems is that `nn.NLLLoss` expects the output to be log-softmax normalized, which is easy to do with the `nn.LogSoftmax` layer. On the other hand `nn.CrossEntropyLoss`, automatically applies the log-softmax --- you can think of it as `nn.LogSoftmax` + `nn.NLLLoss`. Which to use depends on whether you want to add the extra `nn.LogSoftmax` to your model's `forward()`.\n",
        "\n",
        "A common loss used for regression problems is the mean squared error (`nn.MSELoss`)."
      ]
    },
    {
      "cell_type": "markdown",
      "metadata": {
        "id": "VfdPEetZARPk"
      },
      "source": [
        "Here's a usage example of the `CrossEntropyLoss`."
      ]
    },
    {
      "cell_type": "code",
      "metadata": {
        "colab": {
          "base_uri": "https://localhost:8080/"
        },
        "id": "jHP6WENd9ql4",
        "outputId": "8d3b7722-82f3-48fe-88ff-b893ab1d2e48"
      },
      "source": [
        "# 3 examples, unnormalized scores over 4 classes.\n",
        "model_output = torch.rand(3, 4, requires_grad = True)\n",
        "\n",
        "# The correct labels.\n",
        "targets = torch.LongTensor([1, 0, 3])\n",
        "\n",
        "# CrossEntropyLoss\n",
        "cross_entropy = nn.CrossEntropyLoss()\n",
        "# Loss, averaged across all 3 batch elements.\n",
        "# Can call this functionally: avg_loss = F.cross_entropy(model_output, targets)\n",
        "avg_loss = cross_entropy(model_output, targets)\n",
        "print(\"CrossEntropyLoss averaged across all 3 batch elements:\")\n",
        "print(avg_loss)\n",
        "\n",
        "# Backpropagate wrt avg_loss\n",
        "avg_loss.backward()\n",
        "# Print out the gradients of model_output\n",
        "print(\"Gradients of model_output\")\n",
        "print(model_output.grad)"
      ],
      "execution_count": null,
      "outputs": [
        {
          "output_type": "stream",
          "name": "stdout",
          "text": [
            "CrossEntropyLoss averaged across all 3 batch elements:\n",
            "tensor(1.3474, grad_fn=<NllLossBackward>)\n",
            "Gradients of model_output\n",
            "tensor([[ 0.0783, -0.2271,  0.0716,  0.0772],\n",
            "        [-0.2435,  0.0707,  0.0532,  0.1196],\n",
            "        [ 0.0569,  0.0801,  0.1281, -0.2652]])\n"
          ]
        }
      ]
    },
    {
      "cell_type": "markdown",
      "metadata": {
        "id": "VALpI3evA2H-"
      },
      "source": [
        "And here's a snippet showing that `LogSoftmax` + `NLLLoss` is the same as `CrossEntropyLoss`."
      ]
    },
    {
      "cell_type": "code",
      "metadata": {
        "colab": {
          "base_uri": "https://localhost:8080/"
        },
        "id": "lLB3icyzA1bv",
        "outputId": "4b9ce632-f9bb-44dd-d0b8-e985ee5b77cb"
      },
      "source": [
        "nll = nn.NLLLoss()\n",
        "log_softmax_model_output = F.log_softmax(model_output, dim=-1)\n",
        "# Loss, averaged across all 3 batch elements.\n",
        "# Can call this functionally: avg_loss = F.nll_loss(model_output, targets)\n",
        "avg_loss = nll(log_softmax_model_output, targets)\n",
        "print(\"Negative-Log Likelihood averaged across all 3 batch elements:\")\n",
        "print(avg_loss)"
      ],
      "execution_count": null,
      "outputs": [
        {
          "output_type": "stream",
          "name": "stdout",
          "text": [
            "Negative-Log Likelihood averaged across all 3 batch elements:\n",
            "tensor(1.3474, grad_fn=<NllLossBackward>)\n"
          ]
        }
      ]
    },
    {
      "cell_type": "markdown",
      "metadata": {
        "id": "6C4np6TBEToZ"
      },
      "source": [
        "## Optimizers\n",
        "\n",
        "Now that we can calculate the loss and backpropagate through our model (with `.backward()`), we can update the weights and try to reduce the loss!\n",
        "\n",
        "PyTorch includes a variety of optimizers that do exactly this, from the standard SGD to more recent techniques like Adam and RMSProp.\n",
        "\n",
        "At construction, PyTorch parameters take the parameters to optimize. When we run an input through our model, calculate the loss, and backpropagate, the gradients are automatically stored in the parameters (since they're all `Variables`). With these gradients, the optimizer can update the weights.\n",
        "\n",
        "Optimizers live in the `torch.optim` module."
      ]
    },
    {
      "cell_type": "code",
      "metadata": {
        "id": "FSWQMLFIPqNt"
      },
      "source": [
        "import torch.optim as optim"
      ],
      "execution_count": null,
      "outputs": []
    },
    {
      "cell_type": "markdown",
      "metadata": {
        "id": "zMNBP65mKvNY"
      },
      "source": [
        "To get the parameters of our model, we can just call `.parameters()` on a `Module`. Below, we create an instance of our previously-defined feed forward neural network and get its parameters."
      ]
    },
    {
      "cell_type": "code",
      "metadata": {
        "colab": {
          "base_uri": "https://localhost:8080/"
        },
        "id": "e0s6-Y6LKurn",
        "outputId": "8c82ee50-eb74-431d-ef0f-26f7cea1ff54"
      },
      "source": [
        "input_size = 784\n",
        "num_classes = 10\n",
        "num_hidden = 2\n",
        "hidden_dim = 50\n",
        "dropout = 0.2\n",
        "ffnn_clf = FeedForwardNN(input_size, num_classes, num_hidden, \n",
        "                         hidden_dim, dropout)\n",
        "print(ffnn_clf)\n",
        "\n",
        "parameters = ffnn_clf.parameters()\n",
        "\n",
        "print(\"Shapes of model parameters:\")\n",
        "print([x.size() for x in list(parameters)])"
      ],
      "execution_count": null,
      "outputs": [
        {
          "output_type": "stream",
          "name": "stdout",
          "text": [
            "FeedForwardNN(\n",
            "  (hidden_layers): ModuleList(\n",
            "    (0): Linear(in_features=784, out_features=50, bias=True)\n",
            "    (1): Linear(in_features=50, out_features=50, bias=True)\n",
            "  )\n",
            "  (dropout): Dropout(p=0.2, inplace=False)\n",
            "  (output_projection): Linear(in_features=50, out_features=10, bias=True)\n",
            "  (nonlinearity): ReLU()\n",
            ")\n",
            "Shapes of model parameters:\n",
            "[torch.Size([50, 784]), torch.Size([50]), torch.Size([50, 50]), torch.Size([50]), torch.Size([10, 50]), torch.Size([10])]\n"
          ]
        }
      ]
    },
    {
      "cell_type": "markdown",
      "metadata": {
        "id": "SmnL2QaEPcu5"
      },
      "source": [
        "Now to create an optimizer for this model, we construct a optimizer class and pass it the parameters of the model: stochastic gradient descend."
      ]
    },
    {
      "cell_type": "code",
      "metadata": {
        "id": "_eUwD2d1PizL"
      },
      "source": [
        "ffnn_optim = optim.SGD(ffnn_clf.parameters(), lr=0.5)"
      ],
      "execution_count": null,
      "outputs": []
    },
    {
      "cell_type": "markdown",
      "metadata": {
        "id": "O0LwAANLQUe8"
      },
      "source": [
        "Let's try using our optimizer to take a gradient update on our model! We'll generate a few random examples, and run them through our model (the forward pass)."
      ]
    },
    {
      "cell_type": "code",
      "metadata": {
        "colab": {
          "base_uri": "https://localhost:8080/"
        },
        "id": "6SHk4heLQk3a",
        "outputId": "b450b819-8c6b-4a57-f307-11682070755f"
      },
      "source": [
        "# Make some fake data for our model.\n",
        "# 5 examples in the batch, each example has 784 features.\n",
        "sample_input = torch.randn(5, 784)\n",
        "# Multilabel classification, 10 possible classes.\n",
        "sample_labels = torch.LongTensor([0, 3, 9, 6, 2])\n",
        "\n",
        "# Run the sample_input through ffnn_clf to get a distribution\n",
        "# over our classes\n",
        "sample_predictions = ffnn_clf(sample_input)\n",
        "print(\"Predicted distribution over classes: \")\n",
        "print(sample_predictions)\n",
        "print(\"Target Labels:\")\n",
        "print(sample_labels)"
      ],
      "execution_count": null,
      "outputs": [
        {
          "output_type": "stream",
          "name": "stdout",
          "text": [
            "Predicted distribution over classes: \n",
            "tensor([[-2.2545, -2.5274, -2.1658, -2.2750, -2.0562, -2.5193, -2.1092, -2.2086,\n",
            "         -2.5454, -2.5299],\n",
            "        [-2.0585, -2.5224, -2.2487, -2.0574, -2.0912, -2.6316, -2.3053, -2.3499,\n",
            "         -2.7078, -2.2881],\n",
            "        [-2.1625, -2.5560, -2.1374, -2.2922, -1.8532, -2.5909, -2.2515, -2.4512,\n",
            "         -2.4567, -2.5321],\n",
            "        [-2.2233, -2.5122, -2.2647, -2.2382, -2.1421, -2.4175, -2.1810, -2.2757,\n",
            "         -2.4291, -2.4099],\n",
            "        [-2.3716, -2.5348, -2.1398, -2.4161, -2.2151, -2.3489, -2.2649, -2.1467,\n",
            "         -2.3158, -2.3391]], grad_fn=<LogSoftmaxBackward>)\n",
            "Target Labels:\n",
            "tensor([0, 3, 9, 6, 2])\n"
          ]
        }
      ]
    },
    {
      "cell_type": "markdown",
      "metadata": {
        "id": "Ek8IxTtjS8vn"
      },
      "source": [
        "Now let's calculate the loss of our model on these examples."
      ]
    },
    {
      "cell_type": "code",
      "metadata": {
        "colab": {
          "base_uri": "https://localhost:8080/"
        },
        "id": "cmFz2EiBS_u7",
        "outputId": "a16d54e7-b89b-42cc-ce3a-6776803c89bf"
      },
      "source": [
        "nll_loss = F.nll_loss(sample_predictions, sample_labels)\n",
        "print(\"Average NLL Loss:\")\n",
        "print(nll_loss)"
      ],
      "execution_count": null,
      "outputs": [
        {
          "output_type": "stream",
          "name": "stdout",
          "text": [
            "Average NLL Loss:\n",
            "tensor(2.2330, grad_fn=<NllLossBackward>)\n"
          ]
        }
      ]
    },
    {
      "cell_type": "markdown",
      "metadata": {
        "id": "_MVYKKL7TbiV"
      },
      "source": [
        "Let's print the gradients of one of the parameter matrices in our model, to ensure it's `None`. We haven't done backprop yet, so there shouldn't be any gradients."
      ]
    },
    {
      "cell_type": "code",
      "metadata": {
        "colab": {
          "base_uri": "https://localhost:8080/"
        },
        "id": "iuffHd7WTj6Z",
        "outputId": "76124ae6-da5b-4dc4-ac20-7c195859a6a8"
      },
      "source": [
        "print(list(ffnn_clf.parameters())[0].grad)"
      ],
      "execution_count": null,
      "outputs": [
        {
          "output_type": "stream",
          "name": "stdout",
          "text": [
            "None\n"
          ]
        }
      ]
    },
    {
      "cell_type": "markdown",
      "metadata": {
        "id": "m-P0XKUvTRqg"
      },
      "source": [
        "Now we can backpropagate with respect to the loss to calculate the gradients for the parameters of our model with `.backward()`. It's also good practice to call `optimizer.zero_grad()` before `loss.backwards()`, which ensures that the gradients are reset to 0 before backprop."
      ]
    },
    {
      "cell_type": "code",
      "metadata": {
        "id": "tcXTmYqlTQ8h"
      },
      "source": [
        "ffnn_optim.zero_grad()\n",
        "nll_loss.backward()"
      ],
      "execution_count": null,
      "outputs": []
    },
    {
      "cell_type": "markdown",
      "metadata": {
        "id": "UxBJRkWjTvir"
      },
      "source": [
        "Let's check our gradients now..."
      ]
    },
    {
      "cell_type": "code",
      "metadata": {
        "colab": {
          "base_uri": "https://localhost:8080/"
        },
        "id": "PAhrOjDyTxls",
        "outputId": "52cc83d8-6e7d-468d-9c11-9fef1161fbca"
      },
      "source": [
        "print(list(ffnn_clf.parameters())[0].grad)"
      ],
      "execution_count": null,
      "outputs": [
        {
          "output_type": "stream",
          "name": "stdout",
          "text": [
            "tensor([[ 0.0001, -0.0054,  0.0083,  ..., -0.0063,  0.0126,  0.0050],\n",
            "        [-0.0052, -0.0018,  0.0082,  ...,  0.0013,  0.0096,  0.0149],\n",
            "        [ 0.0008,  0.0020, -0.0032,  ..., -0.0004, -0.0005, -0.0005],\n",
            "        ...,\n",
            "        [-0.0104,  0.0412, -0.0163,  ...,  0.0211, -0.0289, -0.0118],\n",
            "        [-0.0184, -0.0013,  0.0138,  ...,  0.0239,  0.0068,  0.0286],\n",
            "        [-0.0048, -0.0074,  0.0105,  ...,  0.0082, -0.0026, -0.0001]])\n"
          ]
        }
      ]
    },
    {
      "cell_type": "markdown",
      "metadata": {
        "id": "r3vNshvNUELX"
      },
      "source": [
        "Now that we have gradients for each of our parameters, we can update them by using `optimizer.step()`."
      ]
    },
    {
      "cell_type": "code",
      "metadata": {
        "colab": {
          "base_uri": "https://localhost:8080/"
        },
        "id": "LBeoxxulUHj7",
        "outputId": "ab863ad8-30c4-476b-bd65-650753919ec3"
      },
      "source": [
        "# save the old value of the parameter for comparison later\n",
        "old_parameter = list(ffnn_clf.parameters())[0].data.clone()\n",
        "\n",
        "# Make a gradient update with our optimizer\n",
        "ffnn_optim.step()\n",
        "\n",
        "new_parameter = list(ffnn_clf.parameters())[0].data\n",
        "\n",
        "print(\"Difference between weight matrix before and after update:\")\n",
        "print(old_parameter - new_parameter)\n"
      ],
      "execution_count": null,
      "outputs": [
        {
          "output_type": "stream",
          "name": "stdout",
          "text": [
            "Difference between weight matrix before and after update:\n",
            "tensor([[ 7.1565e-05, -2.6815e-03,  4.1367e-03,  ..., -3.1483e-03,\n",
            "          6.2871e-03,  2.4757e-03],\n",
            "        [-2.6228e-03, -8.8140e-04,  4.0871e-03,  ...,  6.4754e-04,\n",
            "          4.8146e-03,  7.4408e-03],\n",
            "        [ 3.8175e-04,  1.0231e-03, -1.5954e-03,  ..., -2.0494e-04,\n",
            "         -2.4565e-04, -2.4037e-04],\n",
            "        ...,\n",
            "        [-5.1793e-03,  2.0580e-02, -8.1438e-03,  ...,  1.0560e-02,\n",
            "         -1.4464e-02, -5.9065e-03],\n",
            "        [-9.1909e-03, -6.3739e-04,  6.9241e-03,  ...,  1.1973e-02,\n",
            "          3.3942e-03,  1.4291e-02],\n",
            "        [-2.3809e-03, -3.7108e-03,  5.2369e-03,  ...,  4.1233e-03,\n",
            "         -1.3068e-03, -5.2616e-05]])\n"
          ]
        }
      ]
    },
    {
      "cell_type": "markdown",
      "metadata": {
        "id": "WCKZg7yUZban"
      },
      "source": [
        "If you're familiar with the SGD update rule, you know that:\n",
        "\n",
        "$$ \\theta^{t+1} = \\theta^{t} - \\left( \\eta \\cdot \\nabla L \\left(\\theta^{t} \\right) \\right)$$\n",
        "\n",
        "Where $\\theta^{t}$ is the weight at time $t$, $\\eta$ is the learning rate, $\\nabla L(\\theta^{t})$ is the gradient. Since $\\eta = 0.5$, it makes perfect sense that the difference between the weight vectors printed above is exactly half of the gradient."
      ]
    },
    {
      "cell_type": "markdown",
      "metadata": {
        "id": "r6M0pgwgcFk0"
      },
      "source": [
        "# Example: Classification on FashionMNIST\n",
        "\n",
        "Let's use the `FeedForwardNN` model we built earlier to do a simple classification task! This example is meant to be an annotated walkthrough of how to build, train, and evaluate a model in PyTorch. We'll use the [FashionMNIST dataset](https://github.com/zalandoresearch/fashion-mnist), where we are tasked with classifying black and white images of clothes into 10 different classes."
      ]
    },
    {
      "cell_type": "markdown",
      "metadata": {
        "id": "3Vw-6V7XhHs3"
      },
      "source": [
        "## Loading Data\n",
        "\n",
        "We'll start by loading the data with `torchvision` --- knowing how to use torchvision isn't the point of this tutorial, so it's relatively unannotated."
      ]
    },
    {
      "cell_type": "code",
      "metadata": {
        "id": "WgbJYcQRiG2A",
        "colab": {
          "base_uri": "https://localhost:8080/",
          "height": 594,
          "referenced_widgets": [
            "af04404c48f0448da8d4fde75e0ee09e",
            "faa031ad6d984ec8ae73d9ce481deff9",
            "8c88959eaa244976bf42a225aa2e3d02",
            "0ea2f16ab34f4c4e8ea5ea37b53c86fb",
            "14f2ac2551f94495b09bc420b519dad8",
            "7fca22b63daa40f3a38338f612327a26",
            "1065f7daee324997bfcfc3d21498e3d7",
            "53e548e344284171bd5067f65ef15ed3",
            "81e60699760b4ca084096ea286f607d8",
            "4f9100457e2d46649008e6313a4773e1",
            "5f49f083311b404bbda67f924a3d2051",
            "3af376f5845a4b6fb40fd81e70b3e8e3",
            "e3822885f6094c118344694b8ac56f6f",
            "8d138dd8a08d45e2a45552dcd814a35f",
            "fe516c2ddb7b4928b589e2c033ba8d5d",
            "7216ca8680344488ab62b1ede6577812",
            "8a441acfde3341b2accf0aa58798619b",
            "00372fb5c937404a96601da88308ce1e",
            "45e1f4e253114e40b90ec21da3cf0eef",
            "6f0141b5c95846b29a83af34f26c7d8b",
            "1c9e74bb5a274ad4a87d1f834044001a",
            "a796ed51530445e4b6198f1572a29782",
            "45b45a95d2804aae91636fec96d02180",
            "e19dbea088894cbab6b638d2b5228e89",
            "14e1c9cfdefa4c57a2ce8a9944bd50dc",
            "8ef827789f704b8898fa5f6bdc351ebd",
            "131a7335ff83412191f7628b2f54c35a",
            "524a0c917fc849d7b023ad1a91688233",
            "c69d7114c1714807853af91e6bbee0ce",
            "95f416ccc20246ceb714bb41d9819ee1",
            "d7526504f70946ab87535216bfc6c099",
            "2fa3c911138e4bf999dfa13334661a06",
            "a08a70f4dde6450ea367d134b4dec24e",
            "cd2109a656d544639b2ad5d228f2d26a",
            "52386c14dc4147278692437c76ed73c0",
            "0ed16376ef2c4157b963d0afb053200b",
            "44af88129c53464b90e6edda7014a067",
            "c919b572ac7d4489ab449ca111098582",
            "be374e156c4741f094355dc042a753f2",
            "f4d46eed03e0462a92ab59a705536dac",
            "e62ea647ec01408ab0b300fb4edd1369",
            "a3d3469cc7f5445da86c8a6666fe08fa",
            "ee06dac8ad4c4daea87b3ee0513d6df5",
            "7188403f1ed041549dc98442d61e9459"
          ]
        },
        "outputId": "4bd35627-b642-4acf-fce4-d02ce2760dae"
      },
      "source": [
        "!pip install torchvision==0.10.0 #note: you can find compatible torch/torchvision versions here: https://github.com/pytorch/vision#installation\n",
        "import torchvision\n",
        "from torchvision.datasets import FashionMNIST\n",
        "\n",
        "train_dataset = FashionMNIST(root='./torchvision-data', \n",
        "                             train=True, \n",
        "                             transform=torchvision.transforms.ToTensor(),\n",
        "                             download=True)\n",
        "\n",
        "test_dataset = FashionMNIST(root='./torchvision-data', train=False, \n",
        "                            transform=torchvision.transforms.ToTensor())"
      ],
      "execution_count": null,
      "outputs": [
        {
          "output_type": "stream",
          "name": "stdout",
          "text": [
            "Looking in indexes: https://pypi.org/simple, https://us-python.pkg.dev/colab-wheels/public/simple/, https://pypi.ngc.nvidia.com\n",
            "Requirement already satisfied: torchvision==0.10.0 in /usr/local/lib/python3.7/dist-packages (0.10.0)\n",
            "Requirement already satisfied: pillow>=5.3.0 in /usr/local/lib/python3.7/dist-packages (from torchvision==0.10.0) (7.1.2)\n",
            "Requirement already satisfied: torch==1.9.0 in /usr/local/lib/python3.7/dist-packages (from torchvision==0.10.0) (1.9.0)\n",
            "Requirement already satisfied: numpy in /usr/local/lib/python3.7/dist-packages (from torchvision==0.10.0) (1.21.6)\n",
            "Requirement already satisfied: typing-extensions in /usr/local/lib/python3.7/dist-packages (from torch==1.9.0->torchvision==0.10.0) (4.2.0)\n",
            "Downloading http://fashion-mnist.s3-website.eu-central-1.amazonaws.com/train-images-idx3-ubyte.gz\n",
            "Downloading http://fashion-mnist.s3-website.eu-central-1.amazonaws.com/train-images-idx3-ubyte.gz to ./torchvision-data/FashionMNIST/raw/train-images-idx3-ubyte.gz\n"
          ]
        },
        {
          "output_type": "display_data",
          "data": {
            "text/plain": [
              "  0%|          | 0/26421880 [00:00<?, ?it/s]"
            ],
            "application/vnd.jupyter.widget-view+json": {
              "version_major": 2,
              "version_minor": 0,
              "model_id": "af04404c48f0448da8d4fde75e0ee09e"
            }
          },
          "metadata": {}
        },
        {
          "output_type": "stream",
          "name": "stdout",
          "text": [
            "Extracting ./torchvision-data/FashionMNIST/raw/train-images-idx3-ubyte.gz to ./torchvision-data/FashionMNIST/raw\n",
            "\n",
            "Downloading http://fashion-mnist.s3-website.eu-central-1.amazonaws.com/train-labels-idx1-ubyte.gz\n",
            "Downloading http://fashion-mnist.s3-website.eu-central-1.amazonaws.com/train-labels-idx1-ubyte.gz to ./torchvision-data/FashionMNIST/raw/train-labels-idx1-ubyte.gz\n"
          ]
        },
        {
          "output_type": "display_data",
          "data": {
            "text/plain": [
              "  0%|          | 0/29515 [00:00<?, ?it/s]"
            ],
            "application/vnd.jupyter.widget-view+json": {
              "version_major": 2,
              "version_minor": 0,
              "model_id": "3af376f5845a4b6fb40fd81e70b3e8e3"
            }
          },
          "metadata": {}
        },
        {
          "output_type": "stream",
          "name": "stdout",
          "text": [
            "Extracting ./torchvision-data/FashionMNIST/raw/train-labels-idx1-ubyte.gz to ./torchvision-data/FashionMNIST/raw\n",
            "\n",
            "Downloading http://fashion-mnist.s3-website.eu-central-1.amazonaws.com/t10k-images-idx3-ubyte.gz\n",
            "Downloading http://fashion-mnist.s3-website.eu-central-1.amazonaws.com/t10k-images-idx3-ubyte.gz to ./torchvision-data/FashionMNIST/raw/t10k-images-idx3-ubyte.gz\n"
          ]
        },
        {
          "output_type": "display_data",
          "data": {
            "text/plain": [
              "  0%|          | 0/4422102 [00:00<?, ?it/s]"
            ],
            "application/vnd.jupyter.widget-view+json": {
              "version_major": 2,
              "version_minor": 0,
              "model_id": "45b45a95d2804aae91636fec96d02180"
            }
          },
          "metadata": {}
        },
        {
          "output_type": "stream",
          "name": "stdout",
          "text": [
            "Extracting ./torchvision-data/FashionMNIST/raw/t10k-images-idx3-ubyte.gz to ./torchvision-data/FashionMNIST/raw\n",
            "\n",
            "Downloading http://fashion-mnist.s3-website.eu-central-1.amazonaws.com/t10k-labels-idx1-ubyte.gz\n",
            "Downloading http://fashion-mnist.s3-website.eu-central-1.amazonaws.com/t10k-labels-idx1-ubyte.gz to ./torchvision-data/FashionMNIST/raw/t10k-labels-idx1-ubyte.gz\n"
          ]
        },
        {
          "output_type": "display_data",
          "data": {
            "text/plain": [
              "  0%|          | 0/5148 [00:00<?, ?it/s]"
            ],
            "application/vnd.jupyter.widget-view+json": {
              "version_major": 2,
              "version_minor": 0,
              "model_id": "cd2109a656d544639b2ad5d228f2d26a"
            }
          },
          "metadata": {}
        },
        {
          "output_type": "stream",
          "name": "stdout",
          "text": [
            "Extracting ./torchvision-data/FashionMNIST/raw/t10k-labels-idx1-ubyte.gz to ./torchvision-data/FashionMNIST/raw\n",
            "\n"
          ]
        },
        {
          "output_type": "stream",
          "name": "stderr",
          "text": [
            "/usr/local/lib/python3.7/dist-packages/torchvision/datasets/mnist.py:498: UserWarning: The given NumPy array is not writeable, and PyTorch does not support non-writeable tensors. This means you can write to the underlying (supposedly non-writeable) NumPy array using the tensor. You may want to copy the array to protect its data or make it writeable before converting it to a tensor. This type of warning will be suppressed for the rest of this program. (Triggered internally at  /pytorch/torch/csrc/utils/tensor_numpy.cpp:180.)\n",
            "  return torch.from_numpy(parsed.astype(m[2], copy=False)).view(*s)\n"
          ]
        }
      ]
    },
    {
      "cell_type": "markdown",
      "metadata": {
        "id": "ry0GX49nj2T5"
      },
      "source": [
        "`train_dataset` and `test_dataset` are both subclasses of PyTorch's `torch.utils.data.Dataset`. The main benefit of subclassing this abstract class is that we can use `torch.utils.data.DataLoader`s to handle batching our examples and iterating over them. We'll create `DataLoader`s for our datasets now."
      ]
    },
    {
      "cell_type": "code",
      "metadata": {
        "id": "diAuxKlRn8pZ"
      },
      "source": [
        "from torch.utils.data import DataLoader\n",
        "\n",
        "# Data-related hyperparameters\n",
        "batch_size = 64\n",
        "\n",
        "# Set up a DataLoader for the training dataset.\n",
        "train_dataloader = DataLoader(\n",
        "    dataset=train_dataset, batch_size=batch_size, shuffle=True)\n",
        "\n",
        "# Set up a DataLoader for the test dataset.\n",
        "test_dataloader = DataLoader(\n",
        "    dataset=test_dataset, batch_size=batch_size)"
      ],
      "execution_count": null,
      "outputs": []
    },
    {
      "cell_type": "markdown",
      "metadata": {
        "id": "6VWx3AsQoixs"
      },
      "source": [
        "Let's take a look at what's inside our datasets. `torch.utils.data.Dataset`s are indexable, so we can easily peek inside."
      ]
    },
    {
      "cell_type": "code",
      "metadata": {
        "colab": {
          "base_uri": "https://localhost:8080/"
        },
        "id": "NS2eyMtSovq9",
        "outputId": "52890042-a09f-4e60-845a-2243796a51c4"
      },
      "source": [
        "# Print the first training example\n",
        "print(train_dataset[0])"
      ],
      "execution_count": null,
      "outputs": [
        {
          "output_type": "stream",
          "name": "stdout",
          "text": [
            "(tensor([[[0.0000, 0.0000, 0.0000, 0.0000, 0.0000, 0.0000, 0.0000, 0.0000,\n",
            "          0.0000, 0.0000, 0.0000, 0.0000, 0.0000, 0.0000, 0.0000, 0.0000,\n",
            "          0.0000, 0.0000, 0.0000, 0.0000, 0.0000, 0.0000, 0.0000, 0.0000,\n",
            "          0.0000, 0.0000, 0.0000, 0.0000],\n",
            "         [0.0000, 0.0000, 0.0000, 0.0000, 0.0000, 0.0000, 0.0000, 0.0000,\n",
            "          0.0000, 0.0000, 0.0000, 0.0000, 0.0000, 0.0000, 0.0000, 0.0000,\n",
            "          0.0000, 0.0000, 0.0000, 0.0000, 0.0000, 0.0000, 0.0000, 0.0000,\n",
            "          0.0000, 0.0000, 0.0000, 0.0000],\n",
            "         [0.0000, 0.0000, 0.0000, 0.0000, 0.0000, 0.0000, 0.0000, 0.0000,\n",
            "          0.0000, 0.0000, 0.0000, 0.0000, 0.0000, 0.0000, 0.0000, 0.0000,\n",
            "          0.0000, 0.0000, 0.0000, 0.0000, 0.0000, 0.0000, 0.0000, 0.0000,\n",
            "          0.0000, 0.0000, 0.0000, 0.0000],\n",
            "         [0.0000, 0.0000, 0.0000, 0.0000, 0.0000, 0.0000, 0.0000, 0.0000,\n",
            "          0.0000, 0.0000, 0.0000, 0.0000, 0.0039, 0.0000, 0.0000, 0.0510,\n",
            "          0.2863, 0.0000, 0.0000, 0.0039, 0.0157, 0.0000, 0.0000, 0.0000,\n",
            "          0.0000, 0.0039, 0.0039, 0.0000],\n",
            "         [0.0000, 0.0000, 0.0000, 0.0000, 0.0000, 0.0000, 0.0000, 0.0000,\n",
            "          0.0000, 0.0000, 0.0000, 0.0000, 0.0118, 0.0000, 0.1412, 0.5333,\n",
            "          0.4980, 0.2431, 0.2118, 0.0000, 0.0000, 0.0000, 0.0039, 0.0118,\n",
            "          0.0157, 0.0000, 0.0000, 0.0118],\n",
            "         [0.0000, 0.0000, 0.0000, 0.0000, 0.0000, 0.0000, 0.0000, 0.0000,\n",
            "          0.0000, 0.0000, 0.0000, 0.0000, 0.0235, 0.0000, 0.4000, 0.8000,\n",
            "          0.6902, 0.5255, 0.5647, 0.4824, 0.0902, 0.0000, 0.0000, 0.0000,\n",
            "          0.0000, 0.0471, 0.0392, 0.0000],\n",
            "         [0.0000, 0.0000, 0.0000, 0.0000, 0.0000, 0.0000, 0.0000, 0.0000,\n",
            "          0.0000, 0.0000, 0.0000, 0.0000, 0.0000, 0.0000, 0.6078, 0.9255,\n",
            "          0.8118, 0.6980, 0.4196, 0.6118, 0.6314, 0.4275, 0.2510, 0.0902,\n",
            "          0.3020, 0.5098, 0.2824, 0.0588],\n",
            "         [0.0000, 0.0000, 0.0000, 0.0000, 0.0000, 0.0000, 0.0000, 0.0000,\n",
            "          0.0000, 0.0000, 0.0000, 0.0039, 0.0000, 0.2706, 0.8118, 0.8745,\n",
            "          0.8549, 0.8471, 0.8471, 0.6392, 0.4980, 0.4745, 0.4784, 0.5725,\n",
            "          0.5529, 0.3451, 0.6745, 0.2588],\n",
            "         [0.0000, 0.0000, 0.0000, 0.0000, 0.0000, 0.0000, 0.0000, 0.0000,\n",
            "          0.0000, 0.0039, 0.0039, 0.0039, 0.0000, 0.7843, 0.9098, 0.9098,\n",
            "          0.9137, 0.8980, 0.8745, 0.8745, 0.8431, 0.8353, 0.6431, 0.4980,\n",
            "          0.4824, 0.7686, 0.8980, 0.0000],\n",
            "         [0.0000, 0.0000, 0.0000, 0.0000, 0.0000, 0.0000, 0.0000, 0.0000,\n",
            "          0.0000, 0.0000, 0.0000, 0.0000, 0.0000, 0.7176, 0.8824, 0.8471,\n",
            "          0.8745, 0.8941, 0.9216, 0.8902, 0.8784, 0.8706, 0.8784, 0.8667,\n",
            "          0.8745, 0.9608, 0.6784, 0.0000],\n",
            "         [0.0000, 0.0000, 0.0000, 0.0000, 0.0000, 0.0000, 0.0000, 0.0000,\n",
            "          0.0000, 0.0000, 0.0000, 0.0000, 0.0000, 0.7569, 0.8941, 0.8549,\n",
            "          0.8353, 0.7765, 0.7059, 0.8314, 0.8235, 0.8275, 0.8353, 0.8745,\n",
            "          0.8627, 0.9529, 0.7922, 0.0000],\n",
            "         [0.0000, 0.0000, 0.0000, 0.0000, 0.0000, 0.0000, 0.0000, 0.0000,\n",
            "          0.0000, 0.0039, 0.0118, 0.0000, 0.0471, 0.8588, 0.8627, 0.8314,\n",
            "          0.8549, 0.7529, 0.6627, 0.8902, 0.8157, 0.8549, 0.8784, 0.8314,\n",
            "          0.8863, 0.7725, 0.8196, 0.2039],\n",
            "         [0.0000, 0.0000, 0.0000, 0.0000, 0.0000, 0.0000, 0.0000, 0.0000,\n",
            "          0.0000, 0.0000, 0.0235, 0.0000, 0.3882, 0.9569, 0.8706, 0.8627,\n",
            "          0.8549, 0.7961, 0.7765, 0.8667, 0.8431, 0.8353, 0.8706, 0.8627,\n",
            "          0.9608, 0.4667, 0.6549, 0.2196],\n",
            "         [0.0000, 0.0000, 0.0000, 0.0000, 0.0000, 0.0000, 0.0000, 0.0000,\n",
            "          0.0000, 0.0157, 0.0000, 0.0000, 0.2157, 0.9255, 0.8941, 0.9020,\n",
            "          0.8941, 0.9412, 0.9098, 0.8353, 0.8549, 0.8745, 0.9176, 0.8510,\n",
            "          0.8510, 0.8196, 0.3608, 0.0000],\n",
            "         [0.0000, 0.0000, 0.0039, 0.0157, 0.0235, 0.0275, 0.0078, 0.0000,\n",
            "          0.0000, 0.0000, 0.0000, 0.0000, 0.9294, 0.8863, 0.8510, 0.8745,\n",
            "          0.8706, 0.8588, 0.8706, 0.8667, 0.8471, 0.8745, 0.8980, 0.8431,\n",
            "          0.8549, 1.0000, 0.3020, 0.0000],\n",
            "         [0.0000, 0.0118, 0.0000, 0.0000, 0.0000, 0.0000, 0.0000, 0.0000,\n",
            "          0.0000, 0.2431, 0.5686, 0.8000, 0.8941, 0.8118, 0.8353, 0.8667,\n",
            "          0.8549, 0.8157, 0.8275, 0.8549, 0.8784, 0.8745, 0.8588, 0.8431,\n",
            "          0.8784, 0.9569, 0.6235, 0.0000],\n",
            "         [0.0000, 0.0000, 0.0000, 0.0000, 0.0706, 0.1725, 0.3216, 0.4196,\n",
            "          0.7412, 0.8941, 0.8627, 0.8706, 0.8510, 0.8863, 0.7843, 0.8039,\n",
            "          0.8275, 0.9020, 0.8784, 0.9176, 0.6902, 0.7373, 0.9804, 0.9725,\n",
            "          0.9137, 0.9333, 0.8431, 0.0000],\n",
            "         [0.0000, 0.2235, 0.7333, 0.8157, 0.8784, 0.8667, 0.8784, 0.8157,\n",
            "          0.8000, 0.8392, 0.8157, 0.8196, 0.7843, 0.6235, 0.9608, 0.7569,\n",
            "          0.8078, 0.8745, 1.0000, 1.0000, 0.8667, 0.9176, 0.8667, 0.8275,\n",
            "          0.8627, 0.9098, 0.9647, 0.0000],\n",
            "         [0.0118, 0.7922, 0.8941, 0.8784, 0.8667, 0.8275, 0.8275, 0.8392,\n",
            "          0.8039, 0.8039, 0.8039, 0.8627, 0.9412, 0.3137, 0.5882, 1.0000,\n",
            "          0.8980, 0.8667, 0.7373, 0.6039, 0.7490, 0.8235, 0.8000, 0.8196,\n",
            "          0.8706, 0.8941, 0.8824, 0.0000],\n",
            "         [0.3843, 0.9137, 0.7765, 0.8235, 0.8706, 0.8980, 0.8980, 0.9176,\n",
            "          0.9765, 0.8627, 0.7608, 0.8431, 0.8510, 0.9451, 0.2549, 0.2863,\n",
            "          0.4157, 0.4588, 0.6588, 0.8588, 0.8667, 0.8431, 0.8510, 0.8745,\n",
            "          0.8745, 0.8784, 0.8980, 0.1137],\n",
            "         [0.2941, 0.8000, 0.8314, 0.8000, 0.7569, 0.8039, 0.8275, 0.8824,\n",
            "          0.8471, 0.7255, 0.7725, 0.8078, 0.7765, 0.8353, 0.9412, 0.7647,\n",
            "          0.8902, 0.9608, 0.9373, 0.8745, 0.8549, 0.8314, 0.8196, 0.8706,\n",
            "          0.8627, 0.8667, 0.9020, 0.2627],\n",
            "         [0.1882, 0.7961, 0.7176, 0.7608, 0.8353, 0.7725, 0.7255, 0.7451,\n",
            "          0.7608, 0.7529, 0.7922, 0.8392, 0.8588, 0.8667, 0.8627, 0.9255,\n",
            "          0.8824, 0.8471, 0.7804, 0.8078, 0.7294, 0.7098, 0.6941, 0.6745,\n",
            "          0.7098, 0.8039, 0.8078, 0.4510],\n",
            "         [0.0000, 0.4784, 0.8588, 0.7569, 0.7020, 0.6706, 0.7176, 0.7686,\n",
            "          0.8000, 0.8235, 0.8353, 0.8118, 0.8275, 0.8235, 0.7843, 0.7686,\n",
            "          0.7608, 0.7490, 0.7647, 0.7490, 0.7765, 0.7529, 0.6902, 0.6118,\n",
            "          0.6549, 0.6941, 0.8235, 0.3608],\n",
            "         [0.0000, 0.0000, 0.2902, 0.7412, 0.8314, 0.7490, 0.6863, 0.6745,\n",
            "          0.6863, 0.7098, 0.7255, 0.7373, 0.7412, 0.7373, 0.7569, 0.7765,\n",
            "          0.8000, 0.8196, 0.8235, 0.8235, 0.8275, 0.7373, 0.7373, 0.7608,\n",
            "          0.7529, 0.8471, 0.6667, 0.0000],\n",
            "         [0.0078, 0.0000, 0.0000, 0.0000, 0.2588, 0.7843, 0.8706, 0.9294,\n",
            "          0.9373, 0.9490, 0.9647, 0.9529, 0.9569, 0.8667, 0.8627, 0.7569,\n",
            "          0.7490, 0.7020, 0.7137, 0.7137, 0.7098, 0.6902, 0.6510, 0.6588,\n",
            "          0.3882, 0.2275, 0.0000, 0.0000],\n",
            "         [0.0000, 0.0000, 0.0000, 0.0000, 0.0000, 0.0000, 0.0000, 0.1569,\n",
            "          0.2392, 0.1725, 0.2824, 0.1608, 0.1373, 0.0000, 0.0000, 0.0000,\n",
            "          0.0000, 0.0000, 0.0000, 0.0000, 0.0000, 0.0000, 0.0000, 0.0000,\n",
            "          0.0000, 0.0000, 0.0000, 0.0000],\n",
            "         [0.0000, 0.0000, 0.0000, 0.0000, 0.0000, 0.0000, 0.0000, 0.0000,\n",
            "          0.0000, 0.0000, 0.0000, 0.0000, 0.0000, 0.0000, 0.0000, 0.0000,\n",
            "          0.0000, 0.0000, 0.0000, 0.0000, 0.0000, 0.0000, 0.0000, 0.0000,\n",
            "          0.0000, 0.0000, 0.0000, 0.0000],\n",
            "         [0.0000, 0.0000, 0.0000, 0.0000, 0.0000, 0.0000, 0.0000, 0.0000,\n",
            "          0.0000, 0.0000, 0.0000, 0.0000, 0.0000, 0.0000, 0.0000, 0.0000,\n",
            "          0.0000, 0.0000, 0.0000, 0.0000, 0.0000, 0.0000, 0.0000, 0.0000,\n",
            "          0.0000, 0.0000, 0.0000, 0.0000]]]), 9)\n"
          ]
        }
      ]
    },
    {
      "cell_type": "markdown",
      "metadata": {
        "id": "_WHfersco6pG"
      },
      "source": [
        "From this output, we can see the dataset elements are tuple of `(data_tensor, label)`. `data_tensor` is a `FloatTensor` of shape `(1, 28, 28)` (since the image is 28x28), and `label` is an integer from 0 to 9 (since there are 10 classes in the data)."
      ]
    },
    {
      "cell_type": "markdown",
      "metadata": {
        "id": "qlass4LfpKyL"
      },
      "source": [
        "Let's similarly look at what the `DataLoader` produces."
      ]
    },
    {
      "cell_type": "code",
      "metadata": {
        "colab": {
          "base_uri": "https://localhost:8080/"
        },
        "id": "fYxZWUHFpQCD",
        "outputId": "826d1a2c-3f8b-4932-e156-225a35be777a"
      },
      "source": [
        "list(train_dataloader)[0]"
      ],
      "execution_count": null,
      "outputs": [
        {
          "output_type": "execute_result",
          "data": {
            "text/plain": [
              "[tensor([[[[0.0000, 0.0000, 0.0000,  ..., 0.0000, 0.0000, 0.0000],\n",
              "           [0.0000, 0.0000, 0.0000,  ..., 0.0000, 0.0000, 0.0000],\n",
              "           [0.0000, 0.0000, 0.0000,  ..., 0.0000, 0.0000, 0.0000],\n",
              "           ...,\n",
              "           [0.0000, 0.0000, 0.0000,  ..., 0.0000, 0.0000, 0.0000],\n",
              "           [0.0000, 0.0000, 0.0000,  ..., 0.0000, 0.0000, 0.0000],\n",
              "           [0.0000, 0.0000, 0.0000,  ..., 0.0000, 0.0000, 0.0000]]],\n",
              " \n",
              " \n",
              "         [[[0.0000, 0.0000, 0.0000,  ..., 0.0000, 0.0000, 0.0000],\n",
              "           [0.0000, 0.0000, 0.0000,  ..., 0.0000, 0.0000, 0.0000],\n",
              "           [0.0000, 0.0000, 0.0000,  ..., 0.0000, 0.0000, 0.0000],\n",
              "           ...,\n",
              "           [0.0000, 0.0000, 0.0000,  ..., 0.0000, 0.0000, 0.0000],\n",
              "           [0.0000, 0.0000, 0.0000,  ..., 0.0000, 0.0000, 0.0000],\n",
              "           [0.0000, 0.0000, 0.0000,  ..., 0.0000, 0.0000, 0.0000]]],\n",
              " \n",
              " \n",
              "         [[[0.0000, 0.0000, 0.0000,  ..., 0.0000, 0.0000, 0.0000],\n",
              "           [0.0000, 0.0000, 0.0000,  ..., 0.0196, 0.0000, 0.0000],\n",
              "           [0.0000, 0.0000, 0.0000,  ..., 0.0039, 0.0000, 0.0000],\n",
              "           ...,\n",
              "           [0.0000, 0.0000, 0.0000,  ..., 0.0000, 0.0000, 0.0000],\n",
              "           [0.0000, 0.0000, 0.0000,  ..., 0.0000, 0.0000, 0.0000],\n",
              "           [0.0000, 0.0000, 0.0000,  ..., 0.0000, 0.0000, 0.0000]]],\n",
              " \n",
              " \n",
              "         ...,\n",
              " \n",
              " \n",
              "         [[[0.0000, 0.0000, 0.0000,  ..., 0.0000, 0.0000, 0.0000],\n",
              "           [0.0000, 0.0000, 0.0000,  ..., 0.0000, 0.0000, 0.0000],\n",
              "           [0.0000, 0.0000, 0.0000,  ..., 0.0000, 0.0000, 0.0000],\n",
              "           ...,\n",
              "           [0.0000, 0.0000, 0.0000,  ..., 0.0000, 0.0000, 0.0000],\n",
              "           [0.0000, 0.0000, 0.0000,  ..., 0.0000, 0.0000, 0.0000],\n",
              "           [0.0000, 0.0000, 0.0000,  ..., 0.0000, 0.0000, 0.0000]]],\n",
              " \n",
              " \n",
              "         [[[0.0000, 0.0000, 0.0000,  ..., 0.0000, 0.0000, 0.0000],\n",
              "           [0.0000, 0.0000, 0.0000,  ..., 0.0000, 0.0000, 0.0000],\n",
              "           [0.0000, 0.0000, 0.0000,  ..., 0.0000, 0.0000, 0.0000],\n",
              "           ...,\n",
              "           [0.0000, 0.0000, 0.0000,  ..., 0.0000, 0.0000, 0.0000],\n",
              "           [0.0000, 0.0000, 0.0000,  ..., 0.0000, 0.0000, 0.0000],\n",
              "           [0.0000, 0.0000, 0.0000,  ..., 0.0000, 0.0000, 0.0000]]],\n",
              " \n",
              " \n",
              "         [[[0.0000, 0.0000, 0.0000,  ..., 0.0000, 0.0000, 0.0000],\n",
              "           [0.0000, 0.0000, 0.0000,  ..., 0.0000, 0.0000, 0.0000],\n",
              "           [0.0000, 0.0000, 0.0000,  ..., 0.0000, 0.0000, 0.0000],\n",
              "           ...,\n",
              "           [0.0000, 0.0000, 0.0000,  ..., 0.0000, 0.0000, 0.0000],\n",
              "           [0.0000, 0.0000, 0.0000,  ..., 0.0000, 0.0000, 0.0000],\n",
              "           [0.0000, 0.0000, 0.0000,  ..., 0.0000, 0.0000, 0.0000]]]]),\n",
              " tensor([5, 5, 9, 9, 7, 3, 4, 6, 0, 0, 2, 1, 2, 4, 7, 5, 3, 4, 6, 8, 4, 7, 6, 3,\n",
              "         1, 8, 0, 0, 9, 9, 2, 4, 9, 9, 8, 9, 5, 0, 7, 7, 8, 5, 1, 0, 6, 0, 4, 6,\n",
              "         3, 9, 4, 4, 8, 1, 1, 3, 1, 6, 2, 9, 9, 8, 6, 0])]"
            ]
          },
          "metadata": {},
          "execution_count": 26
        }
      ]
    },
    {
      "cell_type": "markdown",
      "metadata": {
        "id": "kj9suOk1ppR7"
      },
      "source": [
        "As we can see, the `DataLoader` groups examples into batches of size `batch_size` (64 by default in the code above). Thus, the shape of the returned tensor is `(64, 1, 28, 28)`, since we essentially stacked `batch_size` examples together. Similarly, `labels` is now a `LongTensor` of size `batch_size`. \n",
        "\n",
        "Note that the label for a single example was a Python `int` --- the dataloader automatically grouped them into a `LongTensor` of the appropriate size."
      ]
    },
    {
      "cell_type": "markdown",
      "metadata": {
        "id": "kOsLTW_hkneW"
      },
      "source": [
        "## Building our model\n",
        "\n",
        "Now we can construct a `FeedForwardNN` instance that we'll train. Each FashionMNIST example is `28x28`, so we get it as a Tensor of shape `(28, 28)`.\n",
        "\n",
        "We'll flatten out each example to a vector of size `(784,)` for compatibility with our model."
      ]
    },
    {
      "cell_type": "code",
      "metadata": {
        "colab": {
          "base_uri": "https://localhost:8080/"
        },
        "id": "QVfwXTtdlCH1",
        "outputId": "da56bbf9-a2b9-431d-ab21-bce51c0ca986"
      },
      "source": [
        "# Hyperparameters of our model.\n",
        "num_hidden = 2\n",
        "hidden_dim = 512\n",
        "dropout = 0.2\n",
        "\n",
        "fashionmnist_ffnn_clf = FeedForwardNN(input_size=784, num_classes=10, \n",
        "                                      num_hidden=num_hidden, \n",
        "                                      hidden_dim=hidden_dim, dropout=dropout)\n",
        "print(fashionmnist_ffnn_clf)"
      ],
      "execution_count": null,
      "outputs": [
        {
          "output_type": "stream",
          "name": "stdout",
          "text": [
            "FeedForwardNN(\n",
            "  (hidden_layers): ModuleList(\n",
            "    (0): Linear(in_features=784, out_features=512, bias=True)\n",
            "    (1): Linear(in_features=512, out_features=512, bias=True)\n",
            "  )\n",
            "  (dropout): Dropout(p=0.2, inplace=False)\n",
            "  (output_projection): Linear(in_features=512, out_features=10, bias=True)\n",
            "  (nonlinearity): ReLU()\n",
            ")\n"
          ]
        }
      ]
    },
    {
      "cell_type": "markdown",
      "metadata": {
        "id": "KufdJjQllZ9r"
      },
      "source": [
        "If we're using a GPU, we'll move the model to the GPU which should speed up training. We do this with the same `.cuda()` method we used for Tensors."
      ]
    },
    {
      "cell_type": "code",
      "metadata": {
        "colab": {
          "base_uri": "https://localhost:8080/"
        },
        "id": "PDzmZsi3lmea",
        "outputId": "a7187ecc-6253-4c9b-fd52-8d9bbb5deb43"
      },
      "source": [
        "if using_GPU:\n",
        "  fashionmnist_ffnn_clf = fashionmnist_ffnn_clf.cuda()\n",
        "\n",
        "# Check if the Module is on GPU by checking if a parameter is on GPU\n",
        "print(\"Model on GPU?:\")\n",
        "print(next(fashionmnist_ffnn_clf.parameters()).is_cuda)"
      ],
      "execution_count": null,
      "outputs": [
        {
          "output_type": "stream",
          "name": "stdout",
          "text": [
            "Model on GPU?:\n",
            "True\n"
          ]
        }
      ]
    },
    {
      "cell_type": "markdown",
      "metadata": {
        "id": "v-zvR2a7mNBf"
      },
      "source": [
        "## Construct other classes we need for training: loss and optimizer\n",
        "\n",
        "Now, we'll set up a criterion for calculating the loss and an Optimizer for updating our parameters."
      ]
    },
    {
      "cell_type": "code",
      "metadata": {
        "id": "QEIHPun3mapF"
      },
      "source": [
        "# Set up criterion for calculating loss\n",
        "nll_criterion = nn.NLLLoss()\n",
        "\n",
        "lr = 0.1\n",
        "momentum = 0.9\n",
        "# Set up an optimizer for updating the parameters of fashionmnist_ffnn_clf\n",
        "ffnn_optimizer = optim.SGD(fashionmnist_ffnn_clf.parameters(), \n",
        "                           lr=lr, momentum=momentum)"
      ],
      "execution_count": null,
      "outputs": []
    },
    {
      "cell_type": "markdown",
      "metadata": {
        "id": "fLpxMEcPnBSS"
      },
      "source": [
        "## Train the model!\n",
        "\n",
        "Now, we'll implement the procedure to train the model --- this is typically called the \"train loop\" since we loop over our batches, performing the forward pass, calculating a loss, backpropping, and then updating our parameters. This is the bulk of the code necessary to train the model.\n",
        "\n",
        "This block looks pretty long, but that's mostly because of the comments :)"
      ]
    },
    {
      "cell_type": "code",
      "metadata": {
        "colab": {
          "base_uri": "https://localhost:8080/"
        },
        "id": "jFWe_FxbnTTm",
        "outputId": "c70ac74c-e577-4c99-c604-e0d89e86c653"
      },
      "source": [
        "# Number of epochs (passes through the dataset) to train the model for.\n",
        "num_epochs = 10\n",
        "\n",
        "# A counter for the number of gradient updates we've performed.\n",
        "num_iter = 0\n",
        "\n",
        "# Iterate `num_epochs` times.\n",
        "for epoch in range(num_epochs):\n",
        "  print(\"Starting epoch {}\".format(epoch + 1))\n",
        "  # Iterate over the train_dataloader, unpacking the images and labels\n",
        "  for (images, labels) in train_dataloader:\n",
        "    # Reshape images from (batch_size, 1, 28, 28) to (batch_size, 784), since\n",
        "    # that's what our model expects. Remember that -1 does shape inference!\n",
        "    reshaped_images = images.view(-1, 784)\n",
        "    \n",
        "    # Wrap reshaped_images and labels in Variables,\n",
        "    # since we want to calculate gradients and backprop.\n",
        "    reshaped_images = Variable(reshaped_images)\n",
        "    labels = Variable(labels)\n",
        "    \n",
        "    # If we're using the GPU, move reshaped_images and labels to the GPU.\n",
        "    if using_GPU:\n",
        "      reshaped_images = reshaped_images.cuda()\n",
        "      labels = labels.cuda()\n",
        "      \n",
        "    # Run the forward pass through the model to get predicted log distribution.\n",
        "    # predicted shape: (batch_size, 10) (since there are 10 classes)\n",
        "    predicted = fashionmnist_ffnn_clf(reshaped_images)\n",
        "    \n",
        "    # Calculate the loss\n",
        "    batch_loss = nll_criterion(predicted, labels)\n",
        "    \n",
        "    # Clear the gradients as we prepare to backprop.\n",
        "    ffnn_optimizer.zero_grad()\n",
        "    \n",
        "    # Backprop (backward pass), which calculates gradients.\n",
        "    batch_loss.backward()\n",
        "    \n",
        "    # Take a gradient step to update parameters.\n",
        "    ffnn_optimizer.step()\n",
        "    \n",
        "    # Increment gradient update counter.\n",
        "    num_iter += 1\n",
        "    \n",
        "    # Calculate test set loss and accuracy every 500 gradient updates\n",
        "    # It's standard to have this as a separate evaluate function, but\n",
        "    # we'll place it inline for didactic purposes.\n",
        "    if num_iter % 500 == 0:\n",
        "      # Set model to eval mode, which turns off dropout.\n",
        "      fashionmnist_ffnn_clf.eval()\n",
        "      # Counters for the num of examples we get right / total num of examples.\n",
        "      num_correct = 0\n",
        "      total_examples = 0\n",
        "      total_test_loss = 0\n",
        "      \n",
        "      # Iterate over the test dataloader\n",
        "      for (test_images, test_labels) in test_dataloader:\n",
        "        # Reshape images from (batch_size, 1, 28, 28) to (batch_size, 784) again\n",
        "        reshaped_test_images = test_images.view(-1, 784)\n",
        "    \n",
        "        # Wrap test data in Variable, like we did earlier.\n",
        "        # We set volatile=True bc we don't need history; speeds up inference.\n",
        "        reshaped_test_images = Variable(reshaped_test_images, volatile=True)\n",
        "        test_labels = Variable(test_labels, volatile=True)\n",
        "    \n",
        "        # If we're using the GPU, move tensors to the GPU.\n",
        "        if using_GPU:\n",
        "          reshaped_test_images = reshaped_test_images.cuda()\n",
        "          test_labels = test_labels.cuda()\n",
        "          \n",
        "        # Run the forward pass to get predicted distribution.\n",
        "        predicted = fashionmnist_ffnn_clf(reshaped_test_images)\n",
        "        \n",
        "        # Calculate loss for this test batch. This is averaged, so multiply\n",
        "        # by the number of examples in batch to get a total.\n",
        "        total_test_loss += nll_criterion(\n",
        "            predicted, test_labels).data * test_labels.size(0)\n",
        "        \n",
        "        # Get predicted labels (argmax)\n",
        "        # We need predicted.data since predicted is a Variable, and torch.max\n",
        "        # expects a Tensor as input. .data extracts Tensor underlying Variable.\n",
        "        _, predicted_labels = torch.max(predicted.data, 1)\n",
        "        \n",
        "        # Count the number of examples in this batch\n",
        "        total_examples += test_labels.size(0)\n",
        "        \n",
        "        # Count the total number of correctly predicted labels.\n",
        "        # predicted == labels generates a ByteTensor in indices where\n",
        "        # predicted and labels match, so we can sum to get the num correct.\n",
        "        num_correct += torch.sum(predicted_labels == test_labels.data)\n",
        "      accuracy = 100 * num_correct / total_examples\n",
        "      average_test_loss = total_test_loss / total_examples\n",
        "      print(\"Iteration {}. Test Loss {}. Test Accuracy {}.\".format(\n",
        "          num_iter, average_test_loss, accuracy))\n",
        "      # Set the model back to train mode, which activates dropout again.\n",
        "      fashionmnist_ffnn_clf.train()"
      ],
      "execution_count": null,
      "outputs": [
        {
          "output_type": "stream",
          "name": "stdout",
          "text": [
            "Starting epoch 1\n"
          ]
        },
        {
          "output_type": "stream",
          "name": "stderr",
          "text": [
            "/usr/local/lib/python3.7/dist-packages/ipykernel_launcher.py:63: UserWarning: volatile was removed and now has no effect. Use `with torch.no_grad():` instead.\n",
            "/usr/local/lib/python3.7/dist-packages/ipykernel_launcher.py:64: UserWarning: volatile was removed and now has no effect. Use `with torch.no_grad():` instead.\n"
          ]
        },
        {
          "output_type": "stream",
          "name": "stdout",
          "text": [
            "Iteration 500. Test Loss 0.5890551805496216. Test Accuracy 75.44999694824219.\n",
            "Starting epoch 2\n",
            "Iteration 1000. Test Loss 0.5486637353897095. Test Accuracy 80.31999969482422.\n",
            "Iteration 1500. Test Loss 0.5675913691520691. Test Accuracy 79.75999450683594.\n",
            "Starting epoch 3\n",
            "Iteration 2000. Test Loss 0.5659621953964233. Test Accuracy 78.5199966430664.\n",
            "Iteration 2500. Test Loss 0.5195878744125366. Test Accuracy 80.56999969482422.\n",
            "Starting epoch 4\n",
            "Iteration 3000. Test Loss 0.5237970948219299. Test Accuracy 80.0199966430664.\n",
            "Iteration 3500. Test Loss 0.5553264617919922. Test Accuracy 79.45999908447266.\n",
            "Starting epoch 5\n",
            "Iteration 4000. Test Loss 0.5257030129432678. Test Accuracy 82.56999969482422.\n",
            "Iteration 4500. Test Loss 0.5123140811920166. Test Accuracy 79.88999938964844.\n",
            "Starting epoch 6\n",
            "Iteration 5000. Test Loss 0.511929988861084. Test Accuracy 82.05999755859375.\n",
            "Iteration 5500. Test Loss 0.48388612270355225. Test Accuracy 82.88999938964844.\n",
            "Starting epoch 7\n",
            "Iteration 6000. Test Loss 0.5076869130134583. Test Accuracy 81.16999816894531.\n",
            "Iteration 6500. Test Loss 0.4941719174385071. Test Accuracy 82.68999481201172.\n",
            "Starting epoch 8\n",
            "Iteration 7000. Test Loss 0.5034236311912537. Test Accuracy 83.18000030517578.\n",
            "Iteration 7500. Test Loss 0.45770832896232605. Test Accuracy 83.75.\n",
            "Starting epoch 9\n",
            "Iteration 8000. Test Loss 0.48759159445762634. Test Accuracy 83.54999542236328.\n",
            "Starting epoch 10\n",
            "Iteration 8500. Test Loss 0.48584887385368347. Test Accuracy 83.0999984741211.\n",
            "Iteration 9000. Test Loss 0.4913732707500458. Test Accuracy 82.45999908447266.\n"
          ]
        }
      ]
    },
    {
      "cell_type": "markdown",
      "metadata": {
        "id": "5XCqzzlc3_Zw"
      },
      "source": [
        "## Extending this example\n",
        "\n",
        "A good exercise to extend this example would be to look in to how convolutional neural nets (CNNs) work, build a `ConvolutionalNeuralNet` classification `Module`, train it on the FashionMNIST dataset, and compare the feed-forward neural net with the CNN. We explore CNNs next week. "
      ]
    },
    {
      "cell_type": "markdown",
      "metadata": {
        "id": "Q-3l-5R9yw1Q"
      },
      "source": [
        "# Example: Sentiment classification with RNN\n",
        "\n",
        "More examples and details at the source + base text: https://github.com/bentrevett/pytorch-sentiment-analysis\n"
      ]
    },
    {
      "cell_type": "markdown",
      "metadata": {
        "id": "bYyDaX4_zIcZ"
      },
      "source": [
        "The task tackled here is sentiment analysis of IMDB articles. In this notebook, we'll actually get decent results. We will take the first base model from the url above and build upon it so it becomes more efficient. Some of the concepts we will use: \n",
        "\n",
        "We will use:\n",
        "- packed padded sequences\n",
        "- pre-trained word embeddings\n",
        "- a type of RNN architecture\n",
        "- bidirectional RNN\n",
        "- multi-layer RNN\n",
        "- regularization\n",
        "- Adam optimizer\n",
        "\n",
        "The general architecture will be: pretrained word embeddings (to capture meaning of the words), fed into an LSTM which captures longer term time dependencies of sentences, to predict the sentiment. \n",
        "\n",
        "This will allow us to achieve ~84% test accuracy."
      ]
    },
    {
      "cell_type": "markdown",
      "metadata": {
        "id": "o9nEkjrSzIca"
      },
      "source": [
        "## Preparing Data\n",
        "\n",
        "We will set a seed first. Why do we do this? Because then our random function is initialized in the same way and we all get the same 'random' results. Then we will define the `Fields` and get the train/valid/test splits. Note, this dataset moved to legacy this year, but is still accessible [as per here](https://colab.research.google.com/github/pytorch/text/blob/master/examples/legacy_tutorial/migration_tutorial.ipynb#scrollTo=7DRXJFgzriaH). \n",
        "\n",
        "Since our sentences are all of a different length, we typically 'pad' them, so they all become of the same length. We take it one step further however, and use *packed padded sequences*, which will make our RNN only process the non-padded elements of our sequence, and for any padded element the `output` will be a zero tensor. More info on this [here](https://stackoverflow.com/questions/51030782/why-do-we-pack-the-sequences-in-pytorch). \n",
        "\n",
        "To use packed padded sequences, we have to tell the RNN how long the actual sequences are. We do this by setting `include_lengths = True` for our `TEXT` field. This will cause `batch.text` to now be a tuple with the first element being our sentence (a numericalized tensor that has been padded) and the second element being the actual lengths of our sentences."
      ]
    },
    {
      "cell_type": "code",
      "metadata": {
        "id": "1hMtwr4HzIcb",
        "colab": {
          "base_uri": "https://localhost:8080/"
        },
        "outputId": "3523c270-0875-490c-a005-a546b0468f25"
      },
      "source": [
        "!pip install torchtext==0.10.0\n",
        "import torchtext\n",
        "import torch\n",
        "from torchtext.legacy import data\n",
        "from torchtext.legacy import datasets\n",
        "# from torchtext.legacy import data\n",
        "# from torchtext import datasets\n",
        "\n",
        "# setting the seed so our random output is actually deterministic\n",
        "SEED = 1234\n",
        "\n",
        "torch.manual_seed(SEED)\n",
        "torch.backends.cudnn.deterministic = True\n",
        "\n",
        "# defining our input fields (text) and labels. \n",
        "# We use the Spacy function because it provides strong support for tokenization in languages other than English\n",
        "TEXT = data.Field(tokenize = 'spacy', include_lengths = True)\n",
        "LABEL = data.LabelField(dtype = torch.float)\n",
        "\n",
        "\n",
        "# IS THE NEXT CELL SUPER SLOW?? \n",
        "# Note, Spacy tokenization can be very slow. As an alternative, to get past this step (but with worse results, you could run the below for TEXT instead of tehe spacy tokenizer):\n",
        "# def tokenize(s):\n",
        "#     return s.split(' ')\n",
        "# TEXT = data.Field(tokenize=tokenize, include_lengths = True)"
      ],
      "execution_count": null,
      "outputs": [
        {
          "output_type": "stream",
          "name": "stdout",
          "text": [
            "Looking in indexes: https://pypi.org/simple, https://us-python.pkg.dev/colab-wheels/public/simple/, https://pypi.ngc.nvidia.com\n",
            "Requirement already satisfied: torchtext==0.10.0 in /usr/local/lib/python3.7/dist-packages (0.10.0)\n",
            "Requirement already satisfied: numpy in /usr/local/lib/python3.7/dist-packages (from torchtext==0.10.0) (1.21.6)\n",
            "Requirement already satisfied: tqdm in /usr/local/lib/python3.7/dist-packages (from torchtext==0.10.0) (4.64.0)\n",
            "Requirement already satisfied: torch==1.9.0 in /usr/local/lib/python3.7/dist-packages (from torchtext==0.10.0) (1.9.0)\n",
            "Requirement already satisfied: requests in /usr/local/lib/python3.7/dist-packages (from torchtext==0.10.0) (2.23.0)\n",
            "Requirement already satisfied: typing-extensions in /usr/local/lib/python3.7/dist-packages (from torch==1.9.0->torchtext==0.10.0) (4.2.0)\n",
            "Requirement already satisfied: urllib3!=1.25.0,!=1.25.1,<1.26,>=1.21.1 in /usr/local/lib/python3.7/dist-packages (from requests->torchtext==0.10.0) (1.24.3)\n",
            "Requirement already satisfied: chardet<4,>=3.0.2 in /usr/local/lib/python3.7/dist-packages (from requests->torchtext==0.10.0) (3.0.4)\n",
            "Requirement already satisfied: certifi>=2017.4.17 in /usr/local/lib/python3.7/dist-packages (from requests->torchtext==0.10.0) (2022.5.18.1)\n",
            "Requirement already satisfied: idna<3,>=2.5 in /usr/local/lib/python3.7/dist-packages (from requests->torchtext==0.10.0) (2.10)\n"
          ]
        }
      ]
    },
    {
      "cell_type": "markdown",
      "metadata": {
        "id": "bi7KbImtzIcd"
      },
      "source": [
        "We then load the IMDb dataset, which is included in the torchtext package. You can find more information about the built in datasets in torchtext here: https://torchtext.readthedocs.io/en/latest/datasets.html\n",
        "\n",
        "Note: applying the spacy tokenizer, which is done in the command below can take about 5-10 minutes. If it doesn't work for you, you can replace the TEXT = ... line with the commented code below to define your own super naive tokenizer for the purpose of this demo. "
      ]
    },
    {
      "cell_type": "code",
      "metadata": {
        "id": "8OfYXdrm4OsJ"
      },
      "source": [
        "train_data, test_data = datasets.IMDB.splits(TEXT, LABEL)  # datasets here refers to torchtext.legacy.datasets"
      ],
      "execution_count": null,
      "outputs": []
    },
    {
      "cell_type": "markdown",
      "metadata": {
        "id": "mY38oTI1zIcg"
      },
      "source": [
        "Then we create the validation set from our training set. We will use this to tweek our parameters. "
      ]
    },
    {
      "cell_type": "code",
      "metadata": {
        "id": "ghdWKis6zIcg"
      },
      "source": [
        "import random \n",
        "\n",
        "train_data, valid_data = train_data.split(random_state = random.seed(SEED))"
      ],
      "execution_count": null,
      "outputs": []
    },
    {
      "cell_type": "markdown",
      "metadata": {
        "id": "XxheAkkc0xWK"
      },
      "source": [
        "What does this dataset looks like? Datasets from torchtext are iterables, so let's get one example: "
      ]
    },
    {
      "cell_type": "code",
      "metadata": {
        "id": "QJWkpHU50wQ2"
      },
      "source": [
        "example = next(iter(test_data))"
      ],
      "execution_count": null,
      "outputs": []
    },
    {
      "cell_type": "markdown",
      "metadata": {
        "id": "AJ_ETyN4ffAl"
      },
      "source": [
        "This contains the text, tokenized (meaning each word is an element of a list): "
      ]
    },
    {
      "cell_type": "code",
      "metadata": {
        "colab": {
          "base_uri": "https://localhost:8080/"
        },
        "id": "GazHwGiMfK6C",
        "outputId": "b2937ab9-f4a7-4fe7-c4a1-e756da0b8395"
      },
      "source": [
        "example"
      ],
      "execution_count": null,
      "outputs": [
        {
          "output_type": "execute_result",
          "data": {
            "text/plain": [
              "<torchtext.legacy.data.example.Example at 0x7f5023b59d90>"
            ]
          },
          "metadata": {},
          "execution_count": 35
        }
      ]
    },
    {
      "cell_type": "markdown",
      "metadata": {
        "id": "ExnCED8LfmyE"
      },
      "source": [
        "And a label (in this case 'pos' for positive sentiment)"
      ]
    },
    {
      "cell_type": "code",
      "metadata": {
        "colab": {
          "base_uri": "https://localhost:8080/",
          "height": 35
        },
        "id": "TB4XMzhUfm6R",
        "outputId": "7f1bffc5-9951-45ef-b860-3c5c0e14a36a"
      },
      "source": [
        "example.label"
      ],
      "execution_count": null,
      "outputs": [
        {
          "output_type": "execute_result",
          "data": {
            "text/plain": [
              "'pos'"
            ],
            "application/vnd.google.colaboratory.intrinsic+json": {
              "type": "string"
            }
          },
          "metadata": {},
          "execution_count": 36
        }
      ]
    },
    {
      "cell_type": "code",
      "metadata": {
        "colab": {
          "base_uri": "https://localhost:8080/"
        },
        "id": "wTiMnak57w-j",
        "outputId": "c8b62425-731c-4274-a1f8-7f550e39f099"
      },
      "source": [
        "example.text"
      ],
      "execution_count": null,
      "outputs": [
        {
          "output_type": "execute_result",
          "data": {
            "text/plain": [
              "['It',\n",
              " 'would',\n",
              " 'seem',\n",
              " 'a',\n",
              " 'given',\n",
              " ',',\n",
              " 'but',\n",
              " 'if',\n",
              " 'a',\n",
              " 'viewer',\n",
              " 'forgets',\n",
              " 'context',\n",
              " ',',\n",
              " 'he',\n",
              " 'risks',\n",
              " 'missing',\n",
              " 'an',\n",
              " 'opportunity',\n",
              " 'of',\n",
              " 'enjoyment.<br',\n",
              " '/><br',\n",
              " '/>It',\n",
              " 'is',\n",
              " 'easy',\n",
              " 'to',\n",
              " 'carp',\n",
              " ',',\n",
              " 'from',\n",
              " 'the',\n",
              " 'lofty',\n",
              " 'heights',\n",
              " 'of',\n",
              " 'the',\n",
              " '21st',\n",
              " 'century',\n",
              " ',',\n",
              " 'at',\n",
              " 'styles',\n",
              " 'and',\n",
              " 'prices',\n",
              " 'of',\n",
              " 'the',\n",
              " 'Great',\n",
              " 'Depression',\n",
              " 'years',\n",
              " ';',\n",
              " 'but',\n",
              " 'the',\n",
              " 'intelligent',\n",
              " 'viewer',\n",
              " 'will',\n",
              " 'remember',\n",
              " 'that',\n",
              " 'magic',\n",
              " 'word',\n",
              " ',',\n",
              " '\"',\n",
              " 'context',\n",
              " ',',\n",
              " '\"',\n",
              " 'and',\n",
              " 'better',\n",
              " 'understand',\n",
              " 'and',\n",
              " ',',\n",
              " 'thus',\n",
              " ',',\n",
              " 'enjoy',\n",
              " '\"',\n",
              " 'Accidents',\n",
              " 'Will',\n",
              " 'Happen',\n",
              " '.',\n",
              " '\"',\n",
              " '<',\n",
              " 'br',\n",
              " '/><br',\n",
              " '/>Among',\n",
              " 'the',\n",
              " 'actors',\n",
              " ',',\n",
              " 'Ronald',\n",
              " 'Reagan',\n",
              " 'again',\n",
              " 'showed',\n",
              " 'himself',\n",
              " 'a',\n",
              " 'good',\n",
              " '-',\n",
              " 'looking',\n",
              " 'and',\n",
              " 'personable',\n",
              " 'guy',\n",
              " ',',\n",
              " 'and',\n",
              " 'again',\n",
              " 'gave',\n",
              " 'a',\n",
              " 'right',\n",
              " '-',\n",
              " 'on',\n",
              " 'performance.<br',\n",
              " '/><br',\n",
              " '/>A',\n",
              " 'reviewer',\n",
              " 'earlier',\n",
              " 'said',\n",
              " 'Gloria',\n",
              " 'Blondell',\n",
              " 'played',\n",
              " 'the',\n",
              " 'nasty',\n",
              " 'wife',\n",
              " ',',\n",
              " 'but',\n",
              " 'that',\n",
              " 'was',\n",
              " 'wrong',\n",
              " ':',\n",
              " 'She',\n",
              " 'plays',\n",
              " 'the',\n",
              " 'concession',\n",
              " '-',\n",
              " 'stand',\n",
              " 'clerk',\n",
              " 'who',\n",
              " 'has',\n",
              " 'a',\n",
              " 'crush',\n",
              " 'on',\n",
              " 'the',\n",
              " 'Reagan',\n",
              " 'character',\n",
              " ',',\n",
              " 'Eric',\n",
              " 'Gregg',\n",
              " ',',\n",
              " 'but',\n",
              " 'keeps',\n",
              " 'hands',\n",
              " 'off',\n",
              " 'as',\n",
              " 'long',\n",
              " 'as',\n",
              " 'he',\n",
              " 'is',\n",
              " 'married.<br',\n",
              " '/><br',\n",
              " '/>Gloria',\n",
              " 'was',\n",
              " 'cute',\n",
              " '.',\n",
              " 'Not',\n",
              " 'as',\n",
              " 'lushly',\n",
              " 'beautiful',\n",
              " 'as',\n",
              " 'her',\n",
              " 'sister',\n",
              " ',',\n",
              " 'Joan',\n",
              " ',',\n",
              " 'she',\n",
              " 'was',\n",
              " 'still',\n",
              " 'attractive',\n",
              " 'and',\n",
              " 'a',\n",
              " 'good',\n",
              " 'actress',\n",
              " '.',\n",
              " 'Perhaps',\n",
              " 'her',\n",
              " 'looking',\n",
              " 'somewhat',\n",
              " 'like',\n",
              " 'Joan',\n",
              " 'was',\n",
              " 'a',\n",
              " 'detriment',\n",
              " 'to',\n",
              " 'having',\n",
              " 'a',\n",
              " 'more',\n",
              " 'successful',\n",
              " 'career',\n",
              " ',',\n",
              " 'and',\n",
              " 'it',\n",
              " 'is',\n",
              " 'certainly',\n",
              " 'our',\n",
              " 'loss.<br',\n",
              " '/><br',\n",
              " '/>Sheila',\n",
              " 'Bromley',\n",
              " 'was',\n",
              " 'Mrs.',\n",
              " 'Gregg',\n",
              " ',',\n",
              " 'and',\n",
              " 'played',\n",
              " 'it',\n",
              " 'well.<br',\n",
              " '/><br',\n",
              " '/>Other',\n",
              " 'actors',\n",
              " 'included',\n",
              " 'Dick',\n",
              " 'Purcell',\n",
              " ',',\n",
              " 'and',\n",
              " 'the',\n",
              " 'great',\n",
              " 'Earl',\n",
              " 'Dwire',\n",
              " 'got',\n",
              " 'to',\n",
              " 'play',\n",
              " 'something',\n",
              " 'besides',\n",
              " 'a',\n",
              " 'villainous',\n",
              " 'cowboy.<br',\n",
              " '/><br',\n",
              " '/>Again',\n",
              " ',',\n",
              " 'most',\n",
              " 'of',\n",
              " 'the',\n",
              " 'players',\n",
              " 'never',\n",
              " 'attained',\n",
              " 'the',\n",
              " '\"',\n",
              " 'household',\n",
              " '-',\n",
              " 'name',\n",
              " '\"',\n",
              " 'status',\n",
              " 'many',\n",
              " 'of',\n",
              " 'them',\n",
              " 'deserved',\n",
              " ',',\n",
              " 'but',\n",
              " 'they',\n",
              " 'by',\n",
              " 'gosh',\n",
              " 'gave',\n",
              " 'good',\n",
              " 'performances',\n",
              " 'here',\n",
              " ',',\n",
              " 'in',\n",
              " 'a',\n",
              " 'story',\n",
              " 'that',\n",
              " 'is',\n",
              " 'still',\n",
              " 'current',\n",
              " '.']"
            ]
          },
          "metadata": {},
          "execution_count": 37
        }
      ]
    },
    {
      "cell_type": "markdown",
      "metadata": {
        "id": "dE4kUQ11zIci"
      },
      "source": [
        "Next comes loading the pre-trained word embeddings. Now, instead of having our word embeddings initialized randomly, they are initialized with these pre-trained vectors, namely those from glove (Stanford). There are other alternatives you can use here. \n",
        "\n",
        "We get these vectors simply by specifying which vectors we want and passing it as an argument to `build_vocab`. `TorchText` handles downloading the vectors and associating them with the correct words in our vocabulary.\n",
        "\n",
        "Here, we'll be using the `\"glove.6B.100d\" vectors\"`. `glove` is the algorithm used to calculate the vectors, go [here](https://nlp.stanford.edu/projects/glove/) for more. `6B` indicates these vectors were trained on 6 billion tokens and `100d` indicates these vectors are 100-dimensional, meaning there are 100 values (or coordinates) for each word.\n",
        "\n",
        "You can see the other available vectors [here](https://github.com/pytorch/text/blob/master/torchtext/vocab.py#L113).\n",
        "\n",
        "The theory is that these pre-trained vectors already have words with similar semantic meaning close together in vector space, e.g. \"terrible\", \"awful\", \"dreadful\" are nearby. This gives our embedding layer a good initialization as it does not have to learn these relations from scratch.\n",
        "\n",
        "**Note**: these vectors are about 862MB.\n",
        "\n",
        "By default, TorchText will initialize words in your vocabulary but not in your pre-trained embeddings (so in order words: new words), to zero. We don't want this, and instead initialize them randomly by setting `unk_init` to `torch.Tensor.normal_`. This will now initialize those words via a Gaussian distribution.\n",
        "\n",
        "We limit the number of unique words we use to 25,000. The least frequent words will be replaced by the word `unk`."
      ]
    },
    {
      "cell_type": "code",
      "metadata": {
        "colab": {
          "base_uri": "https://localhost:8080/"
        },
        "id": "vt2NxMxvzIcj",
        "outputId": "1e2be4f1-2dba-4708-af17-66eece93e272"
      },
      "source": [
        "MAX_VOCAB_SIZE = 25_000\n",
        "\n",
        "TEXT.build_vocab(test_data, \n",
        "                 max_size = MAX_VOCAB_SIZE, \n",
        "                 vectors = \"glove.6B.100d\", \n",
        "                 unk_init = torch.Tensor.normal_) # how to initialize unseen words not in glove\n",
        "\n",
        "LABEL.build_vocab(test_data)"
      ],
      "execution_count": null,
      "outputs": [
        {
          "output_type": "stream",
          "name": "stderr",
          "text": [
            ".vector_cache/glove.6B.zip: 862MB [02:40, 5.38MB/s]                           \n",
            "100%|█████████▉| 399999/400000 [00:14<00:00, 27985.59it/s]\n"
          ]
        }
      ]
    },
    {
      "cell_type": "markdown",
      "metadata": {
        "id": "BhZEuYcKzIcl"
      },
      "source": [
        "We create the iterators, placing the tensors on the GPU if one is available.\n",
        "\n",
        "one consderation for packed padded sequences all of the tensors within a batch need to be sorted by their lengths. This is handled in the batch iterator by setting `sort_within_batch = True`."
      ]
    },
    {
      "cell_type": "code",
      "metadata": {
        "id": "433TeUABzIcl"
      },
      "source": [
        "BATCH_SIZE = 64\n",
        "\n",
        "device = torch.device('cuda' if torch.cuda.is_available() else 'cpu')\n",
        "\n",
        "train_iterator, valid_iterator, test_iterator = data.BucketIterator.splits(\n",
        "    (train_data, valid_data, test_data), \n",
        "    batch_size = BATCH_SIZE,\n",
        "    sort_within_batch = True,\n",
        "    device = device)"
      ],
      "execution_count": null,
      "outputs": []
    },
    {
      "cell_type": "markdown",
      "metadata": {
        "id": "4RX_M6P3zIcn"
      },
      "source": [
        "## Build the Model\n",
        "\n",
        "Alright, we have our data pipeline set up and are ready to define the model. \n",
        "\n",
        "### Different RNN Architecture\n",
        "\n",
        "We'll be using the RNN architecture called a Long Short-Term Memory (LSTM). Why is an LSTM better than a standard RNN? Standard RNNs suffer from the [vanishing gradient problem](https://en.wikipedia.org/wiki/Vanishing_gradient_problem). LSTMs overcome this by having an extra recurrent state called a _cell_, $c$ - which can be thought of as the \"memory\" of the LSTM - and the use use multiple _gates_ which control the flow of information into and out of the memory. For more information, go [here](https://colah.github.io/posts/2015-08-Understanding-LSTMs/). We can simply think of the LSTM as a function of $x_t$, $h_t$ and $c_t$, instead of just $x_t$ and $h_t$.\n",
        "\n",
        "$$(h_t, c_t) = \\text{LSTM}(x_t, h_t, c_t)$$\n",
        "\n",
        "Thus, the model using an LSTM looks something like (with the embedding layers omitted):\n",
        "\n",
        "![](https://github.com/bentrevett/pytorch-sentiment-analysis/raw/79bb86abc9e89951a5f8c4a25ca5de6a491a4f5d/assets/sentiment2.png)\n",
        "\n",
        "The initial cell state, $c_0$, like the initial hidden state is initialized to a tensor of all zeros. The sentiment prediction is still, however, only made using the final hidden state, not the final cell state, i.e. $\\hat{y}=f(h_T)$.\n",
        "\n",
        "\n",
        "### Bidirectional RNN\n",
        "\n",
        "In this lab we are going one step above the traditional LSTM, by using a **bidirectional** one, which may be even more effective. \n",
        "\n",
        "The concept behind a bidirectional RNN is simple. As well as having an RNN processing the words in the sentence from the first to the last (a forward RNN), we have a second RNN processing the words in the sentence from the **last to the first** (a backward RNN). At time step $t$, the forward RNN is processing word $x_t$, and the backward RNN is processing word $x_{T-t+1}$. \n",
        "\n",
        "In PyTorch, the hidden state (and cell state) tensors returned by the forward and backward RNNs are stacked on top of each other in a single tensor. \n",
        "\n",
        "We make our sentiment prediction using a concatenation of the last hidden state from the forward RNN (obtained from final word of the sentence), $h_T^\\rightarrow$, and the last hidden state from the backward RNN (obtained from the first word of the sentence), $h_T^\\leftarrow$, i.e. $\\hat{y}=f(h_T^\\rightarrow, h_T^\\leftarrow)$   \n",
        "\n",
        "The image below shows a bi-directional RNN, with the forward RNN in orange, the backward RNN in green and the linear layer in silver.  \n",
        "\n",
        "![](https://github.com/bentrevett/pytorch-sentiment-analysis/raw/79bb86abc9e89951a5f8c4a25ca5de6a491a4f5d/assets/sentiment3.png)\n",
        "\n",
        "### Multi-layer RNN\n",
        "\n",
        "Multi-layer RNNs (also called *deep RNNs*) are another simple concept. The idea is that we add additional RNNs on top of the initial standard RNN, where each RNN added is another *layer*. The hidden state output by the first (bottom) RNN at time-step $t$ will be the input to the RNN above it at time step $t$. The prediction is then made from the final hidden state of the final (highest) layer.\n",
        "\n",
        "The image below shows a multi-layer unidirectional RNN, where the layer number is given as a superscript. Also note that each layer needs their own initial hidden state, $h_0^L$.\n",
        "\n",
        "![](https://github.com/bentrevett/pytorch-sentiment-analysis/raw/79bb86abc9e89951a5f8c4a25ca5de6a491a4f5d/assets/sentiment4.png)\n",
        "\n",
        "### Regularization\n",
        "\n",
        "Although we've added improvements to our model, each one adds additional parameters. Without going into overfitting into too much detail, the more parameters you have in in your model, the higher the probability that your model will overfit (memorize the training data, causing  a low training error but high validation/testing error, i.e. poor generalization to new, unseen examples). To combat this, we use regularization. More specifically, we use a method of regularization called *dropout*. Dropout works by randomly *dropping out* (setting to 0) neurons in a layer during a forward pass. The probability that each neuron is dropped out is set by a hyperparameter and each neuron with dropout applied is considered indepenently. One theory about why dropout works is that a model with parameters dropped out can be seen as a \"weaker\" (less parameters) model. The predictions from all these \"weaker\" models (one for each forward pass) get averaged together withinin the parameters of the model. Thus, your one model can be thought of as an ensemble of weaker models, none of which are over-parameterized and thus should not overfit.\n",
        "\n",
        "### Implementation Details\n",
        "\n",
        "Another addition to this model is that we are not going to learn the embedding for the `<pad>` token. This is because we want to explitictly tell our model that padding tokens are irrelevant to determining the sentiment of a sentence. This means the embedding for the pad token will remain at what it is initialized to (we initialize it to all zeros later). We do this by passing the index of our pad token as the `padding_idx` argument to the `nn.Embedding` layer.\n",
        "\n",
        "To use an LSTM instead of the standard RNN, we use `nn.LSTM` instead of `nn.RNN`. Also, note that the LSTM returns the `output` and a tuple of the final `hidden` state and the final `cell` state, whereas the standard RNN only returned the `output` and final `hidden` state. \n",
        "\n",
        "As the final hidden state of our LSTM has both a forward and a backward component, which will be concatenated together, the size of the input to the `nn.Linear` layer is twice that of the hidden dimension size.\n",
        "\n",
        "Implementing bidirectionality and adding additional layers are done by passing values for the `num_layers` and `bidirectional` arguments for the RNN/LSTM. \n",
        "\n",
        "Dropout is implemented by initializing an `nn.Dropout` layer (the argument is the probability of dropping out each neuron) and using it within the `forward` method after each layer we want to apply dropout to. **Note**: never use dropout on the input or output layers (`text` or `fc` in this case), you only ever want to use dropout on intermediate layers. The LSTM has a `dropout` argument which adds dropout on the connections between hidden states in one layer to hidden states in the next layer. \n",
        "\n",
        "As we are passing the lengths of our sentences to be able to use packed padded sequences, we have to add a second argument, `text_lengths`, to `forward`. \n",
        "\n",
        "Before we pass our embeddings to the RNN, we need to pack them, which we do with `nn.utils.rnn.packed_padded_sequence`. This will cause our RNN to only process the non-padded elements of our sequence. The RNN will then return `packed_output` (a packed sequence) as well as the `hidden` and `cell` states (both of which are tensors). Without packed padded sequences, `hidden` and `cell` are tensors from the last element in the sequence, which will most probably be a pad token, however when using packed padded sequences they are both from the last non-padded element in the sequence. \n",
        "\n",
        "We then unpack the output sequence, with `nn.utils.rnn.pad_packed_sequence`, to transform it from a packed sequence to a tensor. The elements of `output` from padding tokens will be zero tensors (tensors where every element is zero). Usually, we only have to unpack output if we are going to use it later on in the model. Although we aren't in this case, we still unpack the sequence just to show how it is done.\n",
        "\n",
        "The final hidden state, `hidden`, has a shape of _**[num layers * num directions, batch size, hid dim]**_. These are ordered: **[forward_layer_0, backward_layer_0, forward_layer_1, backward_layer 1, ..., forward_layer_n, backward_layer n]**. As we want the final (top) layer forward and backward hidden states, we get the top two hidden layers from the first dimension, `hidden[-2,:,:]` and `hidden[-1,:,:]`, and concatenate them together before passing them to the linear layer (after applying dropout). "
      ]
    },
    {
      "cell_type": "code",
      "metadata": {
        "id": "GwBWdeEszIco"
      },
      "source": [
        "import torch.nn as nn\n",
        "\n",
        "class RNN(nn.Module):\n",
        "    def __init__(self, vocab_size, embedding_dim, hidden_dim, output_dim, n_layers, \n",
        "                 bidirectional, dropout, pad_idx):\n",
        "        \n",
        "        super().__init__()\n",
        "        \n",
        "        self.embedding = nn.Embedding(vocab_size, embedding_dim, padding_idx = pad_idx)\n",
        "        \n",
        "        self.rnn = nn.LSTM(embedding_dim, #'100'\n",
        "                           hidden_dim, \n",
        "                           num_layers=n_layers, #set to two: makes our LSTM 'deep'\n",
        "                           bidirectional=bidirectional, #bidirectional or not\n",
        "                           dropout=dropout) #we add dropout for regularization\n",
        "        \n",
        "        self.fc = nn.Linear(hidden_dim * 2, output_dim)\n",
        "        \n",
        "        self.dropout = nn.Dropout(dropout) #dropout layer\n",
        "        \n",
        "    def forward(self, text, text_lengths):\n",
        "        \n",
        "        embedded = self.dropout(self.embedding(text)) ## change the text to the embedding\n",
        "        \n",
        "        #pack sequence\n",
        "        # note, we move text_lengths to cpu due to a small bug in current pytorch: https://github.com/pytorch/pytorch/issues/43227\n",
        "        packed_embedded = nn.utils.rnn.pack_padded_sequence(embedded, text_lengths.cpu()) #use packed padding\n",
        "        \n",
        "        packed_output, (hidden, cell) = self.rnn(packed_embedded) #feed to rnn\n",
        "        \n",
        "        #unpack sequence\n",
        "        output, output_lengths = nn.utils.rnn.pad_packed_sequence(packed_output) #unpack the padding\n",
        "        \n",
        "        hidden = self.dropout(torch.cat((hidden[-2,:,:], hidden[-1,:,:]), dim = 1)) #add dropout\n",
        "            \n",
        "        return self.fc(hidden)"
      ],
      "execution_count": null,
      "outputs": []
    },
    {
      "cell_type": "markdown",
      "metadata": {
        "id": "LtxnuD_zzIcq"
      },
      "source": [
        "Like before, we'll create an instance of our RNN class, with the new parameters and arguments for the number of layers, bidirectionality and dropout probability.\n",
        "\n",
        "To ensure the pre-trained vectors can be loaded into the model, the `EMBEDDING_DIM` must be equal to that of the pre-trained GloVe vectors loaded earlier, which is 100 if you recall from above. \n",
        "\n",
        "We get our pad token index from the vocabulary, getting the actual string representing the pad token from the field's `pad_token` attribute, which is `<pad>` by default."
      ]
    },
    {
      "cell_type": "code",
      "metadata": {
        "id": "y9Y5TMKyzIcq"
      },
      "source": [
        "INPUT_DIM = len(TEXT.vocab)\n",
        "EMBEDDING_DIM = 100\n",
        "HIDDEN_DIM = 256\n",
        "OUTPUT_DIM = 1\n",
        "N_LAYERS = 2 #this makes our LSTM deep\n",
        "BIDIRECTIONAL = True\n",
        "DROPOUT = 0.5\n",
        "PAD_IDX = TEXT.vocab.stoi[TEXT.pad_token] # this will be passed to the lstm, to tell it when id the word is in our vocabulary\n",
        "\n",
        "model = RNN(INPUT_DIM, \n",
        "            EMBEDDING_DIM, \n",
        "            HIDDEN_DIM, \n",
        "            OUTPUT_DIM, \n",
        "            N_LAYERS, \n",
        "            BIDIRECTIONAL, \n",
        "            DROPOUT, \n",
        "            PAD_IDX)"
      ],
      "execution_count": null,
      "outputs": []
    },
    {
      "cell_type": "markdown",
      "metadata": {
        "id": "mC8njeTezIct"
      },
      "source": [
        "We'll print out the number of parameters in our model. \n",
        "\n",
        "Notice how we have almost twice as many parameters as before!"
      ]
    },
    {
      "cell_type": "code",
      "metadata": {
        "colab": {
          "base_uri": "https://localhost:8080/"
        },
        "id": "WXFQ03s5zIct",
        "outputId": "d8f1164a-77bf-456b-8472-ed8174fec184"
      },
      "source": [
        "def count_parameters(model):\n",
        "    return sum(p.numel() for p in model.parameters() if p.requires_grad)\n",
        "\n",
        "print(f'The model has {count_parameters(model):,} trainable parameters')"
      ],
      "execution_count": null,
      "outputs": [
        {
          "output_type": "stream",
          "name": "stdout",
          "text": [
            "The model has 4,810,857 trainable parameters\n"
          ]
        }
      ]
    },
    {
      "cell_type": "markdown",
      "metadata": {
        "id": "NQlJj6QXzIcw"
      },
      "source": [
        "The final addition is copying the pre-trained word embeddings we loaded earlier into the `embedding` layer of our model.\n",
        "\n",
        "We retrieve the embeddings from the field's vocab, and check they're the correct size, _**[vocab size, embedding dim]**_ "
      ]
    },
    {
      "cell_type": "code",
      "metadata": {
        "colab": {
          "base_uri": "https://localhost:8080/"
        },
        "id": "3ITV4jjuzIcw",
        "outputId": "c29a085b-1427-412d-ba5d-11691bd0147e"
      },
      "source": [
        "pretrained_embeddings = TEXT.vocab.vectors\n",
        "\n",
        "print(pretrained_embeddings.shape)"
      ],
      "execution_count": null,
      "outputs": [
        {
          "output_type": "stream",
          "name": "stdout",
          "text": [
            "torch.Size([25002, 100])\n"
          ]
        }
      ]
    },
    {
      "cell_type": "markdown",
      "metadata": {
        "id": "pqMdc3yhzIcy"
      },
      "source": [
        "We then replace the initial weights of the `embedding` layer with the pre-trained embeddings.\n",
        "\n",
        "**Note**: this should always be done on the `weight.data` and not the `weight`!"
      ]
    },
    {
      "cell_type": "code",
      "metadata": {
        "colab": {
          "base_uri": "https://localhost:8080/"
        },
        "id": "jqHqNiITzIcy",
        "outputId": "0e061be1-1928-4637-b5c5-57409ebb793f"
      },
      "source": [
        "model.embedding.weight.data.copy_(pretrained_embeddings)"
      ],
      "execution_count": null,
      "outputs": [
        {
          "output_type": "execute_result",
          "data": {
            "text/plain": [
              "tensor([[-0.1117, -0.4966,  0.1631,  ...,  1.2647, -0.2753, -0.1325],\n",
              "        [-0.8555, -0.7208,  1.3755,  ...,  0.0825, -1.1314,  0.3997],\n",
              "        [-0.0382, -0.2449,  0.7281,  ..., -0.1459,  0.8278,  0.2706],\n",
              "        ...,\n",
              "        [ 0.2080,  0.6863,  0.0726,  ...,  1.3920, -0.6378, -1.1242],\n",
              "        [-0.5955,  0.7002, -0.8203,  ...,  0.2394,  0.6751, -0.3132],\n",
              "        [ 0.0978,  0.1036,  0.0916,  ..., -0.3546,  2.1598, -1.4621]])"
            ]
          },
          "metadata": {},
          "execution_count": 44
        }
      ]
    },
    {
      "cell_type": "markdown",
      "metadata": {
        "id": "fibaVxJIzIc1"
      },
      "source": [
        "As our `<unk>` and `<pad>` token aren't in the pre-trained vocabulary they have been initialized using `unk_init` (an $\\mathcal{N}(0,1)$ distribution) when building our vocab. It is preferable to initialize them both to all zeros to explicitly tell our model that, initially, they are irrelevant for determining sentiment. \n",
        "\n",
        "We do this by manually setting their row in the embedding weights matrix to zeros. We get their row by finding the index of the tokens, which we have already done for the padding index.\n",
        "\n",
        "**Note**: like initializing the embeddings, this should be done on the `weight.data` and not the `weight`!"
      ]
    },
    {
      "cell_type": "code",
      "metadata": {
        "colab": {
          "base_uri": "https://localhost:8080/"
        },
        "id": "X3Vih_EzzIc1",
        "outputId": "c73ed80b-cd13-4bdf-d356-5a5ce9f418a3"
      },
      "source": [
        "UNK_IDX = TEXT.vocab.stoi[TEXT.unk_token]\n",
        "\n",
        "model.embedding.weight.data[UNK_IDX] = torch.zeros(EMBEDDING_DIM)\n",
        "model.embedding.weight.data[PAD_IDX] = torch.zeros(EMBEDDING_DIM)\n",
        "\n",
        "print(model.embedding.weight.data)"
      ],
      "execution_count": null,
      "outputs": [
        {
          "output_type": "stream",
          "name": "stdout",
          "text": [
            "tensor([[ 0.0000,  0.0000,  0.0000,  ...,  0.0000,  0.0000,  0.0000],\n",
            "        [ 0.0000,  0.0000,  0.0000,  ...,  0.0000,  0.0000,  0.0000],\n",
            "        [-0.0382, -0.2449,  0.7281,  ..., -0.1459,  0.8278,  0.2706],\n",
            "        ...,\n",
            "        [ 0.2080,  0.6863,  0.0726,  ...,  1.3920, -0.6378, -1.1242],\n",
            "        [-0.5955,  0.7002, -0.8203,  ...,  0.2394,  0.6751, -0.3132],\n",
            "        [ 0.0978,  0.1036,  0.0916,  ..., -0.3546,  2.1598, -1.4621]])\n"
          ]
        }
      ]
    },
    {
      "cell_type": "markdown",
      "metadata": {
        "id": "ffx2rQFKzIc3"
      },
      "source": [
        "We can now see the first two rows of the embedding weights matrix have been set to zeros. As we passed the index of the pad token to the `padding_idx` of the embedding layer it will remain zeros throughout training, however the `<unk>` token embedding will be learned."
      ]
    },
    {
      "cell_type": "markdown",
      "metadata": {
        "id": "IwwwGmXizIc3"
      },
      "source": [
        "## Train the Model"
      ]
    },
    {
      "cell_type": "markdown",
      "metadata": {
        "id": "cQ5BjKErzIc4"
      },
      "source": [
        "Now to training the model.\n",
        "\n",
        "The only change we'll make here is changing the optimizer from `SGD` to `Adam`. SGD updates all parameters with the same learning rate and choosing this learning rate can be tricky. `Adam` adapts the learning rate for each parameter, giving parameters that are updated more frequently lower learning rates and parameters that are updated infrequently higher learning rates. More information about `Adam` (and other optimizers) can be found [here](http://ruder.io/optimizing-gradient-descent/index.html).\n",
        "\n",
        "To change `SGD` to `Adam`, we simply change `optim.SGD` to `optim.Adam`, also note how we do not have to provide an initial learning rate for Adam as PyTorch specifies a sensibile default initial learning rate."
      ]
    },
    {
      "cell_type": "code",
      "metadata": {
        "id": "82djifYvzIc4"
      },
      "source": [
        "import torch.optim as optim\n",
        "\n",
        "optimizer = optim.Adam(model.parameters())"
      ],
      "execution_count": null,
      "outputs": []
    },
    {
      "cell_type": "markdown",
      "metadata": {
        "id": "FszhCJo3zIc6"
      },
      "source": [
        "The rest of the steps for training the model are unchanged.\n",
        "\n",
        "We define the criterion and place the model and criterion on the GPU (if available)..."
      ]
    },
    {
      "cell_type": "code",
      "metadata": {
        "id": "r7jJZVUrzIc6"
      },
      "source": [
        "criterion = nn.BCEWithLogitsLoss()\n",
        "\n",
        "model = model.to(device)\n",
        "criterion = criterion.to(device)"
      ],
      "execution_count": null,
      "outputs": []
    },
    {
      "cell_type": "markdown",
      "metadata": {
        "id": "1-AmguGBzIc8"
      },
      "source": [
        "We implement the function to calculate accuracy..."
      ]
    },
    {
      "cell_type": "code",
      "metadata": {
        "id": "2VSigFwuzIc8"
      },
      "source": [
        "def binary_accuracy(preds, y):\n",
        "    \"\"\"\n",
        "    Returns accuracy per batch, i.e. if you get 8/10 right, this returns 0.8, NOT 8\n",
        "    \"\"\"\n",
        "\n",
        "    #round predictions to the closest integer\n",
        "    rounded_preds = torch.round(torch.sigmoid(preds))\n",
        "    correct = (rounded_preds == y).float() #convert into float for division \n",
        "    acc = correct.sum() / len(correct)\n",
        "    return acc"
      ],
      "execution_count": null,
      "outputs": []
    },
    {
      "cell_type": "markdown",
      "metadata": {
        "id": "ruL3QL0yzIc-"
      },
      "source": [
        "We define a function for training our model. \n",
        "\n",
        "As we have set `include_lengths = True`, our `batch.text` is now a tuple with the first element being the numericalized tensor and the second element being the actual lengths of each sequence. We separate these into their own variables, `text` and `text_lengths`, before passing them to the model.\n",
        "\n",
        "**Note**: as we are now using dropout, we must remember to use `model.train()` to ensure the dropout is \"turned on\" while training."
      ]
    },
    {
      "cell_type": "code",
      "metadata": {
        "id": "YVjJn_1CzIc-"
      },
      "source": [
        "def train(model, iterator, optimizer, criterion):\n",
        "    \n",
        "    epoch_loss = 0\n",
        "    epoch_acc = 0\n",
        "    \n",
        "    model.train()\n",
        "    \n",
        "    for batch in iterator:\n",
        "        \n",
        "        optimizer.zero_grad()\n",
        "        \n",
        "        text, text_lengths = batch.text\n",
        "        \n",
        "        predictions = model(text, text_lengths).squeeze(1)\n",
        "        \n",
        "        loss = criterion(predictions, batch.label)\n",
        "        \n",
        "        acc = binary_accuracy(predictions, batch.label)\n",
        "        \n",
        "        loss.backward()\n",
        "        \n",
        "        optimizer.step()\n",
        "        \n",
        "        epoch_loss += loss.item()\n",
        "        epoch_acc += acc.item()\n",
        "        \n",
        "    return epoch_loss / len(iterator), epoch_acc / len(iterator)"
      ],
      "execution_count": null,
      "outputs": []
    },
    {
      "cell_type": "markdown",
      "metadata": {
        "id": "UV1VKsb8zIdA"
      },
      "source": [
        "Then we define a function for testing our model, again remembering to separate `batch.text`.\n",
        "\n",
        "**Note**: as we are now using dropout, we must remember to use `model.eval()` to ensure the dropout is \"turned off\" while evaluating."
      ]
    },
    {
      "cell_type": "code",
      "metadata": {
        "id": "374ehVXpzIdB"
      },
      "source": [
        "def evaluate(model, iterator, criterion):\n",
        "    \n",
        "    epoch_loss = 0\n",
        "    epoch_acc = 0\n",
        "    \n",
        "    model.eval()\n",
        "    \n",
        "    with torch.no_grad():\n",
        "    \n",
        "        for batch in iterator:\n",
        "\n",
        "            text, text_lengths = batch.text\n",
        "            \n",
        "            predictions = model(text, text_lengths).squeeze(1)\n",
        "            \n",
        "            loss = criterion(predictions, batch.label)\n",
        "            \n",
        "            acc = binary_accuracy(predictions, batch.label)\n",
        "\n",
        "            epoch_loss += loss.item()\n",
        "            epoch_acc += acc.item()\n",
        "        \n",
        "    return epoch_loss / len(iterator), epoch_acc / len(iterator)"
      ],
      "execution_count": null,
      "outputs": []
    },
    {
      "cell_type": "markdown",
      "metadata": {
        "id": "NnwdBd7EzIdC"
      },
      "source": [
        "And also create a nice function to tell us how long our epochs are taking."
      ]
    },
    {
      "cell_type": "code",
      "metadata": {
        "id": "9rbX-lwyzIdD"
      },
      "source": [
        "import time\n",
        "\n",
        "def epoch_time(start_time, end_time):\n",
        "    elapsed_time = end_time - start_time\n",
        "    elapsed_mins = int(elapsed_time / 60)\n",
        "    elapsed_secs = int(elapsed_time - (elapsed_mins * 60))\n",
        "    return elapsed_mins, elapsed_secs"
      ],
      "execution_count": null,
      "outputs": []
    },
    {
      "cell_type": "markdown",
      "metadata": {
        "id": "QQ5TSRpTzIdE"
      },
      "source": [
        "Finally, we train our model..."
      ]
    },
    {
      "cell_type": "code",
      "metadata": {
        "colab": {
          "base_uri": "https://localhost:8080/"
        },
        "id": "wrxt624SzIdE",
        "outputId": "c0b3ca57-09c3-44d2-8fcc-e6cea18981b1"
      },
      "source": [
        "N_EPOCHS = 5\n",
        "\n",
        "best_valid_loss = float('inf')\n",
        "\n",
        "for epoch in range(N_EPOCHS):\n",
        "\n",
        "    start_time = time.time()\n",
        "    \n",
        "    train_loss, train_acc = train(model, train_iterator, optimizer, criterion)\n",
        "    valid_loss, valid_acc = evaluate(model, valid_iterator, criterion)\n",
        "    \n",
        "    end_time = time.time()\n",
        "\n",
        "    epoch_mins, epoch_secs = epoch_time(start_time, end_time)\n",
        "    \n",
        "    if valid_loss < best_valid_loss:\n",
        "        best_valid_loss = valid_loss\n",
        "        torch.save(model.state_dict(), 'tut2-model.pt')\n",
        "    \n",
        "    print(f'Epoch: {epoch+1:02} | Epoch Time: {epoch_mins}m {epoch_secs}s')\n",
        "    print(f'\\tTrain Loss: {train_loss:.3f} | Train Acc: {train_acc*100:.2f}%')\n",
        "    print(f'\\t Val. Loss: {valid_loss:.3f} |  Val. Acc: {valid_acc*100:.2f}%')"
      ],
      "execution_count": null,
      "outputs": [
        {
          "output_type": "stream",
          "name": "stdout",
          "text": [
            "Epoch: 01 | Epoch Time: 0m 35s\n",
            "\tTrain Loss: 0.637 | Train Acc: 62.79%\n",
            "\t Val. Loss: 0.512 |  Val. Acc: 75.48%\n",
            "Epoch: 02 | Epoch Time: 0m 36s\n",
            "\tTrain Loss: 0.548 | Train Acc: 73.00%\n",
            "\t Val. Loss: 0.523 |  Val. Acc: 75.25%\n",
            "Epoch: 03 | Epoch Time: 0m 36s\n",
            "\tTrain Loss: 0.519 | Train Acc: 74.58%\n",
            "\t Val. Loss: 0.427 |  Val. Acc: 80.72%\n",
            "Epoch: 04 | Epoch Time: 0m 36s\n",
            "\tTrain Loss: 0.365 | Train Acc: 84.29%\n",
            "\t Val. Loss: 0.325 |  Val. Acc: 86.44%\n",
            "Epoch: 05 | Epoch Time: 0m 37s\n",
            "\tTrain Loss: 0.299 | Train Acc: 87.86%\n",
            "\t Val. Loss: 0.294 |  Val. Acc: 88.03%\n"
          ]
        }
      ]
    },
    {
      "cell_type": "markdown",
      "metadata": {
        "id": "x7_QToA4zIdG"
      },
      "source": [
        "...and get our new and vastly improved test accuracy!"
      ]
    },
    {
      "cell_type": "code",
      "metadata": {
        "colab": {
          "base_uri": "https://localhost:8080/"
        },
        "id": "voYDzXhszIdG",
        "outputId": "4baccba3-c23c-4127-daee-d716fe26dc7c"
      },
      "source": [
        "model.load_state_dict(torch.load('tut2-model.pt'))\n",
        "\n",
        "test_loss, test_acc = evaluate(model, test_iterator, criterion)\n",
        "\n",
        "print(f'Test Loss: {test_loss:.3f} | Test Acc: {test_acc*100:.2f}%')"
      ],
      "execution_count": null,
      "outputs": [
        {
          "output_type": "stream",
          "name": "stdout",
          "text": [
            "Test Loss: 0.299 | Test Acc: 87.65%\n"
          ]
        }
      ]
    },
    {
      "cell_type": "markdown",
      "metadata": {
        "id": "yipJVKzhzIdI"
      },
      "source": [
        "## User Input\n",
        "\n",
        "We can now use our model to predict the sentiment of any sentence we give it. As it has been trained on movie reviews, the sentences provided should also be movie reviews.\n",
        "\n",
        "When using a model for inference it should always be in evaluation mode. If this tutorial is followed step-by-step then it should already be in evaluation mode (from doing `evaluate` on the test set), however we explicitly set it to avoid any risk.\n",
        "\n",
        "Our `predict_sentiment` function does a few things:\n",
        "- sets the model to evaluation mode\n",
        "- tokenizes the sentence, i.e. splits it from a raw string into a list of tokens\n",
        "- indexes the tokens by converting them into their integer representation from our vocabulary\n",
        "- gets the length of our sequence\n",
        "- converts the indexes, which are a Python list into a PyTorch tensor\n",
        "- add a batch dimension by `unsqueeze`ing \n",
        "- converts the length into a tensor\n",
        "- squashes the output prediction from a real number between 0 and 1 with the `sigmoid` function\n",
        "- converts the tensor holding a single value into an integer with the `item()` method\n",
        "\n",
        "We are expecting reviews with a negative sentiment to return a value close to 0 and positive reviews to return a value close to 1."
      ]
    },
    {
      "cell_type": "code",
      "metadata": {
        "id": "gNQ6_af5zIdI"
      },
      "source": [
        "import spacy\n",
        "nlp = spacy.load('en')\n",
        "\n",
        "def predict_sentiment(model, sentence):\n",
        "    model.eval()\n",
        "    tokenized = [tok.text for tok in nlp.tokenizer(sentence)]\n",
        "    indexed = [TEXT.vocab.stoi[t] for t in tokenized]\n",
        "    length = [len(indexed)]\n",
        "    tensor = torch.LongTensor(indexed).to(device)\n",
        "    tensor = tensor.unsqueeze(1)\n",
        "    length_tensor = torch.LongTensor(length)\n",
        "    prediction = torch.sigmoid(model(tensor, length_tensor))\n",
        "    return prediction.item()"
      ],
      "execution_count": null,
      "outputs": []
    },
    {
      "cell_type": "markdown",
      "metadata": {
        "id": "0qfIehpazIdK"
      },
      "source": [
        "An example negative review..."
      ]
    },
    {
      "cell_type": "code",
      "metadata": {
        "colab": {
          "base_uri": "https://localhost:8080/"
        },
        "id": "CKHqv3tQzIdK",
        "outputId": "2362af42-2029-4793-de68-4603f149fb7b"
      },
      "source": [
        "predict_sentiment(model, \"This film is terrible\")"
      ],
      "execution_count": null,
      "outputs": [
        {
          "output_type": "execute_result",
          "data": {
            "text/plain": [
              "0.06239619106054306"
            ]
          },
          "metadata": {},
          "execution_count": 55
        }
      ]
    },
    {
      "cell_type": "markdown",
      "metadata": {
        "id": "bpYmjWQizIdN"
      },
      "source": [
        "An example positive review..."
      ]
    },
    {
      "cell_type": "code",
      "metadata": {
        "colab": {
          "base_uri": "https://localhost:8080/"
        },
        "id": "o3OdPELdzIdN",
        "outputId": "ecd2e076-a1e8-4e89-9289-ba0ed4392579"
      },
      "source": [
        "predict_sentiment(model, \"This film is great\")"
      ],
      "execution_count": null,
      "outputs": [
        {
          "output_type": "execute_result",
          "data": {
            "text/plain": [
              "0.9357810616493225"
            ]
          },
          "metadata": {},
          "execution_count": 56
        }
      ]
    }
  ]
}