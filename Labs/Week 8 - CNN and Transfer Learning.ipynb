{
  "nbformat": 4,
  "nbformat_minor": 0,
  "metadata": {
    "colab": {
      "name": "Week 8 - AI class - CNNs and transfer learning",
      "provenance": [],
      "collapsed_sections": [],
      "toc_visible": true
    },
    "kernelspec": {
      "name": "python3",
      "display_name": "Python 3"
    },
    "accelerator": "GPU",
    "widgets": {
      "application/vnd.jupyter.widget-state+json": {
        "554085f821b9427a9b222a80eb44a332": {
          "model_module": "@jupyter-widgets/controls",
          "model_name": "HBoxModel",
          "model_module_version": "1.5.0",
          "state": {
            "_dom_classes": [],
            "_model_module": "@jupyter-widgets/controls",
            "_model_module_version": "1.5.0",
            "_model_name": "HBoxModel",
            "_view_count": null,
            "_view_module": "@jupyter-widgets/controls",
            "_view_module_version": "1.5.0",
            "_view_name": "HBoxView",
            "box_style": "",
            "children": [
              "IPY_MODEL_06292f34d0ae497dabd95c04f13242b7",
              "IPY_MODEL_f8c10c705dd245f8b89a80d22ee981e3",
              "IPY_MODEL_220407b179c34906bc168e75abe889f5"
            ],
            "layout": "IPY_MODEL_c56e14b7eac248a1a0ba3bd00eba15f4"
          }
        },
        "06292f34d0ae497dabd95c04f13242b7": {
          "model_module": "@jupyter-widgets/controls",
          "model_name": "HTMLModel",
          "model_module_version": "1.5.0",
          "state": {
            "_dom_classes": [],
            "_model_module": "@jupyter-widgets/controls",
            "_model_module_version": "1.5.0",
            "_model_name": "HTMLModel",
            "_view_count": null,
            "_view_module": "@jupyter-widgets/controls",
            "_view_module_version": "1.5.0",
            "_view_name": "HTMLView",
            "description": "",
            "description_tooltip": null,
            "layout": "IPY_MODEL_c128d258d56548f19e55de6ad32f7a5f",
            "placeholder": "​",
            "style": "IPY_MODEL_3a8f8ae5f99a4de6aabfda1f0abc1bef",
            "value": ""
          }
        },
        "f8c10c705dd245f8b89a80d22ee981e3": {
          "model_module": "@jupyter-widgets/controls",
          "model_name": "FloatProgressModel",
          "model_module_version": "1.5.0",
          "state": {
            "_dom_classes": [],
            "_model_module": "@jupyter-widgets/controls",
            "_model_module_version": "1.5.0",
            "_model_name": "FloatProgressModel",
            "_view_count": null,
            "_view_module": "@jupyter-widgets/controls",
            "_view_module_version": "1.5.0",
            "_view_name": "ProgressView",
            "bar_style": "success",
            "description": "",
            "description_tooltip": null,
            "layout": "IPY_MODEL_72e3de4ebf6b4d038d7c994f57a348cf",
            "max": 26421880,
            "min": 0,
            "orientation": "horizontal",
            "style": "IPY_MODEL_de59ed9704894bbc9e60fd2b1d56ed87",
            "value": 26421880
          }
        },
        "220407b179c34906bc168e75abe889f5": {
          "model_module": "@jupyter-widgets/controls",
          "model_name": "HTMLModel",
          "model_module_version": "1.5.0",
          "state": {
            "_dom_classes": [],
            "_model_module": "@jupyter-widgets/controls",
            "_model_module_version": "1.5.0",
            "_model_name": "HTMLModel",
            "_view_count": null,
            "_view_module": "@jupyter-widgets/controls",
            "_view_module_version": "1.5.0",
            "_view_name": "HTMLView",
            "description": "",
            "description_tooltip": null,
            "layout": "IPY_MODEL_787b3562624d482d979ab635388a3ba0",
            "placeholder": "​",
            "style": "IPY_MODEL_4249c5a2ae1b4ec7b8531ec63b915896",
            "value": " 26422272/? [00:01&lt;00:00, 25383944.31it/s]"
          }
        },
        "c56e14b7eac248a1a0ba3bd00eba15f4": {
          "model_module": "@jupyter-widgets/base",
          "model_name": "LayoutModel",
          "model_module_version": "1.2.0",
          "state": {
            "_model_module": "@jupyter-widgets/base",
            "_model_module_version": "1.2.0",
            "_model_name": "LayoutModel",
            "_view_count": null,
            "_view_module": "@jupyter-widgets/base",
            "_view_module_version": "1.2.0",
            "_view_name": "LayoutView",
            "align_content": null,
            "align_items": null,
            "align_self": null,
            "border": null,
            "bottom": null,
            "display": null,
            "flex": null,
            "flex_flow": null,
            "grid_area": null,
            "grid_auto_columns": null,
            "grid_auto_flow": null,
            "grid_auto_rows": null,
            "grid_column": null,
            "grid_gap": null,
            "grid_row": null,
            "grid_template_areas": null,
            "grid_template_columns": null,
            "grid_template_rows": null,
            "height": null,
            "justify_content": null,
            "justify_items": null,
            "left": null,
            "margin": null,
            "max_height": null,
            "max_width": null,
            "min_height": null,
            "min_width": null,
            "object_fit": null,
            "object_position": null,
            "order": null,
            "overflow": null,
            "overflow_x": null,
            "overflow_y": null,
            "padding": null,
            "right": null,
            "top": null,
            "visibility": null,
            "width": null
          }
        },
        "c128d258d56548f19e55de6ad32f7a5f": {
          "model_module": "@jupyter-widgets/base",
          "model_name": "LayoutModel",
          "model_module_version": "1.2.0",
          "state": {
            "_model_module": "@jupyter-widgets/base",
            "_model_module_version": "1.2.0",
            "_model_name": "LayoutModel",
            "_view_count": null,
            "_view_module": "@jupyter-widgets/base",
            "_view_module_version": "1.2.0",
            "_view_name": "LayoutView",
            "align_content": null,
            "align_items": null,
            "align_self": null,
            "border": null,
            "bottom": null,
            "display": null,
            "flex": null,
            "flex_flow": null,
            "grid_area": null,
            "grid_auto_columns": null,
            "grid_auto_flow": null,
            "grid_auto_rows": null,
            "grid_column": null,
            "grid_gap": null,
            "grid_row": null,
            "grid_template_areas": null,
            "grid_template_columns": null,
            "grid_template_rows": null,
            "height": null,
            "justify_content": null,
            "justify_items": null,
            "left": null,
            "margin": null,
            "max_height": null,
            "max_width": null,
            "min_height": null,
            "min_width": null,
            "object_fit": null,
            "object_position": null,
            "order": null,
            "overflow": null,
            "overflow_x": null,
            "overflow_y": null,
            "padding": null,
            "right": null,
            "top": null,
            "visibility": null,
            "width": null
          }
        },
        "3a8f8ae5f99a4de6aabfda1f0abc1bef": {
          "model_module": "@jupyter-widgets/controls",
          "model_name": "DescriptionStyleModel",
          "model_module_version": "1.5.0",
          "state": {
            "_model_module": "@jupyter-widgets/controls",
            "_model_module_version": "1.5.0",
            "_model_name": "DescriptionStyleModel",
            "_view_count": null,
            "_view_module": "@jupyter-widgets/base",
            "_view_module_version": "1.2.0",
            "_view_name": "StyleView",
            "description_width": ""
          }
        },
        "72e3de4ebf6b4d038d7c994f57a348cf": {
          "model_module": "@jupyter-widgets/base",
          "model_name": "LayoutModel",
          "model_module_version": "1.2.0",
          "state": {
            "_model_module": "@jupyter-widgets/base",
            "_model_module_version": "1.2.0",
            "_model_name": "LayoutModel",
            "_view_count": null,
            "_view_module": "@jupyter-widgets/base",
            "_view_module_version": "1.2.0",
            "_view_name": "LayoutView",
            "align_content": null,
            "align_items": null,
            "align_self": null,
            "border": null,
            "bottom": null,
            "display": null,
            "flex": null,
            "flex_flow": null,
            "grid_area": null,
            "grid_auto_columns": null,
            "grid_auto_flow": null,
            "grid_auto_rows": null,
            "grid_column": null,
            "grid_gap": null,
            "grid_row": null,
            "grid_template_areas": null,
            "grid_template_columns": null,
            "grid_template_rows": null,
            "height": null,
            "justify_content": null,
            "justify_items": null,
            "left": null,
            "margin": null,
            "max_height": null,
            "max_width": null,
            "min_height": null,
            "min_width": null,
            "object_fit": null,
            "object_position": null,
            "order": null,
            "overflow": null,
            "overflow_x": null,
            "overflow_y": null,
            "padding": null,
            "right": null,
            "top": null,
            "visibility": null,
            "width": null
          }
        },
        "de59ed9704894bbc9e60fd2b1d56ed87": {
          "model_module": "@jupyter-widgets/controls",
          "model_name": "ProgressStyleModel",
          "model_module_version": "1.5.0",
          "state": {
            "_model_module": "@jupyter-widgets/controls",
            "_model_module_version": "1.5.0",
            "_model_name": "ProgressStyleModel",
            "_view_count": null,
            "_view_module": "@jupyter-widgets/base",
            "_view_module_version": "1.2.0",
            "_view_name": "StyleView",
            "bar_color": null,
            "description_width": ""
          }
        },
        "787b3562624d482d979ab635388a3ba0": {
          "model_module": "@jupyter-widgets/base",
          "model_name": "LayoutModel",
          "model_module_version": "1.2.0",
          "state": {
            "_model_module": "@jupyter-widgets/base",
            "_model_module_version": "1.2.0",
            "_model_name": "LayoutModel",
            "_view_count": null,
            "_view_module": "@jupyter-widgets/base",
            "_view_module_version": "1.2.0",
            "_view_name": "LayoutView",
            "align_content": null,
            "align_items": null,
            "align_self": null,
            "border": null,
            "bottom": null,
            "display": null,
            "flex": null,
            "flex_flow": null,
            "grid_area": null,
            "grid_auto_columns": null,
            "grid_auto_flow": null,
            "grid_auto_rows": null,
            "grid_column": null,
            "grid_gap": null,
            "grid_row": null,
            "grid_template_areas": null,
            "grid_template_columns": null,
            "grid_template_rows": null,
            "height": null,
            "justify_content": null,
            "justify_items": null,
            "left": null,
            "margin": null,
            "max_height": null,
            "max_width": null,
            "min_height": null,
            "min_width": null,
            "object_fit": null,
            "object_position": null,
            "order": null,
            "overflow": null,
            "overflow_x": null,
            "overflow_y": null,
            "padding": null,
            "right": null,
            "top": null,
            "visibility": null,
            "width": null
          }
        },
        "4249c5a2ae1b4ec7b8531ec63b915896": {
          "model_module": "@jupyter-widgets/controls",
          "model_name": "DescriptionStyleModel",
          "model_module_version": "1.5.0",
          "state": {
            "_model_module": "@jupyter-widgets/controls",
            "_model_module_version": "1.5.0",
            "_model_name": "DescriptionStyleModel",
            "_view_count": null,
            "_view_module": "@jupyter-widgets/base",
            "_view_module_version": "1.2.0",
            "_view_name": "StyleView",
            "description_width": ""
          }
        },
        "268576ff951e442bb0a383514cd221ed": {
          "model_module": "@jupyter-widgets/controls",
          "model_name": "HBoxModel",
          "model_module_version": "1.5.0",
          "state": {
            "_dom_classes": [],
            "_model_module": "@jupyter-widgets/controls",
            "_model_module_version": "1.5.0",
            "_model_name": "HBoxModel",
            "_view_count": null,
            "_view_module": "@jupyter-widgets/controls",
            "_view_module_version": "1.5.0",
            "_view_name": "HBoxView",
            "box_style": "",
            "children": [
              "IPY_MODEL_0e8c845dfe28445c9133cca5814c94cd",
              "IPY_MODEL_cbb57b21472f4c04be3a054c70d132cc",
              "IPY_MODEL_9fde266277554c66992ebdf1dbeb64a7"
            ],
            "layout": "IPY_MODEL_81d50eabab7a4f328c175dd3b78d8a74"
          }
        },
        "0e8c845dfe28445c9133cca5814c94cd": {
          "model_module": "@jupyter-widgets/controls",
          "model_name": "HTMLModel",
          "model_module_version": "1.5.0",
          "state": {
            "_dom_classes": [],
            "_model_module": "@jupyter-widgets/controls",
            "_model_module_version": "1.5.0",
            "_model_name": "HTMLModel",
            "_view_count": null,
            "_view_module": "@jupyter-widgets/controls",
            "_view_module_version": "1.5.0",
            "_view_name": "HTMLView",
            "description": "",
            "description_tooltip": null,
            "layout": "IPY_MODEL_4734bef9095c49709d0e343eac9dee55",
            "placeholder": "​",
            "style": "IPY_MODEL_0f58506e873142f58bc122ead866eae6",
            "value": ""
          }
        },
        "cbb57b21472f4c04be3a054c70d132cc": {
          "model_module": "@jupyter-widgets/controls",
          "model_name": "FloatProgressModel",
          "model_module_version": "1.5.0",
          "state": {
            "_dom_classes": [],
            "_model_module": "@jupyter-widgets/controls",
            "_model_module_version": "1.5.0",
            "_model_name": "FloatProgressModel",
            "_view_count": null,
            "_view_module": "@jupyter-widgets/controls",
            "_view_module_version": "1.5.0",
            "_view_name": "ProgressView",
            "bar_style": "success",
            "description": "",
            "description_tooltip": null,
            "layout": "IPY_MODEL_b8a2f98cc5c44cc4879a210f42c97611",
            "max": 29515,
            "min": 0,
            "orientation": "horizontal",
            "style": "IPY_MODEL_8505b3feb3c34336a758cb07a66bbeb0",
            "value": 29515
          }
        },
        "9fde266277554c66992ebdf1dbeb64a7": {
          "model_module": "@jupyter-widgets/controls",
          "model_name": "HTMLModel",
          "model_module_version": "1.5.0",
          "state": {
            "_dom_classes": [],
            "_model_module": "@jupyter-widgets/controls",
            "_model_module_version": "1.5.0",
            "_model_name": "HTMLModel",
            "_view_count": null,
            "_view_module": "@jupyter-widgets/controls",
            "_view_module_version": "1.5.0",
            "_view_name": "HTMLView",
            "description": "",
            "description_tooltip": null,
            "layout": "IPY_MODEL_2a534ed1e97a4823be68295734b75ad8",
            "placeholder": "​",
            "style": "IPY_MODEL_dcc1ea29b873442d92636b90764235bc",
            "value": " 29696/? [00:00&lt;00:00, 333453.05it/s]"
          }
        },
        "81d50eabab7a4f328c175dd3b78d8a74": {
          "model_module": "@jupyter-widgets/base",
          "model_name": "LayoutModel",
          "model_module_version": "1.2.0",
          "state": {
            "_model_module": "@jupyter-widgets/base",
            "_model_module_version": "1.2.0",
            "_model_name": "LayoutModel",
            "_view_count": null,
            "_view_module": "@jupyter-widgets/base",
            "_view_module_version": "1.2.0",
            "_view_name": "LayoutView",
            "align_content": null,
            "align_items": null,
            "align_self": null,
            "border": null,
            "bottom": null,
            "display": null,
            "flex": null,
            "flex_flow": null,
            "grid_area": null,
            "grid_auto_columns": null,
            "grid_auto_flow": null,
            "grid_auto_rows": null,
            "grid_column": null,
            "grid_gap": null,
            "grid_row": null,
            "grid_template_areas": null,
            "grid_template_columns": null,
            "grid_template_rows": null,
            "height": null,
            "justify_content": null,
            "justify_items": null,
            "left": null,
            "margin": null,
            "max_height": null,
            "max_width": null,
            "min_height": null,
            "min_width": null,
            "object_fit": null,
            "object_position": null,
            "order": null,
            "overflow": null,
            "overflow_x": null,
            "overflow_y": null,
            "padding": null,
            "right": null,
            "top": null,
            "visibility": null,
            "width": null
          }
        },
        "4734bef9095c49709d0e343eac9dee55": {
          "model_module": "@jupyter-widgets/base",
          "model_name": "LayoutModel",
          "model_module_version": "1.2.0",
          "state": {
            "_model_module": "@jupyter-widgets/base",
            "_model_module_version": "1.2.0",
            "_model_name": "LayoutModel",
            "_view_count": null,
            "_view_module": "@jupyter-widgets/base",
            "_view_module_version": "1.2.0",
            "_view_name": "LayoutView",
            "align_content": null,
            "align_items": null,
            "align_self": null,
            "border": null,
            "bottom": null,
            "display": null,
            "flex": null,
            "flex_flow": null,
            "grid_area": null,
            "grid_auto_columns": null,
            "grid_auto_flow": null,
            "grid_auto_rows": null,
            "grid_column": null,
            "grid_gap": null,
            "grid_row": null,
            "grid_template_areas": null,
            "grid_template_columns": null,
            "grid_template_rows": null,
            "height": null,
            "justify_content": null,
            "justify_items": null,
            "left": null,
            "margin": null,
            "max_height": null,
            "max_width": null,
            "min_height": null,
            "min_width": null,
            "object_fit": null,
            "object_position": null,
            "order": null,
            "overflow": null,
            "overflow_x": null,
            "overflow_y": null,
            "padding": null,
            "right": null,
            "top": null,
            "visibility": null,
            "width": null
          }
        },
        "0f58506e873142f58bc122ead866eae6": {
          "model_module": "@jupyter-widgets/controls",
          "model_name": "DescriptionStyleModel",
          "model_module_version": "1.5.0",
          "state": {
            "_model_module": "@jupyter-widgets/controls",
            "_model_module_version": "1.5.0",
            "_model_name": "DescriptionStyleModel",
            "_view_count": null,
            "_view_module": "@jupyter-widgets/base",
            "_view_module_version": "1.2.0",
            "_view_name": "StyleView",
            "description_width": ""
          }
        },
        "b8a2f98cc5c44cc4879a210f42c97611": {
          "model_module": "@jupyter-widgets/base",
          "model_name": "LayoutModel",
          "model_module_version": "1.2.0",
          "state": {
            "_model_module": "@jupyter-widgets/base",
            "_model_module_version": "1.2.0",
            "_model_name": "LayoutModel",
            "_view_count": null,
            "_view_module": "@jupyter-widgets/base",
            "_view_module_version": "1.2.0",
            "_view_name": "LayoutView",
            "align_content": null,
            "align_items": null,
            "align_self": null,
            "border": null,
            "bottom": null,
            "display": null,
            "flex": null,
            "flex_flow": null,
            "grid_area": null,
            "grid_auto_columns": null,
            "grid_auto_flow": null,
            "grid_auto_rows": null,
            "grid_column": null,
            "grid_gap": null,
            "grid_row": null,
            "grid_template_areas": null,
            "grid_template_columns": null,
            "grid_template_rows": null,
            "height": null,
            "justify_content": null,
            "justify_items": null,
            "left": null,
            "margin": null,
            "max_height": null,
            "max_width": null,
            "min_height": null,
            "min_width": null,
            "object_fit": null,
            "object_position": null,
            "order": null,
            "overflow": null,
            "overflow_x": null,
            "overflow_y": null,
            "padding": null,
            "right": null,
            "top": null,
            "visibility": null,
            "width": null
          }
        },
        "8505b3feb3c34336a758cb07a66bbeb0": {
          "model_module": "@jupyter-widgets/controls",
          "model_name": "ProgressStyleModel",
          "model_module_version": "1.5.0",
          "state": {
            "_model_module": "@jupyter-widgets/controls",
            "_model_module_version": "1.5.0",
            "_model_name": "ProgressStyleModel",
            "_view_count": null,
            "_view_module": "@jupyter-widgets/base",
            "_view_module_version": "1.2.0",
            "_view_name": "StyleView",
            "bar_color": null,
            "description_width": ""
          }
        },
        "2a534ed1e97a4823be68295734b75ad8": {
          "model_module": "@jupyter-widgets/base",
          "model_name": "LayoutModel",
          "model_module_version": "1.2.0",
          "state": {
            "_model_module": "@jupyter-widgets/base",
            "_model_module_version": "1.2.0",
            "_model_name": "LayoutModel",
            "_view_count": null,
            "_view_module": "@jupyter-widgets/base",
            "_view_module_version": "1.2.0",
            "_view_name": "LayoutView",
            "align_content": null,
            "align_items": null,
            "align_self": null,
            "border": null,
            "bottom": null,
            "display": null,
            "flex": null,
            "flex_flow": null,
            "grid_area": null,
            "grid_auto_columns": null,
            "grid_auto_flow": null,
            "grid_auto_rows": null,
            "grid_column": null,
            "grid_gap": null,
            "grid_row": null,
            "grid_template_areas": null,
            "grid_template_columns": null,
            "grid_template_rows": null,
            "height": null,
            "justify_content": null,
            "justify_items": null,
            "left": null,
            "margin": null,
            "max_height": null,
            "max_width": null,
            "min_height": null,
            "min_width": null,
            "object_fit": null,
            "object_position": null,
            "order": null,
            "overflow": null,
            "overflow_x": null,
            "overflow_y": null,
            "padding": null,
            "right": null,
            "top": null,
            "visibility": null,
            "width": null
          }
        },
        "dcc1ea29b873442d92636b90764235bc": {
          "model_module": "@jupyter-widgets/controls",
          "model_name": "DescriptionStyleModel",
          "model_module_version": "1.5.0",
          "state": {
            "_model_module": "@jupyter-widgets/controls",
            "_model_module_version": "1.5.0",
            "_model_name": "DescriptionStyleModel",
            "_view_count": null,
            "_view_module": "@jupyter-widgets/base",
            "_view_module_version": "1.2.0",
            "_view_name": "StyleView",
            "description_width": ""
          }
        },
        "b466c37eb5cf4b50a95348017bbbd0e5": {
          "model_module": "@jupyter-widgets/controls",
          "model_name": "HBoxModel",
          "model_module_version": "1.5.0",
          "state": {
            "_dom_classes": [],
            "_model_module": "@jupyter-widgets/controls",
            "_model_module_version": "1.5.0",
            "_model_name": "HBoxModel",
            "_view_count": null,
            "_view_module": "@jupyter-widgets/controls",
            "_view_module_version": "1.5.0",
            "_view_name": "HBoxView",
            "box_style": "",
            "children": [
              "IPY_MODEL_a3517d4d2210479e85c0c25f41d01427",
              "IPY_MODEL_1473a0fcad414ea2ab71279e4dabb697",
              "IPY_MODEL_66f9160330a44c03808a2828b08612eb"
            ],
            "layout": "IPY_MODEL_e6e24705c4a14eae977a2bcb473f8122"
          }
        },
        "a3517d4d2210479e85c0c25f41d01427": {
          "model_module": "@jupyter-widgets/controls",
          "model_name": "HTMLModel",
          "model_module_version": "1.5.0",
          "state": {
            "_dom_classes": [],
            "_model_module": "@jupyter-widgets/controls",
            "_model_module_version": "1.5.0",
            "_model_name": "HTMLModel",
            "_view_count": null,
            "_view_module": "@jupyter-widgets/controls",
            "_view_module_version": "1.5.0",
            "_view_name": "HTMLView",
            "description": "",
            "description_tooltip": null,
            "layout": "IPY_MODEL_139c406551f54aa8ab3db7cb0b938a71",
            "placeholder": "​",
            "style": "IPY_MODEL_049adc86b2a74f39a7c156b164fba526",
            "value": ""
          }
        },
        "1473a0fcad414ea2ab71279e4dabb697": {
          "model_module": "@jupyter-widgets/controls",
          "model_name": "FloatProgressModel",
          "model_module_version": "1.5.0",
          "state": {
            "_dom_classes": [],
            "_model_module": "@jupyter-widgets/controls",
            "_model_module_version": "1.5.0",
            "_model_name": "FloatProgressModel",
            "_view_count": null,
            "_view_module": "@jupyter-widgets/controls",
            "_view_module_version": "1.5.0",
            "_view_name": "ProgressView",
            "bar_style": "success",
            "description": "",
            "description_tooltip": null,
            "layout": "IPY_MODEL_31c93859fb8a46b9a77d1f73d072b4cc",
            "max": 4422102,
            "min": 0,
            "orientation": "horizontal",
            "style": "IPY_MODEL_7f4cd863cec146d7b3cb0e46fac5231f",
            "value": 4422102
          }
        },
        "66f9160330a44c03808a2828b08612eb": {
          "model_module": "@jupyter-widgets/controls",
          "model_name": "HTMLModel",
          "model_module_version": "1.5.0",
          "state": {
            "_dom_classes": [],
            "_model_module": "@jupyter-widgets/controls",
            "_model_module_version": "1.5.0",
            "_model_name": "HTMLModel",
            "_view_count": null,
            "_view_module": "@jupyter-widgets/controls",
            "_view_module_version": "1.5.0",
            "_view_name": "HTMLView",
            "description": "",
            "description_tooltip": null,
            "layout": "IPY_MODEL_c3b8b8109a234a67916e440bf4f2ca5a",
            "placeholder": "​",
            "style": "IPY_MODEL_67fa98cc5d5d4f74b8a78735ff78f50c",
            "value": " 4422656/? [00:00&lt;00:00, 8714979.44it/s]"
          }
        },
        "e6e24705c4a14eae977a2bcb473f8122": {
          "model_module": "@jupyter-widgets/base",
          "model_name": "LayoutModel",
          "model_module_version": "1.2.0",
          "state": {
            "_model_module": "@jupyter-widgets/base",
            "_model_module_version": "1.2.0",
            "_model_name": "LayoutModel",
            "_view_count": null,
            "_view_module": "@jupyter-widgets/base",
            "_view_module_version": "1.2.0",
            "_view_name": "LayoutView",
            "align_content": null,
            "align_items": null,
            "align_self": null,
            "border": null,
            "bottom": null,
            "display": null,
            "flex": null,
            "flex_flow": null,
            "grid_area": null,
            "grid_auto_columns": null,
            "grid_auto_flow": null,
            "grid_auto_rows": null,
            "grid_column": null,
            "grid_gap": null,
            "grid_row": null,
            "grid_template_areas": null,
            "grid_template_columns": null,
            "grid_template_rows": null,
            "height": null,
            "justify_content": null,
            "justify_items": null,
            "left": null,
            "margin": null,
            "max_height": null,
            "max_width": null,
            "min_height": null,
            "min_width": null,
            "object_fit": null,
            "object_position": null,
            "order": null,
            "overflow": null,
            "overflow_x": null,
            "overflow_y": null,
            "padding": null,
            "right": null,
            "top": null,
            "visibility": null,
            "width": null
          }
        },
        "139c406551f54aa8ab3db7cb0b938a71": {
          "model_module": "@jupyter-widgets/base",
          "model_name": "LayoutModel",
          "model_module_version": "1.2.0",
          "state": {
            "_model_module": "@jupyter-widgets/base",
            "_model_module_version": "1.2.0",
            "_model_name": "LayoutModel",
            "_view_count": null,
            "_view_module": "@jupyter-widgets/base",
            "_view_module_version": "1.2.0",
            "_view_name": "LayoutView",
            "align_content": null,
            "align_items": null,
            "align_self": null,
            "border": null,
            "bottom": null,
            "display": null,
            "flex": null,
            "flex_flow": null,
            "grid_area": null,
            "grid_auto_columns": null,
            "grid_auto_flow": null,
            "grid_auto_rows": null,
            "grid_column": null,
            "grid_gap": null,
            "grid_row": null,
            "grid_template_areas": null,
            "grid_template_columns": null,
            "grid_template_rows": null,
            "height": null,
            "justify_content": null,
            "justify_items": null,
            "left": null,
            "margin": null,
            "max_height": null,
            "max_width": null,
            "min_height": null,
            "min_width": null,
            "object_fit": null,
            "object_position": null,
            "order": null,
            "overflow": null,
            "overflow_x": null,
            "overflow_y": null,
            "padding": null,
            "right": null,
            "top": null,
            "visibility": null,
            "width": null
          }
        },
        "049adc86b2a74f39a7c156b164fba526": {
          "model_module": "@jupyter-widgets/controls",
          "model_name": "DescriptionStyleModel",
          "model_module_version": "1.5.0",
          "state": {
            "_model_module": "@jupyter-widgets/controls",
            "_model_module_version": "1.5.0",
            "_model_name": "DescriptionStyleModel",
            "_view_count": null,
            "_view_module": "@jupyter-widgets/base",
            "_view_module_version": "1.2.0",
            "_view_name": "StyleView",
            "description_width": ""
          }
        },
        "31c93859fb8a46b9a77d1f73d072b4cc": {
          "model_module": "@jupyter-widgets/base",
          "model_name": "LayoutModel",
          "model_module_version": "1.2.0",
          "state": {
            "_model_module": "@jupyter-widgets/base",
            "_model_module_version": "1.2.0",
            "_model_name": "LayoutModel",
            "_view_count": null,
            "_view_module": "@jupyter-widgets/base",
            "_view_module_version": "1.2.0",
            "_view_name": "LayoutView",
            "align_content": null,
            "align_items": null,
            "align_self": null,
            "border": null,
            "bottom": null,
            "display": null,
            "flex": null,
            "flex_flow": null,
            "grid_area": null,
            "grid_auto_columns": null,
            "grid_auto_flow": null,
            "grid_auto_rows": null,
            "grid_column": null,
            "grid_gap": null,
            "grid_row": null,
            "grid_template_areas": null,
            "grid_template_columns": null,
            "grid_template_rows": null,
            "height": null,
            "justify_content": null,
            "justify_items": null,
            "left": null,
            "margin": null,
            "max_height": null,
            "max_width": null,
            "min_height": null,
            "min_width": null,
            "object_fit": null,
            "object_position": null,
            "order": null,
            "overflow": null,
            "overflow_x": null,
            "overflow_y": null,
            "padding": null,
            "right": null,
            "top": null,
            "visibility": null,
            "width": null
          }
        },
        "7f4cd863cec146d7b3cb0e46fac5231f": {
          "model_module": "@jupyter-widgets/controls",
          "model_name": "ProgressStyleModel",
          "model_module_version": "1.5.0",
          "state": {
            "_model_module": "@jupyter-widgets/controls",
            "_model_module_version": "1.5.0",
            "_model_name": "ProgressStyleModel",
            "_view_count": null,
            "_view_module": "@jupyter-widgets/base",
            "_view_module_version": "1.2.0",
            "_view_name": "StyleView",
            "bar_color": null,
            "description_width": ""
          }
        },
        "c3b8b8109a234a67916e440bf4f2ca5a": {
          "model_module": "@jupyter-widgets/base",
          "model_name": "LayoutModel",
          "model_module_version": "1.2.0",
          "state": {
            "_model_module": "@jupyter-widgets/base",
            "_model_module_version": "1.2.0",
            "_model_name": "LayoutModel",
            "_view_count": null,
            "_view_module": "@jupyter-widgets/base",
            "_view_module_version": "1.2.0",
            "_view_name": "LayoutView",
            "align_content": null,
            "align_items": null,
            "align_self": null,
            "border": null,
            "bottom": null,
            "display": null,
            "flex": null,
            "flex_flow": null,
            "grid_area": null,
            "grid_auto_columns": null,
            "grid_auto_flow": null,
            "grid_auto_rows": null,
            "grid_column": null,
            "grid_gap": null,
            "grid_row": null,
            "grid_template_areas": null,
            "grid_template_columns": null,
            "grid_template_rows": null,
            "height": null,
            "justify_content": null,
            "justify_items": null,
            "left": null,
            "margin": null,
            "max_height": null,
            "max_width": null,
            "min_height": null,
            "min_width": null,
            "object_fit": null,
            "object_position": null,
            "order": null,
            "overflow": null,
            "overflow_x": null,
            "overflow_y": null,
            "padding": null,
            "right": null,
            "top": null,
            "visibility": null,
            "width": null
          }
        },
        "67fa98cc5d5d4f74b8a78735ff78f50c": {
          "model_module": "@jupyter-widgets/controls",
          "model_name": "DescriptionStyleModel",
          "model_module_version": "1.5.0",
          "state": {
            "_model_module": "@jupyter-widgets/controls",
            "_model_module_version": "1.5.0",
            "_model_name": "DescriptionStyleModel",
            "_view_count": null,
            "_view_module": "@jupyter-widgets/base",
            "_view_module_version": "1.2.0",
            "_view_name": "StyleView",
            "description_width": ""
          }
        },
        "d12604cd02a9463cbf0533c2b911a2a1": {
          "model_module": "@jupyter-widgets/controls",
          "model_name": "HBoxModel",
          "model_module_version": "1.5.0",
          "state": {
            "_dom_classes": [],
            "_model_module": "@jupyter-widgets/controls",
            "_model_module_version": "1.5.0",
            "_model_name": "HBoxModel",
            "_view_count": null,
            "_view_module": "@jupyter-widgets/controls",
            "_view_module_version": "1.5.0",
            "_view_name": "HBoxView",
            "box_style": "",
            "children": [
              "IPY_MODEL_f613f596d77b471ab1f63ea9e267347a",
              "IPY_MODEL_159f476825cb460599918a74045f69a4",
              "IPY_MODEL_fe0c00d1bf414bee83ecea627aeabfd2"
            ],
            "layout": "IPY_MODEL_3c232001afdd4bda832a708f8eb72f7c"
          }
        },
        "f613f596d77b471ab1f63ea9e267347a": {
          "model_module": "@jupyter-widgets/controls",
          "model_name": "HTMLModel",
          "model_module_version": "1.5.0",
          "state": {
            "_dom_classes": [],
            "_model_module": "@jupyter-widgets/controls",
            "_model_module_version": "1.5.0",
            "_model_name": "HTMLModel",
            "_view_count": null,
            "_view_module": "@jupyter-widgets/controls",
            "_view_module_version": "1.5.0",
            "_view_name": "HTMLView",
            "description": "",
            "description_tooltip": null,
            "layout": "IPY_MODEL_1306b7578df04b8cb0c82c44d01493c5",
            "placeholder": "​",
            "style": "IPY_MODEL_93525ef7fe6f41758efdb9eb663c2fb0",
            "value": ""
          }
        },
        "159f476825cb460599918a74045f69a4": {
          "model_module": "@jupyter-widgets/controls",
          "model_name": "FloatProgressModel",
          "model_module_version": "1.5.0",
          "state": {
            "_dom_classes": [],
            "_model_module": "@jupyter-widgets/controls",
            "_model_module_version": "1.5.0",
            "_model_name": "FloatProgressModel",
            "_view_count": null,
            "_view_module": "@jupyter-widgets/controls",
            "_view_module_version": "1.5.0",
            "_view_name": "ProgressView",
            "bar_style": "success",
            "description": "",
            "description_tooltip": null,
            "layout": "IPY_MODEL_30b3de3315364757a93fc61f80c4955c",
            "max": 5148,
            "min": 0,
            "orientation": "horizontal",
            "style": "IPY_MODEL_ee79cfe60de34b6482032be578962d65",
            "value": 5148
          }
        },
        "fe0c00d1bf414bee83ecea627aeabfd2": {
          "model_module": "@jupyter-widgets/controls",
          "model_name": "HTMLModel",
          "model_module_version": "1.5.0",
          "state": {
            "_dom_classes": [],
            "_model_module": "@jupyter-widgets/controls",
            "_model_module_version": "1.5.0",
            "_model_name": "HTMLModel",
            "_view_count": null,
            "_view_module": "@jupyter-widgets/controls",
            "_view_module_version": "1.5.0",
            "_view_name": "HTMLView",
            "description": "",
            "description_tooltip": null,
            "layout": "IPY_MODEL_3254fd8fa197425dac42596ea885fedf",
            "placeholder": "​",
            "style": "IPY_MODEL_acc0f04288634c2081df75148af2c054",
            "value": " 6144/? [00:00&lt;00:00, 196584.00it/s]"
          }
        },
        "3c232001afdd4bda832a708f8eb72f7c": {
          "model_module": "@jupyter-widgets/base",
          "model_name": "LayoutModel",
          "model_module_version": "1.2.0",
          "state": {
            "_model_module": "@jupyter-widgets/base",
            "_model_module_version": "1.2.0",
            "_model_name": "LayoutModel",
            "_view_count": null,
            "_view_module": "@jupyter-widgets/base",
            "_view_module_version": "1.2.0",
            "_view_name": "LayoutView",
            "align_content": null,
            "align_items": null,
            "align_self": null,
            "border": null,
            "bottom": null,
            "display": null,
            "flex": null,
            "flex_flow": null,
            "grid_area": null,
            "grid_auto_columns": null,
            "grid_auto_flow": null,
            "grid_auto_rows": null,
            "grid_column": null,
            "grid_gap": null,
            "grid_row": null,
            "grid_template_areas": null,
            "grid_template_columns": null,
            "grid_template_rows": null,
            "height": null,
            "justify_content": null,
            "justify_items": null,
            "left": null,
            "margin": null,
            "max_height": null,
            "max_width": null,
            "min_height": null,
            "min_width": null,
            "object_fit": null,
            "object_position": null,
            "order": null,
            "overflow": null,
            "overflow_x": null,
            "overflow_y": null,
            "padding": null,
            "right": null,
            "top": null,
            "visibility": null,
            "width": null
          }
        },
        "1306b7578df04b8cb0c82c44d01493c5": {
          "model_module": "@jupyter-widgets/base",
          "model_name": "LayoutModel",
          "model_module_version": "1.2.0",
          "state": {
            "_model_module": "@jupyter-widgets/base",
            "_model_module_version": "1.2.0",
            "_model_name": "LayoutModel",
            "_view_count": null,
            "_view_module": "@jupyter-widgets/base",
            "_view_module_version": "1.2.0",
            "_view_name": "LayoutView",
            "align_content": null,
            "align_items": null,
            "align_self": null,
            "border": null,
            "bottom": null,
            "display": null,
            "flex": null,
            "flex_flow": null,
            "grid_area": null,
            "grid_auto_columns": null,
            "grid_auto_flow": null,
            "grid_auto_rows": null,
            "grid_column": null,
            "grid_gap": null,
            "grid_row": null,
            "grid_template_areas": null,
            "grid_template_columns": null,
            "grid_template_rows": null,
            "height": null,
            "justify_content": null,
            "justify_items": null,
            "left": null,
            "margin": null,
            "max_height": null,
            "max_width": null,
            "min_height": null,
            "min_width": null,
            "object_fit": null,
            "object_position": null,
            "order": null,
            "overflow": null,
            "overflow_x": null,
            "overflow_y": null,
            "padding": null,
            "right": null,
            "top": null,
            "visibility": null,
            "width": null
          }
        },
        "93525ef7fe6f41758efdb9eb663c2fb0": {
          "model_module": "@jupyter-widgets/controls",
          "model_name": "DescriptionStyleModel",
          "model_module_version": "1.5.0",
          "state": {
            "_model_module": "@jupyter-widgets/controls",
            "_model_module_version": "1.5.0",
            "_model_name": "DescriptionStyleModel",
            "_view_count": null,
            "_view_module": "@jupyter-widgets/base",
            "_view_module_version": "1.2.0",
            "_view_name": "StyleView",
            "description_width": ""
          }
        },
        "30b3de3315364757a93fc61f80c4955c": {
          "model_module": "@jupyter-widgets/base",
          "model_name": "LayoutModel",
          "model_module_version": "1.2.0",
          "state": {
            "_model_module": "@jupyter-widgets/base",
            "_model_module_version": "1.2.0",
            "_model_name": "LayoutModel",
            "_view_count": null,
            "_view_module": "@jupyter-widgets/base",
            "_view_module_version": "1.2.0",
            "_view_name": "LayoutView",
            "align_content": null,
            "align_items": null,
            "align_self": null,
            "border": null,
            "bottom": null,
            "display": null,
            "flex": null,
            "flex_flow": null,
            "grid_area": null,
            "grid_auto_columns": null,
            "grid_auto_flow": null,
            "grid_auto_rows": null,
            "grid_column": null,
            "grid_gap": null,
            "grid_row": null,
            "grid_template_areas": null,
            "grid_template_columns": null,
            "grid_template_rows": null,
            "height": null,
            "justify_content": null,
            "justify_items": null,
            "left": null,
            "margin": null,
            "max_height": null,
            "max_width": null,
            "min_height": null,
            "min_width": null,
            "object_fit": null,
            "object_position": null,
            "order": null,
            "overflow": null,
            "overflow_x": null,
            "overflow_y": null,
            "padding": null,
            "right": null,
            "top": null,
            "visibility": null,
            "width": null
          }
        },
        "ee79cfe60de34b6482032be578962d65": {
          "model_module": "@jupyter-widgets/controls",
          "model_name": "ProgressStyleModel",
          "model_module_version": "1.5.0",
          "state": {
            "_model_module": "@jupyter-widgets/controls",
            "_model_module_version": "1.5.0",
            "_model_name": "ProgressStyleModel",
            "_view_count": null,
            "_view_module": "@jupyter-widgets/base",
            "_view_module_version": "1.2.0",
            "_view_name": "StyleView",
            "bar_color": null,
            "description_width": ""
          }
        },
        "3254fd8fa197425dac42596ea885fedf": {
          "model_module": "@jupyter-widgets/base",
          "model_name": "LayoutModel",
          "model_module_version": "1.2.0",
          "state": {
            "_model_module": "@jupyter-widgets/base",
            "_model_module_version": "1.2.0",
            "_model_name": "LayoutModel",
            "_view_count": null,
            "_view_module": "@jupyter-widgets/base",
            "_view_module_version": "1.2.0",
            "_view_name": "LayoutView",
            "align_content": null,
            "align_items": null,
            "align_self": null,
            "border": null,
            "bottom": null,
            "display": null,
            "flex": null,
            "flex_flow": null,
            "grid_area": null,
            "grid_auto_columns": null,
            "grid_auto_flow": null,
            "grid_auto_rows": null,
            "grid_column": null,
            "grid_gap": null,
            "grid_row": null,
            "grid_template_areas": null,
            "grid_template_columns": null,
            "grid_template_rows": null,
            "height": null,
            "justify_content": null,
            "justify_items": null,
            "left": null,
            "margin": null,
            "max_height": null,
            "max_width": null,
            "min_height": null,
            "min_width": null,
            "object_fit": null,
            "object_position": null,
            "order": null,
            "overflow": null,
            "overflow_x": null,
            "overflow_y": null,
            "padding": null,
            "right": null,
            "top": null,
            "visibility": null,
            "width": null
          }
        },
        "acc0f04288634c2081df75148af2c054": {
          "model_module": "@jupyter-widgets/controls",
          "model_name": "DescriptionStyleModel",
          "model_module_version": "1.5.0",
          "state": {
            "_model_module": "@jupyter-widgets/controls",
            "_model_module_version": "1.5.0",
            "_model_name": "DescriptionStyleModel",
            "_view_count": null,
            "_view_module": "@jupyter-widgets/base",
            "_view_module_version": "1.2.0",
            "_view_name": "StyleView",
            "description_width": ""
          }
        },
        "77c32cf7913147e3916b4d3681b03eeb": {
          "model_module": "@jupyter-widgets/controls",
          "model_name": "HBoxModel",
          "model_module_version": "1.5.0",
          "state": {
            "_dom_classes": [],
            "_model_module": "@jupyter-widgets/controls",
            "_model_module_version": "1.5.0",
            "_model_name": "HBoxModel",
            "_view_count": null,
            "_view_module": "@jupyter-widgets/controls",
            "_view_module_version": "1.5.0",
            "_view_name": "HBoxView",
            "box_style": "",
            "children": [
              "IPY_MODEL_760a26314a234b5aa7c4b3c07304fd96",
              "IPY_MODEL_4298383d6f6a4b8e8d640cafe1ef6124",
              "IPY_MODEL_bcc8e09a469240feb8a64d025f3dd38f"
            ],
            "layout": "IPY_MODEL_72194e1c271b40b7aaf349106399a6a1"
          }
        },
        "760a26314a234b5aa7c4b3c07304fd96": {
          "model_module": "@jupyter-widgets/controls",
          "model_name": "HTMLModel",
          "model_module_version": "1.5.0",
          "state": {
            "_dom_classes": [],
            "_model_module": "@jupyter-widgets/controls",
            "_model_module_version": "1.5.0",
            "_model_name": "HTMLModel",
            "_view_count": null,
            "_view_module": "@jupyter-widgets/controls",
            "_view_module_version": "1.5.0",
            "_view_name": "HTMLView",
            "description": "",
            "description_tooltip": null,
            "layout": "IPY_MODEL_052f17c3a79c4f7bb0635120fb5c4402",
            "placeholder": "​",
            "style": "IPY_MODEL_2227106707ae4f70bc1a38ba962e79e8",
            "value": "100%"
          }
        },
        "4298383d6f6a4b8e8d640cafe1ef6124": {
          "model_module": "@jupyter-widgets/controls",
          "model_name": "FloatProgressModel",
          "model_module_version": "1.5.0",
          "state": {
            "_dom_classes": [],
            "_model_module": "@jupyter-widgets/controls",
            "_model_module_version": "1.5.0",
            "_model_name": "FloatProgressModel",
            "_view_count": null,
            "_view_module": "@jupyter-widgets/controls",
            "_view_module_version": "1.5.0",
            "_view_name": "ProgressView",
            "bar_style": "success",
            "description": "",
            "description_tooltip": null,
            "layout": "IPY_MODEL_81f02dd757ae4fc4aaa4afce5651f2e2",
            "max": 102530333,
            "min": 0,
            "orientation": "horizontal",
            "style": "IPY_MODEL_e065852e11964be09f196203a73d78dd",
            "value": 102530333
          }
        },
        "bcc8e09a469240feb8a64d025f3dd38f": {
          "model_module": "@jupyter-widgets/controls",
          "model_name": "HTMLModel",
          "model_module_version": "1.5.0",
          "state": {
            "_dom_classes": [],
            "_model_module": "@jupyter-widgets/controls",
            "_model_module_version": "1.5.0",
            "_model_name": "HTMLModel",
            "_view_count": null,
            "_view_module": "@jupyter-widgets/controls",
            "_view_module_version": "1.5.0",
            "_view_name": "HTMLView",
            "description": "",
            "description_tooltip": null,
            "layout": "IPY_MODEL_dc46c2a52c404523aa77009ee8674d0c",
            "placeholder": "​",
            "style": "IPY_MODEL_f6bb2065a33d47099d691a6cff1d8054",
            "value": " 97.8M/97.8M [00:01&lt;00:00, 86.1MB/s]"
          }
        },
        "72194e1c271b40b7aaf349106399a6a1": {
          "model_module": "@jupyter-widgets/base",
          "model_name": "LayoutModel",
          "model_module_version": "1.2.0",
          "state": {
            "_model_module": "@jupyter-widgets/base",
            "_model_module_version": "1.2.0",
            "_model_name": "LayoutModel",
            "_view_count": null,
            "_view_module": "@jupyter-widgets/base",
            "_view_module_version": "1.2.0",
            "_view_name": "LayoutView",
            "align_content": null,
            "align_items": null,
            "align_self": null,
            "border": null,
            "bottom": null,
            "display": null,
            "flex": null,
            "flex_flow": null,
            "grid_area": null,
            "grid_auto_columns": null,
            "grid_auto_flow": null,
            "grid_auto_rows": null,
            "grid_column": null,
            "grid_gap": null,
            "grid_row": null,
            "grid_template_areas": null,
            "grid_template_columns": null,
            "grid_template_rows": null,
            "height": null,
            "justify_content": null,
            "justify_items": null,
            "left": null,
            "margin": null,
            "max_height": null,
            "max_width": null,
            "min_height": null,
            "min_width": null,
            "object_fit": null,
            "object_position": null,
            "order": null,
            "overflow": null,
            "overflow_x": null,
            "overflow_y": null,
            "padding": null,
            "right": null,
            "top": null,
            "visibility": null,
            "width": null
          }
        },
        "052f17c3a79c4f7bb0635120fb5c4402": {
          "model_module": "@jupyter-widgets/base",
          "model_name": "LayoutModel",
          "model_module_version": "1.2.0",
          "state": {
            "_model_module": "@jupyter-widgets/base",
            "_model_module_version": "1.2.0",
            "_model_name": "LayoutModel",
            "_view_count": null,
            "_view_module": "@jupyter-widgets/base",
            "_view_module_version": "1.2.0",
            "_view_name": "LayoutView",
            "align_content": null,
            "align_items": null,
            "align_self": null,
            "border": null,
            "bottom": null,
            "display": null,
            "flex": null,
            "flex_flow": null,
            "grid_area": null,
            "grid_auto_columns": null,
            "grid_auto_flow": null,
            "grid_auto_rows": null,
            "grid_column": null,
            "grid_gap": null,
            "grid_row": null,
            "grid_template_areas": null,
            "grid_template_columns": null,
            "grid_template_rows": null,
            "height": null,
            "justify_content": null,
            "justify_items": null,
            "left": null,
            "margin": null,
            "max_height": null,
            "max_width": null,
            "min_height": null,
            "min_width": null,
            "object_fit": null,
            "object_position": null,
            "order": null,
            "overflow": null,
            "overflow_x": null,
            "overflow_y": null,
            "padding": null,
            "right": null,
            "top": null,
            "visibility": null,
            "width": null
          }
        },
        "2227106707ae4f70bc1a38ba962e79e8": {
          "model_module": "@jupyter-widgets/controls",
          "model_name": "DescriptionStyleModel",
          "model_module_version": "1.5.0",
          "state": {
            "_model_module": "@jupyter-widgets/controls",
            "_model_module_version": "1.5.0",
            "_model_name": "DescriptionStyleModel",
            "_view_count": null,
            "_view_module": "@jupyter-widgets/base",
            "_view_module_version": "1.2.0",
            "_view_name": "StyleView",
            "description_width": ""
          }
        },
        "81f02dd757ae4fc4aaa4afce5651f2e2": {
          "model_module": "@jupyter-widgets/base",
          "model_name": "LayoutModel",
          "model_module_version": "1.2.0",
          "state": {
            "_model_module": "@jupyter-widgets/base",
            "_model_module_version": "1.2.0",
            "_model_name": "LayoutModel",
            "_view_count": null,
            "_view_module": "@jupyter-widgets/base",
            "_view_module_version": "1.2.0",
            "_view_name": "LayoutView",
            "align_content": null,
            "align_items": null,
            "align_self": null,
            "border": null,
            "bottom": null,
            "display": null,
            "flex": null,
            "flex_flow": null,
            "grid_area": null,
            "grid_auto_columns": null,
            "grid_auto_flow": null,
            "grid_auto_rows": null,
            "grid_column": null,
            "grid_gap": null,
            "grid_row": null,
            "grid_template_areas": null,
            "grid_template_columns": null,
            "grid_template_rows": null,
            "height": null,
            "justify_content": null,
            "justify_items": null,
            "left": null,
            "margin": null,
            "max_height": null,
            "max_width": null,
            "min_height": null,
            "min_width": null,
            "object_fit": null,
            "object_position": null,
            "order": null,
            "overflow": null,
            "overflow_x": null,
            "overflow_y": null,
            "padding": null,
            "right": null,
            "top": null,
            "visibility": null,
            "width": null
          }
        },
        "e065852e11964be09f196203a73d78dd": {
          "model_module": "@jupyter-widgets/controls",
          "model_name": "ProgressStyleModel",
          "model_module_version": "1.5.0",
          "state": {
            "_model_module": "@jupyter-widgets/controls",
            "_model_module_version": "1.5.0",
            "_model_name": "ProgressStyleModel",
            "_view_count": null,
            "_view_module": "@jupyter-widgets/base",
            "_view_module_version": "1.2.0",
            "_view_name": "StyleView",
            "bar_color": null,
            "description_width": ""
          }
        },
        "dc46c2a52c404523aa77009ee8674d0c": {
          "model_module": "@jupyter-widgets/base",
          "model_name": "LayoutModel",
          "model_module_version": "1.2.0",
          "state": {
            "_model_module": "@jupyter-widgets/base",
            "_model_module_version": "1.2.0",
            "_model_name": "LayoutModel",
            "_view_count": null,
            "_view_module": "@jupyter-widgets/base",
            "_view_module_version": "1.2.0",
            "_view_name": "LayoutView",
            "align_content": null,
            "align_items": null,
            "align_self": null,
            "border": null,
            "bottom": null,
            "display": null,
            "flex": null,
            "flex_flow": null,
            "grid_area": null,
            "grid_auto_columns": null,
            "grid_auto_flow": null,
            "grid_auto_rows": null,
            "grid_column": null,
            "grid_gap": null,
            "grid_row": null,
            "grid_template_areas": null,
            "grid_template_columns": null,
            "grid_template_rows": null,
            "height": null,
            "justify_content": null,
            "justify_items": null,
            "left": null,
            "margin": null,
            "max_height": null,
            "max_width": null,
            "min_height": null,
            "min_width": null,
            "object_fit": null,
            "object_position": null,
            "order": null,
            "overflow": null,
            "overflow_x": null,
            "overflow_y": null,
            "padding": null,
            "right": null,
            "top": null,
            "visibility": null,
            "width": null
          }
        },
        "f6bb2065a33d47099d691a6cff1d8054": {
          "model_module": "@jupyter-widgets/controls",
          "model_name": "DescriptionStyleModel",
          "model_module_version": "1.5.0",
          "state": {
            "_model_module": "@jupyter-widgets/controls",
            "_model_module_version": "1.5.0",
            "_model_name": "DescriptionStyleModel",
            "_view_count": null,
            "_view_module": "@jupyter-widgets/base",
            "_view_module_version": "1.2.0",
            "_view_name": "StyleView",
            "description_width": ""
          }
        }
      }
    }
  },
  "cells": [
    {
      "cell_type": "markdown",
      "metadata": {
        "id": "z-__RAO5t53G"
      },
      "source": [
        "## Convolutional Neural Networks (CNNs)\n",
        "\n",
        "-- Prof. Dorien Herremans. Many thanks to Nelson Lui for the base text. \n",
        "\n"
      ]
    },
    {
      "cell_type": "markdown",
      "metadata": {
        "id": "Y5AUSc3jufKi"
      },
      "source": [
        "### 1. Using the GPU with pytorch\n"
      ]
    },
    {
      "cell_type": "markdown",
      "metadata": {
        "id": "Vby-ogCCxYwa"
      },
      "source": [
        "Remember why we are using NN, and more specifically CNNs with GPU? Because matrix multiplications go extremely fast. \n",
        "\n",
        "Note that the first time you run this code there might be some delay in starting up the GPU, so it might actually be slower, so try running this cell multiple times."
      ]
    },
    {
      "cell_type": "code",
      "metadata": {
        "id": "j0JJRfD6ti7m",
        "colab": {
          "base_uri": "https://localhost:8080/"
        },
        "outputId": "d467ce04-cdd5-4854-c672-82f2fb8f6ee8"
      },
      "source": [
        "import torch\n",
        "import time\n",
        "\n",
        "# Let's create two matrices of size dxd and full of random values.\n",
        "d = 5000\n",
        "a = torch.rand(d, d)\n",
        "b = torch.rand(d, d)\n",
        "\n",
        "# Compute a multiplication between the two matrices in CPU.\n",
        "start_time = time.time()\n",
        "output = torch.mm(a,b)  # Regular multiplication in CPU.\n",
        "cpu_time = time.time() - start_time\n",
        "print('CPU-time {0:.6f}s'.format(cpu_time))\n",
        "\n",
        "# Compute a multiplication between the two matrices in GPU.\n",
        "start_time = time.time()\n",
        "a = a.cuda() # Move to GPU.\n",
        "b = b.cuda() # Move to GPU.\n",
        "output = torch.mm(a,b)  # Multiplication happens in GPU.\n",
        "gpu_time = time.time() - start_time\n",
        "print('GPU-time {0:.6f}s\\n'.format(gpu_time))\n",
        "\n",
        "print('CPU was {0:.2f}x times the GPU time'.format(cpu_time / gpu_time))\n"
      ],
      "execution_count": null,
      "outputs": [
        {
          "output_type": "stream",
          "name": "stdout",
          "text": [
            "CPU-time 3.733002s\n",
            "GPU-time 12.686303s\n",
            "\n",
            "CPU was 0.29x times the GPU time\n"
          ]
        }
      ]
    },
    {
      "cell_type": "markdown",
      "metadata": {
        "id": "IWcBZ9B8uLKM"
      },
      "source": [
        "Try experimenting with different values of $d$ and check what kind of improvements in the speed you can get on GPU compared to CPU."
      ]
    },
    {
      "cell_type": "markdown",
      "metadata": {
        "id": "PGdZ-bmxb473"
      },
      "source": [
        "### 2. Mini-batch SGD on FashionMNIST using pytorch nn's package.\n"
      ]
    },
    {
      "cell_type": "markdown",
      "metadata": {
        "id": "zUfYXo8McA14"
      },
      "source": [
        "#### 2.1 Defining a model in Pytorch\n"
      ]
    },
    {
      "cell_type": "markdown",
      "metadata": {
        "id": "6Ad6SaHiNM2A"
      },
      "source": [
        "Let's start from our model from the previous lab for FashionMNIST. \n",
        "\n",
        "We basically recap and group the code from the previous class: We will train this two-layer neural network using pytorch's nn package. First, we will define, the model and its operations. Then we will train the model using mini-batch gradient descent. Note that we don't need to train a backward pass function anymore. Pytorch aas backward pass functions implemented for nn.Linear and F.relu AND keeps track of operations in a dynamic computation graph, so as long as you execute chains of operations supported by Pytorch your backward pass does not need to be implemented."
      ]
    },
    {
      "cell_type": "code",
      "metadata": {
        "id": "ZtkRGI5jDEKh",
        "colab": {
          "base_uri": "https://localhost:8080/"
        },
        "outputId": "6baa1202-d9d9-48a1-e350-d6a1be70d3d3"
      },
      "source": [
        "import torch\n",
        "import torch.nn as nn\n",
        "import torch.nn.functional as F\n",
        "\n",
        "class TwoLayerNN(nn.Module):\n",
        "  def __init__(self):\n",
        "    super(TwoLayerNN, self).__init__()\n",
        "  \n",
        "    self.linear1 = nn.Linear(1 * 28 * 28, 512)\n",
        "    self.linear2 = nn.Linear(512, 10)\n",
        "        \n",
        "  def forward(self, x):\n",
        "    x = x.view(-1, 1 * 28 * 28)\n",
        "    z = F.relu(self.linear1(x))\n",
        "    return self.linear2(z)    \n",
        "\n",
        "\n",
        "# Using TwoLayerNN:\n",
        "# Let's create a dummy batch tensor with 16 input vectors.\n",
        "dummy_input = torch.zeros(16, 1 * 28 * 28)\n",
        "my_model = TwoLayerNN()\n",
        "dummy_output = my_model(dummy_input)\n",
        "\n",
        "print('Input size (16 input vectors):', dummy_input.shape)\n",
        "print('Output size (16 output predictions):', dummy_output.shape)"
      ],
      "execution_count": null,
      "outputs": [
        {
          "output_type": "stream",
          "name": "stdout",
          "text": [
            "Input size (16 input vectors): torch.Size([16, 784])\n",
            "Output size (16 output predictions): torch.Size([16, 10])\n"
          ]
        }
      ]
    },
    {
      "cell_type": "markdown",
      "metadata": {
        "id": "we7SSkYSNf4y"
      },
      "source": [
        "#### 2.2 Training a model in Pytorch"
      ]
    },
    {
      "cell_type": "markdown",
      "metadata": {
        "id": "ZAQROtfLNYfl"
      },
      "source": [
        "The training code is similar to the code used before but notice several simplifications and the improved generality of this code. For instance, we don't need to pass gradients ourselves layer by layer. Only one call to backward() is needed,  because this will compute gradients for all the tensors that lead up to the value of the loss."
      ]
    },
    {
      "cell_type": "code",
      "metadata": {
        "id": "IJDmV7Xgb3RI",
        "colab": {
          "base_uri": "https://localhost:8080/",
          "height": 1000,
          "referenced_widgets": [
            "554085f821b9427a9b222a80eb44a332",
            "06292f34d0ae497dabd95c04f13242b7",
            "f8c10c705dd245f8b89a80d22ee981e3",
            "220407b179c34906bc168e75abe889f5",
            "c56e14b7eac248a1a0ba3bd00eba15f4",
            "c128d258d56548f19e55de6ad32f7a5f",
            "3a8f8ae5f99a4de6aabfda1f0abc1bef",
            "72e3de4ebf6b4d038d7c994f57a348cf",
            "de59ed9704894bbc9e60fd2b1d56ed87",
            "787b3562624d482d979ab635388a3ba0",
            "4249c5a2ae1b4ec7b8531ec63b915896",
            "268576ff951e442bb0a383514cd221ed",
            "0e8c845dfe28445c9133cca5814c94cd",
            "cbb57b21472f4c04be3a054c70d132cc",
            "9fde266277554c66992ebdf1dbeb64a7",
            "81d50eabab7a4f328c175dd3b78d8a74",
            "4734bef9095c49709d0e343eac9dee55",
            "0f58506e873142f58bc122ead866eae6",
            "b8a2f98cc5c44cc4879a210f42c97611",
            "8505b3feb3c34336a758cb07a66bbeb0",
            "2a534ed1e97a4823be68295734b75ad8",
            "dcc1ea29b873442d92636b90764235bc",
            "b466c37eb5cf4b50a95348017bbbd0e5",
            "a3517d4d2210479e85c0c25f41d01427",
            "1473a0fcad414ea2ab71279e4dabb697",
            "66f9160330a44c03808a2828b08612eb",
            "e6e24705c4a14eae977a2bcb473f8122",
            "139c406551f54aa8ab3db7cb0b938a71",
            "049adc86b2a74f39a7c156b164fba526",
            "31c93859fb8a46b9a77d1f73d072b4cc",
            "7f4cd863cec146d7b3cb0e46fac5231f",
            "c3b8b8109a234a67916e440bf4f2ca5a",
            "67fa98cc5d5d4f74b8a78735ff78f50c",
            "d12604cd02a9463cbf0533c2b911a2a1",
            "f613f596d77b471ab1f63ea9e267347a",
            "159f476825cb460599918a74045f69a4",
            "fe0c00d1bf414bee83ecea627aeabfd2",
            "3c232001afdd4bda832a708f8eb72f7c",
            "1306b7578df04b8cb0c82c44d01493c5",
            "93525ef7fe6f41758efdb9eb663c2fb0",
            "30b3de3315364757a93fc61f80c4955c",
            "ee79cfe60de34b6482032be578962d65",
            "3254fd8fa197425dac42596ea885fedf",
            "acc0f04288634c2081df75148af2c054"
          ]
        },
        "outputId": "36170919-e6be-4fa7-de28-465ecb7135db"
      },
      "source": [
        "import torchvision\n",
        "import torchvision.transforms as transforms\n",
        "from torchvision.datasets import FashionMNIST\n",
        "import torch.optim as optim\n",
        "\n",
        "# Removes the need to call F.to_image ourselves.\n",
        "transform = transforms.Compose([transforms.ToTensor()])\n",
        "\n",
        "# Load the training, and validation datasets.\n",
        "trainset = FashionMNIST(root = './data', train = True, transform = transform, download = True)\n",
        "valset = FashionMNIST(root = './data', train = False, transform = transform, download = True)\n",
        "\n",
        "# Pytorch DataLoader for iterating over batches.\n",
        "batchSize = 100\n",
        "\n",
        "# Create the model.\n",
        "model = TwoLayerNN()\n",
        "loss_fn = nn.CrossEntropyLoss()\n",
        "\n",
        "# Define a learning rate. \n",
        "learningRate = 5e-2\n",
        "\n",
        "# Optimizer.\n",
        "optimizer = optim.SGD(model.parameters(), lr = learningRate, \n",
        "                      momentum = 0.9, weight_decay = 1e-4)\n",
        "\n",
        "def train_model(model, loss_fn, batchSize, trainset, valset, optimizer, num_epochs):\n",
        "  \n",
        "  # Shuffling is needed in case dataset is not shuffled by default.\n",
        "  train_loader = torch.utils.data.DataLoader(dataset = trainset,\n",
        "                                              batch_size = batchSize,\n",
        "                                              shuffle = True)\n",
        "  # We don't need to bach the validation set but let's do it anyway.\n",
        "  val_loader = torch.utils.data.DataLoader(dataset = valset,\n",
        "                                            batch_size = batchSize,\n",
        "                                            shuffle = False) # No need.\n",
        "  \n",
        "  # Define number of epochs.\n",
        "  N = num_epochs\n",
        "\n",
        "  # log accuracies and losses.\n",
        "  train_accuracies = []; val_accuracies = []\n",
        "  train_losses = []; val_losses = []\n",
        "\n",
        "  # GPU enabling.\n",
        "  model = model.cuda()\n",
        "  loss_fn = loss_fn.cuda()\n",
        "\n",
        "\n",
        "  # Training loop. Please make sure you understand every single line of code below.\n",
        "  # Go back to some of the previous steps in this lab if necessary.\n",
        "  for epoch in range(0, N):\n",
        "      correct = 0.0\n",
        "      cum_loss = 0.0\n",
        "\n",
        "      # Make a pass over the training data.\n",
        "      model.train()\n",
        "      for (i, (inputs, labels)) in enumerate(train_loader):\n",
        "          inputs = inputs.cuda()\n",
        "          labels = labels.cuda()\n",
        "\n",
        "          # Forward pass. (Prediction stage)\n",
        "          scores = model(inputs)\n",
        "          loss = loss_fn(scores, labels)\n",
        "\n",
        "          # Count how many correct in this batch.\n",
        "          max_scores, max_labels = scores.max(1)\n",
        "          correct += (max_labels == labels).sum().item()\n",
        "          cum_loss += loss.item()\n",
        "\n",
        "          # Zero the gradients in the network.\n",
        "          optimizer.zero_grad()\n",
        "\n",
        "          #Backward pass. (Gradient computation stage)\n",
        "          loss.backward()\n",
        "\n",
        "          # Parameter updates (SGD step) -- if done with torch.optim!\n",
        "          optimizer.step()\n",
        "\n",
        "          # Parameter updates (SGD step) -- if done manually!\n",
        "          # for param in model.parameters():\n",
        "          #   param.data.add_(-learningRate, param.grad)\n",
        "\n",
        "          # Logging the current results on training.\n",
        "          if (i + 1) % 100 == 0:\n",
        "              print('Train-epoch %d. Iteration %05d / %05d, Avg-Loss: %.4f, Accuracy: %.4f' % \n",
        "                    (epoch, i + 1, len(train_loader), cum_loss / (i + 1), correct / ((i + 1) * batchSize)))\n",
        "\n",
        "      train_accuracies.append(correct / len(trainset))\n",
        "      train_losses.append(cum_loss / (i + 1))   \n",
        "\n",
        "      # Make a pass over the validation data.\n",
        "      correct = 0.0\n",
        "      cum_loss = 0.0\n",
        "      model.eval()\n",
        "      for (i, (inputs, labels)) in enumerate(val_loader):\n",
        "          inputs = inputs.cuda()\n",
        "          labels = labels.cuda()\n",
        "\n",
        "          # Forward pass. (Prediction stage)\n",
        "          scores = model(inputs)\n",
        "          cum_loss += loss_fn(scores, labels).item()\n",
        "\n",
        "           # Count how many correct in this batch.\n",
        "          max_scores, max_labels = scores.max(1)\n",
        "          correct += (max_labels == labels).sum().item()\n",
        "\n",
        "      val_accuracies.append(correct / len(valset))\n",
        "      val_losses.append(cum_loss / (i + 1))\n",
        "\n",
        "      # Logging the current results on validation.\n",
        "      print('Validation-epoch %d. Avg-Loss: %.4f, Accuracy: %.4f' % \n",
        "            (epoch, cum_loss / (i + 1), correct / len(valset)))\n",
        "      \n",
        "      \n",
        "train_model(model, loss_fn, batchSize, trainset, valset, optimizer, 5)"
      ],
      "execution_count": null,
      "outputs": [
        {
          "output_type": "stream",
          "name": "stdout",
          "text": [
            "Downloading http://fashion-mnist.s3-website.eu-central-1.amazonaws.com/train-images-idx3-ubyte.gz\n",
            "Downloading http://fashion-mnist.s3-website.eu-central-1.amazonaws.com/train-images-idx3-ubyte.gz to ./data/FashionMNIST/raw/train-images-idx3-ubyte.gz\n"
          ]
        },
        {
          "output_type": "display_data",
          "data": {
            "text/plain": [
              "  0%|          | 0/26421880 [00:00<?, ?it/s]"
            ],
            "application/vnd.jupyter.widget-view+json": {
              "version_major": 2,
              "version_minor": 0,
              "model_id": "554085f821b9427a9b222a80eb44a332"
            }
          },
          "metadata": {}
        },
        {
          "output_type": "stream",
          "name": "stdout",
          "text": [
            "Extracting ./data/FashionMNIST/raw/train-images-idx3-ubyte.gz to ./data/FashionMNIST/raw\n",
            "\n",
            "Downloading http://fashion-mnist.s3-website.eu-central-1.amazonaws.com/train-labels-idx1-ubyte.gz\n",
            "Downloading http://fashion-mnist.s3-website.eu-central-1.amazonaws.com/train-labels-idx1-ubyte.gz to ./data/FashionMNIST/raw/train-labels-idx1-ubyte.gz\n"
          ]
        },
        {
          "output_type": "display_data",
          "data": {
            "text/plain": [
              "  0%|          | 0/29515 [00:00<?, ?it/s]"
            ],
            "application/vnd.jupyter.widget-view+json": {
              "version_major": 2,
              "version_minor": 0,
              "model_id": "268576ff951e442bb0a383514cd221ed"
            }
          },
          "metadata": {}
        },
        {
          "output_type": "stream",
          "name": "stdout",
          "text": [
            "Extracting ./data/FashionMNIST/raw/train-labels-idx1-ubyte.gz to ./data/FashionMNIST/raw\n",
            "\n",
            "Downloading http://fashion-mnist.s3-website.eu-central-1.amazonaws.com/t10k-images-idx3-ubyte.gz\n",
            "Downloading http://fashion-mnist.s3-website.eu-central-1.amazonaws.com/t10k-images-idx3-ubyte.gz to ./data/FashionMNIST/raw/t10k-images-idx3-ubyte.gz\n"
          ]
        },
        {
          "output_type": "display_data",
          "data": {
            "text/plain": [
              "  0%|          | 0/4422102 [00:00<?, ?it/s]"
            ],
            "application/vnd.jupyter.widget-view+json": {
              "version_major": 2,
              "version_minor": 0,
              "model_id": "b466c37eb5cf4b50a95348017bbbd0e5"
            }
          },
          "metadata": {}
        },
        {
          "output_type": "stream",
          "name": "stdout",
          "text": [
            "Extracting ./data/FashionMNIST/raw/t10k-images-idx3-ubyte.gz to ./data/FashionMNIST/raw\n",
            "\n",
            "Downloading http://fashion-mnist.s3-website.eu-central-1.amazonaws.com/t10k-labels-idx1-ubyte.gz\n",
            "Downloading http://fashion-mnist.s3-website.eu-central-1.amazonaws.com/t10k-labels-idx1-ubyte.gz to ./data/FashionMNIST/raw/t10k-labels-idx1-ubyte.gz\n"
          ]
        },
        {
          "output_type": "display_data",
          "data": {
            "text/plain": [
              "  0%|          | 0/5148 [00:00<?, ?it/s]"
            ],
            "application/vnd.jupyter.widget-view+json": {
              "version_major": 2,
              "version_minor": 0,
              "model_id": "d12604cd02a9463cbf0533c2b911a2a1"
            }
          },
          "metadata": {}
        },
        {
          "output_type": "stream",
          "name": "stdout",
          "text": [
            "Extracting ./data/FashionMNIST/raw/t10k-labels-idx1-ubyte.gz to ./data/FashionMNIST/raw\n",
            "\n",
            "Train-epoch 0. Iteration 00100 / 00600, Avg-Loss: 0.8795, Accuracy: 0.6952\n",
            "Train-epoch 0. Iteration 00200 / 00600, Avg-Loss: 0.7033, Accuracy: 0.7523\n",
            "Train-epoch 0. Iteration 00300 / 00600, Avg-Loss: 0.6285, Accuracy: 0.7779\n",
            "Train-epoch 0. Iteration 00400 / 00600, Avg-Loss: 0.5839, Accuracy: 0.7937\n",
            "Train-epoch 0. Iteration 00500 / 00600, Avg-Loss: 0.5557, Accuracy: 0.8033\n",
            "Train-epoch 0. Iteration 00600 / 00600, Avg-Loss: 0.5367, Accuracy: 0.8084\n",
            "Validation-epoch 0. Avg-Loss: 0.4593, Accuracy: 0.8351\n",
            "Train-epoch 1. Iteration 00100 / 00600, Avg-Loss: 0.4041, Accuracy: 0.8487\n",
            "Train-epoch 1. Iteration 00200 / 00600, Avg-Loss: 0.4095, Accuracy: 0.8506\n",
            "Train-epoch 1. Iteration 00300 / 00600, Avg-Loss: 0.4083, Accuracy: 0.8512\n",
            "Train-epoch 1. Iteration 00400 / 00600, Avg-Loss: 0.4065, Accuracy: 0.8517\n",
            "Train-epoch 1. Iteration 00500 / 00600, Avg-Loss: 0.3994, Accuracy: 0.8546\n",
            "Train-epoch 1. Iteration 00600 / 00600, Avg-Loss: 0.3964, Accuracy: 0.8559\n",
            "Validation-epoch 1. Avg-Loss: 0.4082, Accuracy: 0.8523\n",
            "Train-epoch 2. Iteration 00100 / 00600, Avg-Loss: 0.3531, Accuracy: 0.8725\n",
            "Train-epoch 2. Iteration 00200 / 00600, Avg-Loss: 0.3647, Accuracy: 0.8671\n",
            "Train-epoch 2. Iteration 00300 / 00600, Avg-Loss: 0.3636, Accuracy: 0.8673\n",
            "Train-epoch 2. Iteration 00400 / 00600, Avg-Loss: 0.3649, Accuracy: 0.8669\n",
            "Train-epoch 2. Iteration 00500 / 00600, Avg-Loss: 0.3643, Accuracy: 0.8668\n",
            "Train-epoch 2. Iteration 00600 / 00600, Avg-Loss: 0.3613, Accuracy: 0.8676\n",
            "Validation-epoch 2. Avg-Loss: 0.3778, Accuracy: 0.8625\n",
            "Train-epoch 3. Iteration 00100 / 00600, Avg-Loss: 0.3311, Accuracy: 0.8794\n",
            "Train-epoch 3. Iteration 00200 / 00600, Avg-Loss: 0.3405, Accuracy: 0.8748\n",
            "Train-epoch 3. Iteration 00300 / 00600, Avg-Loss: 0.3439, Accuracy: 0.8732\n",
            "Train-epoch 3. Iteration 00400 / 00600, Avg-Loss: 0.3445, Accuracy: 0.8736\n",
            "Train-epoch 3. Iteration 00500 / 00600, Avg-Loss: 0.3429, Accuracy: 0.8739\n",
            "Train-epoch 3. Iteration 00600 / 00600, Avg-Loss: 0.3396, Accuracy: 0.8746\n",
            "Validation-epoch 3. Avg-Loss: 0.3856, Accuracy: 0.8568\n",
            "Train-epoch 4. Iteration 00100 / 00600, Avg-Loss: 0.3201, Accuracy: 0.8797\n",
            "Train-epoch 4. Iteration 00200 / 00600, Avg-Loss: 0.3236, Accuracy: 0.8800\n",
            "Train-epoch 4. Iteration 00300 / 00600, Avg-Loss: 0.3254, Accuracy: 0.8802\n",
            "Train-epoch 4. Iteration 00400 / 00600, Avg-Loss: 0.3250, Accuracy: 0.8801\n",
            "Train-epoch 4. Iteration 00500 / 00600, Avg-Loss: 0.3244, Accuracy: 0.8805\n",
            "Train-epoch 4. Iteration 00600 / 00600, Avg-Loss: 0.3247, Accuracy: 0.8802\n",
            "Validation-epoch 4. Avg-Loss: 0.3838, Accuracy: 0.8603\n"
          ]
        }
      ]
    },
    {
      "cell_type": "markdown",
      "metadata": {
        "id": "NheOKVEvktSU"
      },
      "source": [
        "We achieved an accuracy of 86% and achieved 84% in only one epoch. Our model is very similar to the models we implemented before, but now we are using SGD with regularization (weightDecay), and momentum updates (using the history of previous gradients) in order to update the parameters. We also have generic train_model function that is independent of the model passed as a parameter. We no longer need to focus on this training loop, and instead can concentrate in the design of model architectures. "
      ]
    },
    {
      "cell_type": "markdown",
      "metadata": {
        "id": "rL8RK38atNE5"
      },
      "source": [
        "### 3. Convolutional Neural Network -- LeNet\n"
      ]
    },
    {
      "cell_type": "markdown",
      "metadata": {
        "id": "w2SukZfmtbH_"
      },
      "source": [
        "Now let's implement our first convolutional neural network using Pytorch's nn.Conv2d. It is essential that you understand to a high level of detail what Conv2d does, given a certain the shape of a given input tensor, what will be the shape of the output tensor? what is the size of the weight and bias parameters? You should know answers to these questions from the lecture. Do not continue until you're sure."
      ]
    },
    {
      "cell_type": "code",
      "metadata": {
        "id": "i6ZplFBMwAkD",
        "colab": {
          "base_uri": "https://localhost:8080/"
        },
        "outputId": "d2a6e547-2775-455b-95ce-7fb8bc4e7d6d"
      },
      "source": [
        "# Insipired on LeNet, first proposed in: \n",
        "# https://ieeexplore.ieee.org/abstract/document/726791\n",
        "# PDF: http://www.cs.virginia.edu/~vicente/deeplearning/readings/lecun1998.pdf\n",
        "class LeNet(nn.Module):\n",
        "    def __init__(self):\n",
        "        super(LeNet, self).__init__()\n",
        "        \n",
        "        # Convolutional layers.\n",
        "        self.conv1 = nn.Conv2d(1, 32, 5)\n",
        "        self.conv2 = nn.Conv2d(32, 64, 5)\n",
        "        \n",
        "        # Linear layers.\n",
        "        self.fc1 = nn.Linear(64*4*4, 120)\n",
        "        self.fc2 = nn.Linear(120, 84)\n",
        "        self.fc3 = nn.Linear(84, 10)\n",
        "\n",
        "    def forward(self, x):\n",
        "        # Conv1 + ReLU + MaxPooling.\n",
        "        out = F.relu(self.conv1(x))\n",
        "        out = F.max_pool2d(out, 2)\n",
        "        \n",
        "        # Conv2 + ReLU + MaPooling.\n",
        "        out = F.relu(self.conv2(out))\n",
        "        out = F.max_pool2d(out, 2)\n",
        "        \n",
        "        # This flattens the output of the previous layer into a vector.\n",
        "        out = out.view(out.size(0), -1) \n",
        "        \n",
        "        # Linear layer + ReLU.\n",
        "        out = F.relu(self.fc1(out))\n",
        "        # Linear layer + ReLU.\n",
        "        out = F.relu(self.fc2(out))\n",
        "        # A final linear layer at the end.\n",
        "        out = self.fc3(out)\n",
        "       \n",
        "        # We will not add Softmax here because nn.CrossEntropy does it.\n",
        "        # Read the documentation for nn.CrossEntropy.\n",
        "        return out\n",
        "\n",
        "cnn_model = LeNet()\n",
        "\n",
        "# print(cnn_model) # It shows the network structure.\n",
        "\n",
        "# see: ADAM: A Method for Stochastic Optimization.\n",
        "# This is a variant of SGD that makes adaptive step updates.\n",
        "# https://arxiv.org/pdf/1412.6980.pdf\n",
        "optimizer = optim.Adam(cnn_model.parameters(), lr = 3e-3)\n",
        "\n",
        "train_model(cnn_model, loss_fn, batchSize, trainset, valset, optimizer, 5)"
      ],
      "execution_count": null,
      "outputs": [
        {
          "output_type": "stream",
          "name": "stdout",
          "text": [
            "Train-epoch 0. Iteration 00100 / 00600, Avg-Loss: 0.9740, Accuracy: 0.6252\n",
            "Train-epoch 0. Iteration 00200 / 00600, Avg-Loss: 0.7674, Accuracy: 0.7033\n",
            "Train-epoch 0. Iteration 00300 / 00600, Avg-Loss: 0.6673, Accuracy: 0.7447\n",
            "Train-epoch 0. Iteration 00400 / 00600, Avg-Loss: 0.6095, Accuracy: 0.7670\n",
            "Train-epoch 0. Iteration 00500 / 00600, Avg-Loss: 0.5686, Accuracy: 0.7839\n",
            "Train-epoch 0. Iteration 00600 / 00600, Avg-Loss: 0.5371, Accuracy: 0.7969\n",
            "Validation-epoch 0. Avg-Loss: 0.3784, Accuracy: 0.8633\n",
            "Train-epoch 1. Iteration 00100 / 00600, Avg-Loss: 0.3442, Accuracy: 0.8760\n",
            "Train-epoch 1. Iteration 00200 / 00600, Avg-Loss: 0.3465, Accuracy: 0.8736\n",
            "Train-epoch 1. Iteration 00300 / 00600, Avg-Loss: 0.3458, Accuracy: 0.8733\n",
            "Train-epoch 1. Iteration 00400 / 00600, Avg-Loss: 0.3410, Accuracy: 0.8750\n",
            "Train-epoch 1. Iteration 00500 / 00600, Avg-Loss: 0.3355, Accuracy: 0.8768\n",
            "Train-epoch 1. Iteration 00600 / 00600, Avg-Loss: 0.3339, Accuracy: 0.8766\n",
            "Validation-epoch 1. Avg-Loss: 0.3372, Accuracy: 0.8820\n",
            "Train-epoch 2. Iteration 00100 / 00600, Avg-Loss: 0.2883, Accuracy: 0.8947\n",
            "Train-epoch 2. Iteration 00200 / 00600, Avg-Loss: 0.2877, Accuracy: 0.8954\n",
            "Train-epoch 2. Iteration 00300 / 00600, Avg-Loss: 0.2861, Accuracy: 0.8955\n",
            "Train-epoch 2. Iteration 00400 / 00600, Avg-Loss: 0.2865, Accuracy: 0.8947\n",
            "Train-epoch 2. Iteration 00500 / 00600, Avg-Loss: 0.2854, Accuracy: 0.8959\n",
            "Train-epoch 2. Iteration 00600 / 00600, Avg-Loss: 0.2838, Accuracy: 0.8962\n",
            "Validation-epoch 2. Avg-Loss: 0.3240, Accuracy: 0.8757\n",
            "Train-epoch 3. Iteration 00100 / 00600, Avg-Loss: 0.2661, Accuracy: 0.9006\n",
            "Train-epoch 3. Iteration 00200 / 00600, Avg-Loss: 0.2657, Accuracy: 0.9012\n",
            "Train-epoch 3. Iteration 00300 / 00600, Avg-Loss: 0.2628, Accuracy: 0.9023\n",
            "Train-epoch 3. Iteration 00400 / 00600, Avg-Loss: 0.2590, Accuracy: 0.9049\n",
            "Train-epoch 3. Iteration 00500 / 00600, Avg-Loss: 0.2575, Accuracy: 0.9050\n",
            "Train-epoch 3. Iteration 00600 / 00600, Avg-Loss: 0.2572, Accuracy: 0.9049\n",
            "Validation-epoch 3. Avg-Loss: 0.2939, Accuracy: 0.8948\n",
            "Train-epoch 4. Iteration 00100 / 00600, Avg-Loss: 0.2331, Accuracy: 0.9136\n",
            "Train-epoch 4. Iteration 00200 / 00600, Avg-Loss: 0.2365, Accuracy: 0.9111\n",
            "Train-epoch 4. Iteration 00300 / 00600, Avg-Loss: 0.2376, Accuracy: 0.9113\n",
            "Train-epoch 4. Iteration 00400 / 00600, Avg-Loss: 0.2363, Accuracy: 0.9117\n",
            "Train-epoch 4. Iteration 00500 / 00600, Avg-Loss: 0.2349, Accuracy: 0.9124\n",
            "Train-epoch 4. Iteration 00600 / 00600, Avg-Loss: 0.2335, Accuracy: 0.9124\n",
            "Validation-epoch 4. Avg-Loss: 0.2877, Accuracy: 0.8960\n"
          ]
        }
      ]
    },
    {
      "cell_type": "markdown",
      "metadata": {
        "id": "Ilbw19lNz7at"
      },
      "source": [
        "Now we have a working model that classifies images at ~90% accuracy. Moreover, this simple convolutional neural network often matches the accuracy of the shallow linear classifier on the very first epoch.\n",
        "\n",
        "You can find a list of results that people have obtained on FashionMNIST using more sophisticated neural networks here, including some accuracies slightly above 95%: https://github.com/zalandoresearch/fashion-mnist"
      ]
    },
    {
      "cell_type": "markdown",
      "metadata": {
        "id": "RwiS4j7Y0QDA"
      },
      "source": [
        "### 4. Using a Pre-Trained Convolutional Neural Network -- Resnet-50\n",
        "\n"
      ]
    },
    {
      "cell_type": "markdown",
      "metadata": {
        "id": "NtXw6mag8Lr_"
      },
      "source": [
        "In this section we will load a network pretrained on the ImageNet ILSVRC dataset, which has RGB images annotated with one label out of a vocabulary 1000 categories, and use it to make predictions on new images. We will use the Resnet-50 neural network proposed by a team at Microsoft Research around 2015-2016."
      ]
    },
    {
      "cell_type": "code",
      "metadata": {
        "id": "exzGdlnJ-DRf",
        "colab": {
          "base_uri": "https://localhost:8080/",
          "height": 67,
          "referenced_widgets": [
            "77c32cf7913147e3916b4d3681b03eeb",
            "760a26314a234b5aa7c4b3c07304fd96",
            "4298383d6f6a4b8e8d640cafe1ef6124",
            "bcc8e09a469240feb8a64d025f3dd38f",
            "72194e1c271b40b7aaf349106399a6a1",
            "052f17c3a79c4f7bb0635120fb5c4402",
            "2227106707ae4f70bc1a38ba962e79e8",
            "81f02dd757ae4fc4aaa4afce5651f2e2",
            "e065852e11964be09f196203a73d78dd",
            "dc46c2a52c404523aa77009ee8674d0c",
            "f6bb2065a33d47099d691a6cff1d8054"
          ]
        },
        "outputId": "0d5b4129-88f8-41c1-91d2-aae901e99bd5"
      },
      "source": [
        "import torchvision.models as models\n",
        "\n",
        "# Download list of 1000 categories for the ILSVRC task in right order.\n",
        "!wget -nc -q http://www.cs.virginia.edu/~vicente/vision/2019/imagenet_class_index.json\n",
        "  \n",
        "# Load the pre-trained model from the torchvision package.\n",
        "\n",
        "# https://arxiv.org/abs/1512.00567  # Re-thinking the Inception Architecture.\n",
        "#cnn_model = models.inception_v3(pretrained = True)\n",
        "\n",
        "# https://arxiv.org/abs/1512.03385 # Residual Networks.\n",
        "cnn_model = models.resnet50(pretrained = True)\n",
        "\n",
        "cnn_model.eval();  # Set in evaluation mode! In this case it matters.\n",
        "\n",
        "# print(resnet) # It shows the network structure.\n",
        "# You should instead look at source code here:\n",
        "# https://pytorch.org/docs/stable/_modules/torchvision/models/inception.html#inception_v3"
      ],
      "execution_count": null,
      "outputs": [
        {
          "output_type": "stream",
          "name": "stderr",
          "text": [
            "Downloading: \"https://download.pytorch.org/models/resnet50-0676ba61.pth\" to /root/.cache/torch/hub/checkpoints/resnet50-0676ba61.pth\n"
          ]
        },
        {
          "output_type": "display_data",
          "data": {
            "text/plain": [
              "  0%|          | 0.00/97.8M [00:00<?, ?B/s]"
            ],
            "application/vnd.jupyter.widget-view+json": {
              "version_major": 2,
              "version_minor": 0,
              "model_id": "77c32cf7913147e3916b4d3681b03eeb"
            }
          },
          "metadata": {}
        }
      ]
    },
    {
      "cell_type": "markdown",
      "metadata": {
        "id": "l4U2JHinB4Mo"
      },
      "source": [
        "Now we will use the model, but we have to be careful to use the exact same pre-processing steps for the input as it was done during training. I am providing the code here below that pre-processes images in the same way as this model was trained.\n",
        "\n",
        "To know how to do this (scaling, normalization, etc.), you need to look up the documentation of the original model. I have done this already for you. "
      ]
    },
    {
      "cell_type": "code",
      "metadata": {
        "id": "Khg2L3QgC1lI",
        "colab": {
          "base_uri": "https://localhost:8080/",
          "height": 324
        },
        "outputId": "694a1220-597c-40d2-8845-e51fc1e6d5c5"
      },
      "source": [
        "import torchvision.transforms as transforms\n",
        "from PIL import Image\n",
        "import matplotlib.pyplot as plt\n",
        "import json, io, requests, string\n",
        "\n",
        "# 1. Define the appropriate image pre-processing function.\n",
        "# This has to be the preprocessing function used during training. \n",
        "preprocessFn = transforms.Compose(\n",
        "    [transforms.Resize(256),  # 1. Resize smallest side to 256.\n",
        "     transforms.CenterCrop(224), # 2. Crop the center 224x224 pixels.\n",
        "     transforms.ToTensor(), # 3. Convert to pytorch tensor.\n",
        "     transforms.Normalize(mean = [0.485, 0.456, 0.406],  # normalize.\n",
        "                          std = [0.229, 0.224, 0.225])])\n",
        "\n",
        "# 2. Load the imagenet class names.\n",
        "imagenetClasses = {int(idx): entry[1] for (idx, entry) in \n",
        "                   json.load(open('imagenet_class_index.json')).items()}\n",
        "\n",
        "# 3. Read image from URL into a PIL image type.\n",
        "# This is an image of my cat Sendai, currently enjoying \n",
        "# lockdown at my father's place in Belgium. \n",
        "# See more images of Sendai here: https://www.facebook.com/Sendai-251531448370007\n",
        "# Or try with your own images!\n",
        "img_url = 'https://dorax.s3.ap-south-1.amazonaws.com/sendai.jpg'\n",
        "response = requests.get(img_url)\n",
        "img_pil = Image.open(io.BytesIO(response.content))\n",
        "\n",
        "# 4. Forward propagate the image through the CNN.\n",
        "# Unsqueeze adds a dummy batch dimension needed to pass through the model.\n",
        "input_img =  preprocessFn(img_pil).unsqueeze(0)\n",
        "predictions = cnn_model(input_img)\n",
        "\n",
        "# 5. Decode the top 5 classes predicted for this image.\n",
        "# We need to apply softmax because the model outputs the last linear layer\n",
        "# outputs and not softmax scores.\n",
        "probs, indices = (-F.softmax(predictions, dim = 1).data).sort()\n",
        "probs = (-probs).numpy()[0][:5]; indices = indices.numpy()[0][:10]\n",
        "preds = ['P[\\\"' + imagenetClasses[idx] + '\\\"] = ' + ('%.6f' % prob) \\\n",
        "         for (prob, idx) in zip(probs, indices)]\n",
        "\n",
        "# 6. Show image and predictions\n",
        "plt.title('\\n'.join(preds))\n",
        "plt.imshow(img_pil); plt.grid(False); plt.axis('off');"
      ],
      "execution_count": null,
      "outputs": [
        {
          "output_type": "display_data",
          "data": {
            "text/plain": [
              "<Figure size 432x288 with 1 Axes>"
            ],
            "image/png": "[encoded data removed]"
          },
          "metadata": {
            "needs_background": "light"
          }
        }
      ]
    },
    {
      "cell_type": "markdown",
      "metadata": {
        "id": "j6KoY-04KQsN"
      },
      "source": [
        "Tabby, that's correct! Notice even the screen in the background got detected. "
      ]
    },
    {
      "cell_type": "markdown",
      "metadata": {
        "id": "971f_ox4GE_f"
      },
      "source": [
        "### 5. Fine-tuning a Pre-trained Model for a Different Task (and Dataset) \n",
        "\n"
      ]
    },
    {
      "cell_type": "markdown",
      "metadata": {
        "id": "lep4SQKDGUGU"
      },
      "source": [
        "Pre-trained models can be adapted to other tasks, by lightly re-training them (with a small learning rate), and replacing some of the last layers with custom layers for a different task. This process is usually referred as fine-tuning a network, and is the usual way of using neural networks for many applications. In this assignment we will be using the MIT Indoor Scenes Dataset introduced at CVPR 2009 http://web.mit.edu/torralba/www/indoor.html. This dataset has more than 15 thousand images belonging to 67 categories of indoor scenes (e.g. meeting room, dining room, toy store, restaurant, etc). "
      ]
    },
    {
      "cell_type": "markdown",
      "metadata": {
        "id": "orLtdIoJdcGW"
      },
      "source": [
        "\n",
        "#### 5.1 Downloading the Data - Indoor Place Recognition\n",
        "\n"
      ]
    },
    {
      "cell_type": "markdown",
      "metadata": {
        "id": "dPSbAzsiuJP_"
      },
      "source": [
        "\n",
        "When the MIT researchers Ariadna Quattoni and Antonio Torralba performed this work, they only used 67 \\* 80 = 5360 images for training, and 67 \\* 20 = 1340 images for testing, but we will use all the images instead (because our final task on which we evaluate is different). The tar file with all the images is about 2.4GB but I already downloaded, resized and cropped images to a 256x256 resolution for a total of 235MB. I also separated the images into three groups: MIT-test, which is the same test data used in the original work; and [train-uva.tar.gz](https://www.cs.virginia.edu/~vicente/deeplearning/train-uva.tar.gz), [val-uva.tar.gz](https://www.cs.virginia.edu/~vicente/deeplearning/val-uva.tar.gz) which are the rest of the images sub-divided into training and validation sets. We will not use the MIT-test images as this is the test set, so I am not providing the test images at all. The images inside these tar-files were already arranged in the format required to use the [torchvision.datasets.ImageFolder](https://pytorch.org/docs/stable/_modules/torchvision/datasets/folder.html#ImageFolder) class.\n",
        "\n",
        "(if the download links happen to be down, use these instead: )\n",
        "- https://dorax.s3.ap-south-1.amazonaws.com/MIT-indoor-val-uva.tar.gz\n",
        "- https://dorax.s3.ap-south-1.amazonaws.com/MIT-indoor-train-uva.tar.gz"
      ]
    },
    {
      "cell_type": "code",
      "metadata": {
        "id": "oPGt-WpxGQtx",
        "colab": {
          "base_uri": "https://localhost:8080/"
        },
        "outputId": "c4cde76b-2464-4607-f4dc-0369155c8b50"
      },
      "source": [
        "# First download the data files.\n",
        "!wget -nc https://www.cs.virginia.edu/~vicente/deeplearning/MIT-indoor-val-uva.tar.gz\n",
        "!wget -nc https://www.cs.virginia.edu/~vicente/deeplearning/MIT-indoor-train-uva.tar.gz\n",
        "!tar xf MIT-indoor-val-uva.tar.gz\n",
        "!tar xf MIT-indoor-train-uva.tar.gz\n",
        "!ls -lh"
      ],
      "execution_count": null,
      "outputs": [
        {
          "output_type": "stream",
          "name": "stdout",
          "text": [
            "--2022-06-03 09:26:21--  https://www.cs.virginia.edu/~vicente/deeplearning/MIT-indoor-val-uva.tar.gz\n",
            "Resolving www.cs.virginia.edu (www.cs.virginia.edu)... 128.143.67.11\n",
            "Connecting to www.cs.virginia.edu (www.cs.virginia.edu)|128.143.67.11|:443... connected.\n",
            "HTTP request sent, awaiting response... 200 OK\n",
            "Length: 17513967 (17M) [application/x-gzip]\n",
            "Saving to: ‘MIT-indoor-val-uva.tar.gz’\n",
            "\n",
            "MIT-indoor-val-uva. 100%[===================>]  16.70M  44.6MB/s    in 0.4s    \n",
            "\n",
            "2022-06-03 09:26:21 (44.6 MB/s) - ‘MIT-indoor-val-uva.tar.gz’ saved [17513967/17513967]\n",
            "\n",
            "--2022-06-03 09:26:21--  https://www.cs.virginia.edu/~vicente/deeplearning/MIT-indoor-train-uva.tar.gz\n",
            "Resolving www.cs.virginia.edu (www.cs.virginia.edu)... 128.143.67.11\n",
            "Connecting to www.cs.virginia.edu (www.cs.virginia.edu)|128.143.67.11|:443... connected.\n",
            "HTTP request sent, awaiting response... 200 OK\n",
            "Length: 170947073 (163M) [application/x-gzip]\n",
            "Saving to: ‘MIT-indoor-train-uva.tar.gz’\n",
            "\n",
            "MIT-indoor-train-uv 100%[===================>] 163.03M  83.8MB/s    in 1.9s    \n",
            "\n",
            "2022-06-03 09:26:23 (83.8 MB/s) - ‘MIT-indoor-train-uva.tar.gz’ saved [170947073/170947073]\n",
            "\n",
            "tar: Ignoring unknown extended header keyword 'SCHILY.dev'\n",
            "tar: Ignoring unknown extended header keyword 'SCHILY.ino'\n",
            "tar: Ignoring unknown extended header keyword 'SCHILY.nlink'\n",
            "tar: Ignoring unknown extended header keyword 'SCHILY.dev'\n",
            "tar: Ignoring unknown extended header keyword 'SCHILY.ino'\n",
            "tar: Ignoring unknown extended header keyword 'SCHILY.nlink'\n",
            "total 180M\n",
            "drwxr-xr-x  3 root root  4.0K Jun  3 09:25 data\n",
            "-rw-r--r--  1 root root   35K Apr 16  2018 imagenet_class_index.json\n",
            "-rw-r--r--  1 root root  164M Feb  6  2020 MIT-indoor-train-uva.tar.gz\n",
            "-rw-r--r--  1 root root   17M Feb  6  2020 MIT-indoor-val-uva.tar.gz\n",
            "drwxr-xr-x  1 root root  4.0K Jun  1 13:50 sample_data\n",
            "drwxr-xr-x 69  501 staff 4.0K Feb 16  2019 train-uva\n",
            "drwxr-xr-x 69  501 staff 4.0K Feb 16  2019 val-uva\n"
          ]
        }
      ]
    },
    {
      "cell_type": "markdown",
      "metadata": {
        "id": "5DTHtbWVeR7J"
      },
      "source": [
        "#### 5.2 Setting up Data Loaders with Data Augmentation\n"
      ]
    },
    {
      "cell_type": "markdown",
      "metadata": {
        "id": "pjqSr6ZLwoQt"
      },
      "source": [
        "We often want to apply different transformations during training compared to testing (no augmentation in the test set) to augment the data during training. In pytorch we can achieve this with minimal modifications by specifying a slightly different transformation function during training. However, one has to be careful that both training and testing images are subject to similar transformations.\n",
        "\n",
        "Dataloaders will perform these random transformations. Run the code below multiple times and you'll see a variation on the same image. "
      ]
    },
    {
      "cell_type": "code",
      "metadata": {
        "id": "a6hEvENbc26B",
        "colab": {
          "base_uri": "https://localhost:8080/",
          "height": 264
        },
        "outputId": "1522559a-0ee2-4421-bb73-f82ff33ea0f4"
      },
      "source": [
        "import torchvision.datasets as datasets\n",
        "import torchvision.transforms as transforms\n",
        "import matplotlib.pyplot as plt\n",
        "\n",
        "train_transform = transforms.Compose(\n",
        "    [transforms.Resize(256),  # 1. Resize smallest side to 256.\n",
        "     transforms.RandomCrop(224), # 2. Crop random square of 224x224 pixels.\n",
        "     transforms.RandomHorizontalFlip(),\n",
        "     transforms.ToTensor(), # 3. Convert to pytorch tensor.\n",
        "     transforms.Normalize(mean = [0.485, 0.456, 0.406],  # normalize.\n",
        "                          std = [0.229, 0.224, 0.225])])\n",
        "\n",
        "test_transform = transforms.Compose(\n",
        "    [transforms.Resize(256),  # 1. Resize smallest side to 256.\n",
        "     transforms.CenterCrop(224), # 2. Crop center square of 224x224 pixels.\n",
        "     transforms.ToTensor(), # 3. Convert to pytorch tensor.\n",
        "     transforms.Normalize(mean = [0.485, 0.456, 0.406],  # normalize.\n",
        "                          std = [0.229, 0.224, 0.225])])\n",
        "\n",
        "train_dataset = datasets.ImageFolder(\"train-uva\", train_transform)\n",
        "val_dataset = datasets.ImageFolder(\"val-uva\", test_transform)\n",
        "\n",
        "# Try seeing other images in this dataset.\n",
        "# If you run this cell multiple times, you will perhaps notice\n",
        "# that the images are indeed slightly shifted (due to random cropping),\n",
        "# or they are mirrored (due to the horizonal flipping).\n",
        "# Only for the train_dataset this will happen.\n",
        "my_image, my_label = train_dataset[8000]\n",
        "\n",
        "# Show the image and its label.\n",
        "plt.figure()\n",
        "plt.title(\"Category: \" + train_dataset.classes[my_label])\n",
        "# Undo normalization of the pixel values.\n",
        "for t, m, s in zip(my_image, [0.485, 0.456, 0.406], [0.229, 0.224, 0.225]):\n",
        "  t.mul_(s).add_(m)\n",
        "# Re-arrange dimensions so it is height x width x channels.\n",
        "plt.imshow(my_image.transpose(0,2).transpose(0,1));\n",
        "plt.grid(False); plt.axis('off');"
      ],
      "execution_count": null,
      "outputs": [
        {
          "output_type": "display_data",
          "data": {
            "text/plain": [
              "<Figure size 432x288 with 1 Axes>"
            ],
            "image/png": "[encoded data removed]"
          },
          "metadata": {
            "needs_background": "light"
          }
        }
      ]
    },
    {
      "cell_type": "markdown",
      "metadata": {
        "id": "6SjAU6lNkt63"
      },
      "source": [
        "#### 5.3 Fine-tuning Resnet-50 for the Indoor Scene Classification task."
      ]
    },
    {
      "cell_type": "markdown",
      "metadata": {
        "id": "VhKqe4_AyIsz"
      },
      "source": [
        "In this section we will take the Resnet-50 network and \"fine-tune\" it to the task of Indoor Scene Classification. First, we proceed to replace the last layer in resnet50 with a linear layer that outputs 67 numbers corresponding to the categories on the MIT Indoor scene recognition dataset."
      ]
    },
    {
      "cell_type": "code",
      "metadata": {
        "id": "1b8S9MMgyekJ"
      },
      "source": [
        "import torchvision.models as models\n",
        "import torch.nn as nn\n",
        "\n",
        "scene_model = models.resnet50(pretrained = True)\n",
        "# print(scene_model) # Print the model to see what you can modify. \n",
        "# We are modifying the last layer which is stored in the fc property\n",
        "# for this model as you can see by printing out the network.\n",
        "scene_model.fc = nn.Linear(2048, len(train_dataset.classes))\n",
        "# print(scene_model)  # Verify that the last linear layer was changed."
      ],
      "execution_count": null,
      "outputs": []
    },
    {
      "cell_type": "markdown",
      "metadata": {
        "id": "zsQcG_7Xz04V"
      },
      "source": [
        "Now let's proceed to train this model with our dataset."
      ]
    },
    {
      "cell_type": "code",
      "metadata": {
        "id": "ssQkIT08z-Yt",
        "colab": {
          "base_uri": "https://localhost:8080/"
        },
        "outputId": "d3e45a7a-fb18-4c24-ff6d-6ec4f96dc15c"
      },
      "source": [
        "import torch.optim as optim\n",
        "\n",
        "batchSize = 50\n",
        "loss_fn = nn.CrossEntropyLoss()\n",
        "optimizer = optim.SGD(scene_model.parameters(), lr = 3e-4, momentum = 0.9, weight_decay=1e-5)\n",
        "\n",
        "train_model(scene_model, loss_fn, batchSize, train_dataset, val_dataset, optimizer, 10)\n",
        "\n",
        "# Save your model weights after training in case you need to load them later.\n",
        "# this is a very useful command btw! Often models are saved during training at multiple checkpoints\n",
        "torch.save(scene_model.state_dict(), 'scene_model_weights.pth')\n",
        "# If you are working on Google Cloud, make sure to download this file."
      ],
      "execution_count": null,
      "outputs": [
        {
          "output_type": "stream",
          "name": "stdout",
          "text": [
            "Train-epoch 0. Iteration 00100 / 00259, Avg-Loss: 3.8477, Accuracy: 0.1150\n",
            "Train-epoch 0. Iteration 00200 / 00259, Avg-Loss: 3.6380, Accuracy: 0.1876\n",
            "Validation-epoch 0. Avg-Loss: 3.8754, Accuracy: 0.1545\n",
            "Train-epoch 1. Iteration 00100 / 00259, Avg-Loss: 2.8031, Accuracy: 0.3978\n",
            "Train-epoch 1. Iteration 00200 / 00259, Avg-Loss: 2.6651, Accuracy: 0.4167\n",
            "Validation-epoch 1. Avg-Loss: 3.2375, Accuracy: 0.2313\n",
            "Train-epoch 2. Iteration 00100 / 00259, Avg-Loss: 2.1359, Accuracy: 0.5078\n",
            "Train-epoch 2. Iteration 00200 / 00259, Avg-Loss: 2.0742, Accuracy: 0.5154\n",
            "Validation-epoch 2. Avg-Loss: 2.7007, Accuracy: 0.3201\n",
            "Train-epoch 3. Iteration 00100 / 00259, Avg-Loss: 1.7885, Accuracy: 0.5660\n",
            "Train-epoch 3. Iteration 00200 / 00259, Avg-Loss: 1.7301, Accuracy: 0.5788\n",
            "Validation-epoch 3. Avg-Loss: 2.3050, Accuracy: 0.3993\n",
            "Train-epoch 4. Iteration 00100 / 00259, Avg-Loss: 1.5039, Accuracy: 0.6242\n",
            "Train-epoch 4. Iteration 00200 / 00259, Avg-Loss: 1.4615, Accuracy: 0.6349\n",
            "Validation-epoch 4. Avg-Loss: 1.9991, Accuracy: 0.4672\n",
            "Train-epoch 5. Iteration 00100 / 00259, Avg-Loss: 1.3199, Accuracy: 0.6636\n",
            "Train-epoch 5. Iteration 00200 / 00259, Avg-Loss: 1.2896, Accuracy: 0.6683\n",
            "Validation-epoch 5. Avg-Loss: 1.8016, Accuracy: 0.5060\n",
            "Train-epoch 6. Iteration 00100 / 00259, Avg-Loss: 1.1362, Accuracy: 0.7128\n",
            "Train-epoch 6. Iteration 00200 / 00259, Avg-Loss: 1.1332, Accuracy: 0.7084\n",
            "Validation-epoch 6. Avg-Loss: 1.6331, Accuracy: 0.5328\n",
            "Train-epoch 7. Iteration 00100 / 00259, Avg-Loss: 1.0323, Accuracy: 0.7330\n",
            "Train-epoch 7. Iteration 00200 / 00259, Avg-Loss: 1.0366, Accuracy: 0.7276\n",
            "Validation-epoch 7. Avg-Loss: 1.5083, Accuracy: 0.5746\n",
            "Train-epoch 8. Iteration 00100 / 00259, Avg-Loss: 0.9616, Accuracy: 0.7496\n",
            "Train-epoch 8. Iteration 00200 / 00259, Avg-Loss: 0.9492, Accuracy: 0.7525\n",
            "Validation-epoch 8. Avg-Loss: 1.3904, Accuracy: 0.5978\n",
            "Train-epoch 9. Iteration 00100 / 00259, Avg-Loss: 0.8528, Accuracy: 0.7824\n",
            "Train-epoch 9. Iteration 00200 / 00259, Avg-Loss: 0.8599, Accuracy: 0.7776\n",
            "Validation-epoch 9. Avg-Loss: 1.3097, Accuracy: 0.6209\n"
          ]
        }
      ]
    },
    {
      "cell_type": "markdown",
      "metadata": {
        "id": "hct4B2K7HJC1"
      },
      "source": [
        "Is the model working? Accuracy looks good but let's see some predictions! Never forget to see your predictions, don't just look at numbers to assess if something is working."
      ]
    },
    {
      "cell_type": "code",
      "metadata": {
        "id": "HyupTaAUHUhO",
        "colab": {
          "base_uri": "https://localhost:8080/",
          "height": 354
        },
        "outputId": "829f22d0-de7b-4100-c0c5-fe909e5ee3ff"
      },
      "source": [
        "# Try seeing other images in this dataset.\n",
        "# If you run this cell multiple times, you will perhaps notice\n",
        "# that the images are indeed slightly shifted (due to random cropping),\n",
        "# or they are mirrored (due to the horizonal flipping).\n",
        "# Only for the train_dataset this will happen.\n",
        "my_image, my_label = val_dataset[231]\n",
        "\n",
        "scene_model.eval()\n",
        "# Load weights from file if needed.\n",
        "# scene_model.load_state_dict(torch.load('scene_model_weights.pth'))\n",
        "predictions = scene_model(my_image.cuda().unsqueeze(0))\n",
        "\n",
        "preds = predictions.data.cpu().softmax(dim = 1)\n",
        "probs, indices = (-preds).sort()\n",
        "probs = (-probs).numpy()[0][:5]; indices = indices.numpy()[0][:5]\n",
        "preds = ['P[\\\"' + val_dataset.classes[idx] + '\\\"] = ' + ('%.6f' % prob) \\\n",
        "         for (prob, idx) in zip(probs, indices)]\n",
        "\n",
        "# Show the image and its label.\n",
        "plt.figure()\n",
        "plt.title(\"True-Category: \" + val_dataset.classes[my_label] + \"\\n\\n\" +\n",
        "          \"\\n\".join(preds))\n",
        "# Undo normalization of the pixel values.\n",
        "for t, m, s in zip(my_image, [0.485, 0.456, 0.406], [0.229, 0.224, 0.225]):\n",
        "  t.mul_(s).add_(m)\n",
        "# Re-arrange dimensions so it is height x width x channels.\n",
        "plt.imshow(my_image.transpose(0,2).transpose(0,1));\n",
        "plt.grid(False); plt.axis('off');"
      ],
      "execution_count": null,
      "outputs": [
        {
          "output_type": "display_data",
          "data": {
            "text/plain": [
              "<Figure size 432x288 with 1 Axes>"
            ],
            "image/png": "[encoded data removed]"
          },
          "metadata": {
            "needs_background": "light"
          }
        }
      ]
    },
    {
      "cell_type": "markdown",
      "metadata": {
        "id": "HHTZ9DVBSYsw"
      },
      "source": [
        "### 6. Using a Pretrained network as a feature extractor\n",
        "\n",
        "\n"
      ]
    },
    {
      "cell_type": "markdown",
      "metadata": {
        "id": "g9o8FnFQw4w-"
      },
      "source": [
        "Instead of finetuning, a cheaper (in term of computation) option which tends to be equally effective for small datasets is to use the pretrained network (without finetuning) to compute some output features. Typically the (latent) outputs of the network before the classification layer are used as input to another network. In this way, we only train the last layer and do not backpropagate to the previous layers. We could also precompute features for each image but this prevents us from using data augmentation."
      ]
    },
    {
      "cell_type": "markdown",
      "metadata": {
        "id": "Lwwa6ngbsj66"
      },
      "source": [
        "#### 6.1 First, let's define the feature extractor"
      ]
    },
    {
      "cell_type": "code",
      "metadata": {
        "id": "_w1u-dnzTAgj",
        "colab": {
          "base_uri": "https://localhost:8080/"
        },
        "outputId": "4ce44809-0a01-4a1e-dcc9-f07c339c51d1"
      },
      "source": [
        "import torchvision.models as models\n",
        "import torch.nn as nn\n",
        "\n",
        "# Load the pretrained ResNet model.\n",
        "resnet_model = models.resnet50(pretrained = True)\n",
        "\n",
        "# Throw away the layer that does classification on this model (the last layer).\n",
        "# Then discard the height and width dimensions using tensor.view.\n",
        "class FeatureExtractor(nn.Module):\n",
        "  def __init__(self, resnet_model):\n",
        "    super(FeatureExtractor, self).__init__()\n",
        "    # remove the last layer\n",
        "    self.truncated_resnet = nn.Sequential(*list(resnet_model.children())[:-1]).cuda()\n",
        "  def forward(self, x):\n",
        "    feats = self.truncated_resnet(x)\n",
        "    return feats.view(feats.size(0), -1)\n",
        "\n",
        "# Let's test the feature extractor to see what size are the outputs\n",
        "# right before the layer we eliminated.\n",
        "feature_extractor = FeatureExtractor(resnet_model)\n",
        "dummy_inputs = torch.zeros(10, 3, 224, 224).cuda()\n",
        "dummy_outputs = feature_extractor(dummy_inputs)\n",
        "print(dummy_outputs.shape)"
      ],
      "execution_count": null,
      "outputs": [
        {
          "output_type": "stream",
          "name": "stdout",
          "text": [
            "torch.Size([10, 2048])\n"
          ]
        }
      ]
    },
    {
      "cell_type": "markdown",
      "metadata": {
        "id": "_YzLJlfCryO6"
      },
      "source": [
        "#### 6.2 Now let's reimplement our train_model function to use a feature extractor. \n",
        "This requires changing our previous code in two or three places only."
      ]
    },
    {
      "cell_type": "code",
      "metadata": {
        "id": "G9WXMEAmrxEV"
      },
      "source": [
        "def train_model_2(model, \n",
        "                  feature_extractor, \n",
        "                  loss_fn, batchSize, \n",
        "                  trainset, valset, \n",
        "                  optimizer, num_epochs):\n",
        "  \n",
        "  # Shuffling is needed in case dataset is not shuffled by default.\n",
        "  train_loader = torch.utils.data.DataLoader(dataset = trainset,\n",
        "                                              batch_size = batchSize,\n",
        "                                              shuffle = True)\n",
        "  # We don't need to bach the validation set but let's do it anyway.\n",
        "  val_loader = torch.utils.data.DataLoader(dataset = valset,\n",
        "                                            batch_size = batchSize,\n",
        "                                            shuffle = False) # No need.\n",
        "  \n",
        "  # Define number of epochs.\n",
        "  N = num_epochs\n",
        "\n",
        "  # log accuracies and losses.\n",
        "  train_accuracies = []; val_accuracies = []\n",
        "  train_losses = []; val_losses = []\n",
        "\n",
        "  # GPU enabling.\n",
        "  model = model.cuda()\n",
        "  loss_fn = loss_fn.cuda()\n",
        "\n",
        "  # feature extractor does not need training.\n",
        "  feature_extractor.eval()\n",
        "\n",
        "  # Training loop. Please make sure you understand every single line of code below.\n",
        "  # Go back to some of the previous steps in this lab if necessary.\n",
        "  for epoch in range(0, N):\n",
        "      correct = 0.0\n",
        "      cum_loss = 0.0\n",
        "\n",
        "      # Make a pass over the training data.\n",
        "      model.train()\n",
        "      for (i, (inputs, labels)) in enumerate(train_loader):\n",
        "          inputs = inputs.cuda()\n",
        "          labels = labels.cuda()\n",
        "\n",
        "          # Forward pass. (Prediction stage)\n",
        "          with torch.no_grad():\n",
        "            features = feature_extractor(inputs)\n",
        "          scores = model(features)\n",
        "          loss = loss_fn(scores, labels)\n",
        "\n",
        "          # Count how many correct in this batch.\n",
        "          max_scores, max_labels = scores.max(1)\n",
        "          correct += (max_labels == labels).sum().item()\n",
        "          cum_loss += loss.item()\n",
        "\n",
        "          # Zero the gradients in the network.\n",
        "          optimizer.zero_grad()\n",
        "\n",
        "          #Backward pass. (Gradient computation stage)\n",
        "          loss.backward()\n",
        "\n",
        "          # Parameter updates (SGD step) -- if done with torch.optim!\n",
        "          optimizer.step()\n",
        "\n",
        "          # Parameter updates (SGD step) -- if done manually!\n",
        "          # for param in model.parameters():\n",
        "          #   param.data.add_(-learningRate, param.grad)\n",
        "\n",
        "          # Logging the current results on training.\n",
        "          if (i + 1) % 100 == 0:\n",
        "              print('Train-epoch %d. Iteration %05d, Avg-Loss: %.4f, Accuracy: %.4f' % \n",
        "                    (epoch, i + 1, cum_loss / (i + 1), correct / ((i + 1) * batchSize)))\n",
        "\n",
        "      train_accuracies.append(correct / len(trainset))\n",
        "      train_losses.append(cum_loss / (i + 1))   \n",
        "\n",
        "      # Make a pass over the validation data.\n",
        "      correct = 0.0\n",
        "      cum_loss = 0.0\n",
        "      model.eval()\n",
        "      for (i, (inputs, labels)) in enumerate(val_loader):\n",
        "          inputs = inputs.cuda()\n",
        "          labels = labels.cuda()\n",
        "\n",
        "          # Forward pass. (Prediction stage)\n",
        "          with torch.no_grad():\n",
        "            features = feature_extractor(inputs)\n",
        "            scores = model(features)\n",
        "            cum_loss += loss_fn(scores, labels).item()\n",
        "\n",
        "           # Count how many correct in this batch.\n",
        "          max_scores, max_labels = scores.max(1)\n",
        "          correct += (max_labels == labels).sum().item()\n",
        "\n",
        "      val_accuracies.append(correct / len(valset))\n",
        "      val_losses.append(cum_loss / (i + 1))\n",
        "\n",
        "      # Logging the current results on validation.\n",
        "      print('Validation-epoch %d. Avg-Loss: %.4f, Accuracy: %.4f' % \n",
        "            (epoch, cum_loss / (i + 1), correct / len(valset)))"
      ],
      "execution_count": null,
      "outputs": []
    },
    {
      "cell_type": "markdown",
      "metadata": {
        "id": "vExxBHZYsRKI"
      },
      "source": [
        "#### 6.3 Now let's train and see what happens."
      ]
    },
    {
      "cell_type": "code",
      "metadata": {
        "id": "jpYvIWMHsTEf",
        "colab": {
          "base_uri": "https://localhost:8080/"
        },
        "outputId": "6c96b19c-d9c3-46db-e28e-499f444df43b"
      },
      "source": [
        "batchSize = 50\n",
        "loss_fn = nn.CrossEntropyLoss()\n",
        "\n",
        "# Define the model (we will just train a linear layer).\n",
        "linear_scene_model = nn.Linear(2048, len(train_dataset.classes))\n",
        "optimizer = optim.SGD(linear_scene_model.parameters(), lr = 1e-3, momentum = 0.9, weight_decay=1e-5)\n",
        "\n",
        "# Train the model.\n",
        "train_model_2(linear_scene_model, feature_extractor, loss_fn, batchSize, train_dataset, val_dataset, optimizer, 10)"
      ],
      "execution_count": null,
      "outputs": [
        {
          "output_type": "stream",
          "name": "stdout",
          "text": [
            "Train-epoch 0. Iteration 00100, Avg-Loss: 3.3250, Accuracy: 0.2668\n",
            "Train-epoch 0. Iteration 00200, Avg-Loss: 2.8756, Accuracy: 0.3668\n",
            "Validation-epoch 0. Avg-Loss: 2.8245, Accuracy: 0.2993\n",
            "Train-epoch 1. Iteration 00100, Avg-Loss: 1.8635, Accuracy: 0.5672\n",
            "Train-epoch 1. Iteration 00200, Avg-Loss: 1.7980, Accuracy: 0.5781\n",
            "Validation-epoch 1. Avg-Loss: 2.2130, Accuracy: 0.4321\n",
            "Train-epoch 2. Iteration 00100, Avg-Loss: 1.5225, Accuracy: 0.6260\n",
            "Train-epoch 2. Iteration 00200, Avg-Loss: 1.4655, Accuracy: 0.6368\n",
            "Validation-epoch 2. Avg-Loss: 1.9354, Accuracy: 0.4806\n",
            "Train-epoch 3. Iteration 00100, Avg-Loss: 1.3146, Accuracy: 0.6694\n",
            "Train-epoch 3. Iteration 00200, Avg-Loss: 1.2895, Accuracy: 0.6755\n",
            "Validation-epoch 3. Avg-Loss: 1.7247, Accuracy: 0.5201\n",
            "Train-epoch 4. Iteration 00100, Avg-Loss: 1.1956, Accuracy: 0.6942\n",
            "Train-epoch 4. Iteration 00200, Avg-Loss: 1.1822, Accuracy: 0.6916\n",
            "Validation-epoch 4. Avg-Loss: 1.6136, Accuracy: 0.5403\n",
            "Train-epoch 5. Iteration 00100, Avg-Loss: 1.1080, Accuracy: 0.7118\n",
            "Train-epoch 5. Iteration 00200, Avg-Loss: 1.1016, Accuracy: 0.7102\n",
            "Validation-epoch 5. Avg-Loss: 1.5078, Accuracy: 0.5769\n",
            "Train-epoch 6. Iteration 00100, Avg-Loss: 1.0554, Accuracy: 0.7204\n",
            "Train-epoch 6. Iteration 00200, Avg-Loss: 1.0425, Accuracy: 0.7262\n",
            "Validation-epoch 6. Avg-Loss: 1.4668, Accuracy: 0.5828\n",
            "Train-epoch 7. Iteration 00100, Avg-Loss: 0.9809, Accuracy: 0.7422\n",
            "Train-epoch 7. Iteration 00200, Avg-Loss: 0.9957, Accuracy: 0.7351\n",
            "Validation-epoch 7. Avg-Loss: 1.3984, Accuracy: 0.5918\n",
            "Train-epoch 8. Iteration 00100, Avg-Loss: 0.9667, Accuracy: 0.7378\n",
            "Train-epoch 8. Iteration 00200, Avg-Loss: 0.9658, Accuracy: 0.7380\n",
            "Validation-epoch 8. Avg-Loss: 1.3493, Accuracy: 0.6052\n",
            "Train-epoch 9. Iteration 00100, Avg-Loss: 0.9222, Accuracy: 0.7536\n",
            "Train-epoch 9. Iteration 00200, Avg-Loss: 0.9286, Accuracy: 0.7500\n",
            "Validation-epoch 9. Avg-Loss: 1.3124, Accuracy: 0.6142\n"
          ]
        }
      ]
    },
    {
      "cell_type": "markdown",
      "metadata": {
        "id": "WQUUm5IrSawM"
      },
      "source": [
        "Not a bad result at all!"
      ]
    }
  ]
}