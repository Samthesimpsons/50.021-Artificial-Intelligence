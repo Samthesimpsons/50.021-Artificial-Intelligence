{
  "cells": [
    {
      "cell_type": "markdown",
      "metadata": {
        "id": "3NAyKlyGxHT9"
      },
      "source": [
        "# PyTorch Tutorial - Tensors, grad, and logistic regression\n",
        "\n",
        "Prof. Dorien Herremans, with many thanks to Nelson Lui for the base text. "
      ]
    },
    {
      "cell_type": "markdown",
      "metadata": {
        "id": "mgs23T03xBK7"
      },
      "source": [
        "# Setting up the notebook\n",
        "\n",
        "Let's check if we are using the GPU environment and cuda is installed: "
      ]
    },
    {
      "cell_type": "code",
      "execution_count": 2,
      "metadata": {
        "colab": {
          "base_uri": "https://localhost:8080/"
        },
        "id": "kig3C9d9D-kA",
        "outputId": "0fffe2cd-54bf-45f0-e426-eb3c268a1c94"
      },
      "outputs": [
        {
          "name": "stdout",
          "output_type": "stream",
          "text": [
            "PyTorch version:\n",
            "1.11.0\n",
            "GPU Detected:\n",
            "True\n"
          ]
        }
      ],
      "source": [
        "# Import PyTorch and other libraries\n",
        "import torch\n",
        "import numpy as np  \n",
        "from tqdm import tqdm\n",
        "\n",
        "print(\"PyTorch version:\")\n",
        "print(torch.__version__)\n",
        "print(\"GPU Detected:\")\n",
        "print(torch.cuda.is_available())"
      ]
    },
    {
      "cell_type": "markdown",
      "metadata": {
        "id": "gAQvK5xHFe5I"
      },
      "source": [
        "# What is PyTorch?\n",
        "\n",
        "PyTorch is a deep learning package for building dynamic computation graphs.\n",
        "\n",
        "More broadly, it's a GPU-compatible replacement for NumPy. You can think of it as NumPy + auto-differentiation."
      ]
    },
    {
      "cell_type": "markdown",
      "metadata": {
        "id": "O02f3GJILvwJ"
      },
      "source": [
        "# Basic Mechanics\n",
        "\n",
        "If you are interested in basic operations, please go through the official PyTorch tutorial on tensors here: https://pytorch.org/tutorials/beginner/blitz/tensor_tutorial.html#sphx-glr-beginner-blitz-tensor-tutorial-py"
      ]
    },
    {
      "cell_type": "markdown",
      "metadata": {
        "id": "Jf9cLN-1GCao"
      },
      "source": [
        "## Tensors\n",
        "The `Tensor` type is essentially a NumPy `ndarray`. However, `Tensors` can critically be moved to the GPU for accelerated computing.\n",
        "\n",
        "There are several types of `Tensors`, each of which correspond to a NumPy `dtype` and whether it is on the CPU or GPU.\n",
        "\n",
        "The main ones you will probably use are:\n",
        "\n",
        "| Data Type | CPU Tensor Type | GPU Tensor Type | NumPy dtype\n",
        "| --- | --- | --- | --- | \n",
        "| 32-bit floating point | `torch.FloatTensor` | `torch.cuda.FloatTensor` | `float32` |\n",
        "| 8-bit integer (unsigned) | `torch.ByteTensor` | `torch.cuda.ByteTensor` | `uint8` |\n",
        "| 64-bit integer (signed)  | `torch.LongTensor` | `torch.cuda.LongTensor` | `int64` |\n",
        "\n",
        "In general, you want to use `FloatTensor` by default, unless your data is specifically an integer (in which case you'd use a `LongTensor`) or your data is bits (you'd want to use `ByteTensor`).\n",
        "\n",
        "You can find a full list of tensor types [here](http://pytorch.org/docs/master/tensors.html)."
      ]
    },
    {
      "cell_type": "markdown",
      "metadata": {
        "id": "YTQXFp7sGSYE"
      },
      "source": [
        "To construct a uninitialized 4x6 matrix (think `malloc` for those of you familar with `C` language, so not guaranteed to be all `0`), we can use:"
      ]
    },
    {
      "cell_type": "code",
      "execution_count": 3,
      "metadata": {
        "colab": {
          "base_uri": "https://localhost:8080/"
        },
        "id": "YXpJJ0xfGQN1",
        "outputId": "3ab3a82c-8d07-4e61-a039-d2a27ff02573"
      },
      "outputs": [
        {
          "name": "stdout",
          "output_type": "stream",
          "text": [
            "tensor([[4.4650e+30, 7.0975e+22, 7.9309e+34, 7.9439e+08, 3.2604e-12, 7.3113e+34],\n",
            "        [2.0706e-19, 7.7180e+28, 6.0041e+31, 4.2964e+24, 4.8329e+30, 1.6926e+22],\n",
            "        [0.0000e+00, 0.0000e+00, 0.0000e+00, 0.0000e+00, 0.0000e+00, 0.0000e+00],\n",
            "        [0.0000e+00, 0.0000e+00, 2.3542e-43, 2.2855e+20, 0.0000e+00, 0.0000e+00]])\n",
            "Type of above Tensor (it's also printed when you print the tensor):\n",
            "<class 'torch.Tensor'>\n"
          ]
        }
      ],
      "source": [
        "# Note that torch.Tensor is short for torch.FloatTensor\n",
        "uninit_float = torch.Tensor(4, 6)\n",
        "print(uninit_float)\n",
        "print(\"Type of above Tensor (it's also printed when you print the tensor):\")\n",
        "print(type(uninit_float))"
      ]
    },
    {
      "cell_type": "markdown",
      "metadata": {
        "id": "NuWOtvMQXvQH"
      },
      "source": [
        "We can also create Tensors directly from (optionally nested) lists."
      ]
    },
    {
      "cell_type": "code",
      "execution_count": 4,
      "metadata": {
        "colab": {
          "base_uri": "https://localhost:8080/"
        },
        "id": "I_HlWP46XulR",
        "outputId": "f742165e-1698-4fa5-825c-27658c38d568"
      },
      "outputs": [
        {
          "name": "stdout",
          "output_type": "stream",
          "text": [
            "tensor([3.2000, 4.3000, 5.5000])\n"
          ]
        }
      ],
      "source": [
        "some_float_tensor = torch.Tensor([3.2, 4.3, 5.5])\n",
        "print(some_float_tensor)"
      ]
    },
    {
      "cell_type": "markdown",
      "metadata": {
        "id": "e11zDwHKIyso"
      },
      "source": [
        "If we want a random uniform initialized `FloatTensor`, we can use `rand`.\n",
        "\n"
      ]
    },
    {
      "cell_type": "code",
      "execution_count": 5,
      "metadata": {
        "colab": {
          "base_uri": "https://localhost:8080/"
        },
        "id": "9ihZMTIQIyHG",
        "outputId": "658b0f2e-6066-4d3f-8c77-043dd65f31e4"
      },
      "outputs": [
        {
          "name": "stdout",
          "output_type": "stream",
          "text": [
            "tensor([[0.3477, 0.0598, 0.2317, 0.7523, 0.9608, 0.1756],\n",
            "        [0.9524, 0.4769, 0.4462, 0.4566, 0.4474, 0.0274],\n",
            "        [0.1891, 0.8469, 0.0051, 0.8889, 0.8065, 0.5325],\n",
            "        [0.0480, 0.8644, 0.9500, 0.7933, 0.4544, 0.7043]])\n",
            "<class 'torch.Tensor'>\n"
          ]
        }
      ],
      "source": [
        "rand_float = torch.rand(4, 6)\n",
        "print(rand_float)\n",
        "print(type(rand_float))"
      ]
    },
    {
      "cell_type": "markdown",
      "metadata": {
        "id": "GJhXiTl8KAAH"
      },
      "source": [
        "Let's print the `shape` of our random tensor. In NumPy / PyTorch / other tensor-manipulation libraries, `shape` refers to the dimensions of the tensor."
      ]
    },
    {
      "cell_type": "code",
      "execution_count": 7,
      "metadata": {
        "colab": {
          "base_uri": "https://localhost:8080/"
        },
        "id": "e7TvFs-9K4Ap",
        "outputId": "a9bc2eba-040a-4e49-cd52-e49d3eaedd92"
      },
      "outputs": [
        {
          "name": "stdout",
          "output_type": "stream",
          "text": [
            "torch.Size([4, 6])\n",
            "\n",
            "<class 'torch.Size'>\n",
            "\n",
            "Is rand_float.size() a tuple?\n",
            "True\n",
            "\n",
            "Size of rand_float dimension 1:\n",
            "4\n",
            "4\n"
          ]
        }
      ],
      "source": [
        "# Get the size of the rand float\n",
        "print(rand_float.size())\n",
        "print()\n",
        "\n",
        "# What's this weird torch.Size datatype?\n",
        "print(type(rand_float.size()))\n",
        "print()\n",
        "\n",
        "# It's just a tuple!\n",
        "print(\"Is rand_float.size() a tuple?\")\n",
        "print(isinstance(rand_float.size(), tuple))\n",
        "print()\n",
        "\n",
        "# We can even extract specific dimensions.\n",
        "# The two lines below are functionally identical.\n",
        "print(\"Size of rand_float dimension 1:\")\n",
        "print(rand_float.size()[0])\n",
        "print(rand_float.size(0))"
      ]
    },
    {
      "cell_type": "markdown",
      "metadata": {
        "id": "Lx_j18ospHiv"
      },
      "source": [
        "## NumPy Bridge\n",
        "\n",
        "It's very easy to convert a NumPy array into a Torch Tensor and vice versa as they will share their underlying memory locations (if the tensor is on CPU). Note that changing one will change the other.\n"
      ]
    },
    {
      "cell_type": "code",
      "execution_count": 8,
      "metadata": {
        "colab": {
          "base_uri": "https://localhost:8080/"
        },
        "id": "POznDR56pWc_",
        "outputId": "7a8368c9-5e1c-4aa8-b18d-7f45e53833b9"
      },
      "outputs": [
        {
          "name": "stdout",
          "output_type": "stream",
          "text": [
            "tensor([1., 1., 1., 1., 1., 1.])\n",
            "[1. 1. 1. 1. 1. 1.]\n"
          ]
        }
      ],
      "source": [
        "a = torch.ones(6)\n",
        "print (a)\n",
        "\n",
        "b = a.numpy()\n",
        "print (b)"
      ]
    },
    {
      "cell_type": "markdown",
      "metadata": {
        "id": "56bnT-KqplKG"
      },
      "source": [
        "Notice how they share the same memory: you change 1 and the other changes as well: "
      ]
    },
    {
      "cell_type": "code",
      "execution_count": 10,
      "metadata": {
        "colab": {
          "base_uri": "https://localhost:8080/"
        },
        "id": "XyQnMzvPpowY",
        "outputId": "23806aba-7491-49a6-85aa-06c1cc245917"
      },
      "outputs": [
        {
          "name": "stdout",
          "output_type": "stream",
          "text": [
            "tensor([9., 9., 9., 9., 9., 9.])\n",
            "[9. 9. 9. 9. 9. 9.]\n"
          ]
        }
      ],
      "source": [
        "a.add_(4)\n",
        "print(a)\n",
        "print(b)"
      ]
    },
    {
      "cell_type": "markdown",
      "metadata": {
        "id": "zxQTPkDRpxQ7"
      },
      "source": [
        "We can just as easily convert the other way, and once again observe the same memory sharing behaviour: "
      ]
    },
    {
      "cell_type": "code",
      "execution_count": 12,
      "metadata": {
        "colab": {
          "base_uri": "https://localhost:8080/"
        },
        "id": "X1K6CHnkpzsN",
        "outputId": "f4c330ba-a1d4-4b12-9ee8-014fdeb7fcd3"
      },
      "outputs": [
        {
          "name": "stdout",
          "output_type": "stream",
          "text": [
            "[2. 2. 2. 2. 2. 2.]\n",
            "tensor([2., 2., 2., 2., 2., 2.], dtype=torch.float64)\n"
          ]
        }
      ],
      "source": [
        "import numpy as np\n",
        "\n",
        "a = np.ones(6)\n",
        "b = torch.from_numpy(a)\n",
        "\n",
        "np.add(a, 1, out=a)\n",
        "print(a)\n",
        "print(b)"
      ]
    },
    {
      "cell_type": "markdown",
      "metadata": {
        "id": "7gpjuU8cMhkP"
      },
      "source": [
        "## Operations\n",
        "\n",
        "PyTorch has a huge library of various operations (e.g. indexing, slicing, math, linear algebra, sampling, etc). They're all listed [here](http://pytorch.org/docs/0.3.1/torch.html). We'll experiment with the addition operation below."
      ]
    },
    {
      "cell_type": "markdown",
      "metadata": {
        "id": "snlhjN6pPLLs"
      },
      "source": [
        "We can add with the normal Python `+` operator."
      ]
    },
    {
      "cell_type": "code",
      "execution_count": 13,
      "metadata": {
        "colab": {
          "base_uri": "https://localhost:8080/"
        },
        "id": "BSbDAqt1NX3s",
        "outputId": "d01d5774-ef5b-491b-9d21-4eda06db2920"
      },
      "outputs": [
        {
          "name": "stdout",
          "output_type": "stream",
          "text": [
            "tensor([[1.3166, 0.3088, 1.2053, 0.8394, 1.5141, 1.0303],\n",
            "        [1.3740, 0.6489, 0.8012, 0.8502, 1.4440, 0.9071],\n",
            "        [0.5307, 1.7508, 0.5083, 1.0339, 1.3033, 0.8299],\n",
            "        [0.0652, 0.9175, 1.3349, 1.6484, 0.6601, 1.2348]])\n"
          ]
        }
      ],
      "source": [
        "other_rand_float = torch.rand(4, 6)\n",
        "# Three ways to add!\n",
        "\n",
        "# Python Operator +\n",
        "print(rand_float + other_rand_float)"
      ]
    },
    {
      "cell_type": "markdown",
      "metadata": {
        "id": "nFcboDXrPULm"
      },
      "source": [
        "We can also use the `torch.add` function."
      ]
    },
    {
      "cell_type": "code",
      "execution_count": 14,
      "metadata": {
        "colab": {
          "base_uri": "https://localhost:8080/"
        },
        "id": "CzfAtigCPUUA",
        "outputId": "4224a7fd-2d69-4854-bce5-7bb8e781e2fb"
      },
      "outputs": [
        {
          "name": "stdout",
          "output_type": "stream",
          "text": [
            "tensor([[1.3166, 0.3088, 1.2053, 0.8394, 1.5141, 1.0303],\n",
            "        [1.3740, 0.6489, 0.8012, 0.8502, 1.4440, 0.9071],\n",
            "        [0.5307, 1.7508, 0.5083, 1.0339, 1.3033, 0.8299],\n",
            "        [0.0652, 0.9175, 1.3349, 1.6484, 0.6601, 1.2348]])\n"
          ]
        }
      ],
      "source": [
        "# torch.add\n",
        "print(torch.add(rand_float, other_rand_float))"
      ]
    },
    {
      "cell_type": "markdown",
      "metadata": {
        "id": "NFuv7i7GPUgo"
      },
      "source": [
        "We can also add in-place to `rand_float`. This modifies the `rand_float` tensor. All PyTorch operations that modify in place end with an underscore (\"_\")."
      ]
    },
    {
      "cell_type": "code",
      "execution_count": 15,
      "metadata": {
        "colab": {
          "base_uri": "https://localhost:8080/"
        },
        "id": "2X3Mzao-PUqX",
        "outputId": "426a633f-2713-44ec-bf43-eaa6c06f862a"
      },
      "outputs": [
        {
          "name": "stdout",
          "output_type": "stream",
          "text": [
            "tensor([[1.3166, 0.3088, 1.2053, 0.8394, 1.5141, 1.0303],\n",
            "        [1.3740, 0.6489, 0.8012, 0.8502, 1.4440, 0.9071],\n",
            "        [0.5307, 1.7508, 0.5083, 1.0339, 1.3033, 0.8299],\n",
            "        [0.0652, 0.9175, 1.3349, 1.6484, 0.6601, 1.2348]])\n"
          ]
        }
      ],
      "source": [
        "# Add in-place to rand_float. This modifies rand_float!\n",
        "rand_float.add_(other_rand_float)\n",
        "print(rand_float)"
      ]
    },
    {
      "cell_type": "markdown",
      "metadata": {
        "id": "Ptlr7artP5Pr"
      },
      "source": [
        "## Broadcasting\n",
        "\n",
        "Broadcasting is a construct in NumPy and PyTorch that lets operations apply to tensors of different shapes. Under certain conditions, a smaller tensor can be \"broadcast\" across a bigger one. This is often desirable to do, since the looping happens at the C-level and is _incredibly_ efficient in both speed and memory."
      ]
    },
    {
      "cell_type": "markdown",
      "metadata": {
        "id": "LpySOGBqQ-I-"
      },
      "source": [
        "In the example below, `x` has shape `(3,)` and y has shape `(5, 3)`. We can still add them together --- the smaller tensor is automatically added to each row of the larger tensor."
      ]
    },
    {
      "cell_type": "code",
      "execution_count": null,
      "metadata": {
        "colab": {
          "base_uri": "https://localhost:8080/"
        },
        "id": "7mVSCqooQWzd",
        "outputId": "ac74d80d-438b-4f33-8a6e-5d1975f792ed"
      },
      "outputs": [
        {
          "name": "stdout",
          "output_type": "stream",
          "text": [
            "tensor([3, 9, 1])\n",
            "tensor([[0, 6, 3],\n",
            "        [3, 8, 0],\n",
            "        [9, 7, 9],\n",
            "        [6, 2, 4],\n",
            "        [0, 0, 2]])\n",
            "tensor([[ 3, 15,  4],\n",
            "        [ 6, 17,  1],\n",
            "        [12, 16, 10],\n",
            "        [ 9, 11,  5],\n",
            "        [ 3,  9,  3]])\n"
          ]
        }
      ],
      "source": [
        "# Random LongTensors from 0 to 9.\n",
        "x = torch.LongTensor(3).random_(10)\n",
        "y = torch.LongTensor(5, 3).random_(10)\n",
        "\n",
        "print(x)\n",
        "print(y)\n",
        "print(x+y)"
      ]
    },
    {
      "cell_type": "markdown",
      "metadata": {
        "id": "fuW86QzX1rbi"
      },
      "source": [
        "**Broadcasting, if used improperly, can also lead to inadvertent bugs**. \n",
        "\n",
        "Consider this example: Say you want to multiply a matrix of shape `(4, 6)` with one of shape `(6, 4)` to get something of shape `(4, 4)`. You might be tempted to use the `*` operator, which is for `elementwise` multiplication. For matrix multiplication, we use either `Tensor.mm` or the `@` operator.\n",
        "\n",
        "However, broadcasting leads to a particularly nasty bug that is hard to detect due to broadcast (this behavior is thankfully being deprecated by PyTorch, hence you will see a bug when you run this in a recent version!)."
      ]
    },
    {
      "cell_type": "code",
      "execution_count": null,
      "metadata": {
        "colab": {
          "base_uri": "https://localhost:8080/",
          "height": 454
        },
        "id": "rNXXI_Ti2OSl",
        "outputId": "535e1cab-a03a-4763-d737-2404cc9d52f9"
      },
      "outputs": [
        {
          "name": "stdout",
          "output_type": "stream",
          "text": [
            "x:  tensor([[9, 2, 3, 6, 0, 4],\n",
            "        [4, 9, 0, 5, 7, 2],\n",
            "        [5, 1, 6, 2, 2, 8],\n",
            "        [8, 8, 5, 3, 9, 7]])\n",
            "y:  tensor([[7, 2, 4, 3],\n",
            "        [8, 0, 2, 0],\n",
            "        [3, 5, 2, 1],\n",
            "        [2, 9, 8, 2],\n",
            "        [7, 4, 9, 5],\n",
            "        [3, 6, 4, 8]])\n",
            "x @ y (matrix multiply) :  tensor([[112, 111, 110,  74],\n",
            "        [165,  93, 145,  73],\n",
            "        [103, 114, 100,  99],\n",
            "        [225, 146, 191, 136]])\n"
          ]
        },
        {
          "ename": "RuntimeError",
          "evalue": "ignored",
          "output_type": "error",
          "traceback": [
            "\u001b[0;31m---------------------------------------------------------------------------\u001b[0m",
            "\u001b[0;31mRuntimeError\u001b[0m                              Traceback (most recent call last)",
            "\u001b[0;32m<ipython-input-13-85ac7ff08227>\u001b[0m in \u001b[0;36m<module>\u001b[0;34m()\u001b[0m\n\u001b[1;32m      9\u001b[0m \u001b[0;34m\u001b[0m\u001b[0m\n\u001b[1;32m     10\u001b[0m \u001b[0;31m# USUALLY UNINTENTIONAL ELEMENTWISE-MULTIPLICATION\u001b[0m\u001b[0;34m\u001b[0m\u001b[0;34m\u001b[0m\u001b[0;34m\u001b[0m\u001b[0m\n\u001b[0;32m---> 11\u001b[0;31m \u001b[0mprint\u001b[0m\u001b[0;34m(\u001b[0m\u001b[0;34m\"x * y (elementwise multiply) : \"\u001b[0m\u001b[0;34m,\u001b[0m \u001b[0mx\u001b[0m \u001b[0;34m*\u001b[0m \u001b[0my\u001b[0m\u001b[0;34m)\u001b[0m\u001b[0;34m\u001b[0m\u001b[0;34m\u001b[0m\u001b[0m\n\u001b[0m",
            "\u001b[0;31mRuntimeError\u001b[0m: The size of tensor a (6) must match the size of tensor b (4) at non-singleton dimension 1"
          ]
        }
      ],
      "source": [
        "x = torch.LongTensor(4, 6).random_(10)  # [4,6]\n",
        "y = torch.LongTensor(6, 4).random_(10)  # [6,4]\n",
        "\n",
        "print(\"x: \", x)\n",
        "print(\"y: \", y)\n",
        "\n",
        "# Matrix multiply\n",
        "print(\"x @ y (matrix multiply) : \", x @ y)\n",
        "\n",
        "# USUALLY UNINTENTIONAL ELEMENTWISE-MULTIPLICATION\n",
        "print(\"x * y (elementwise multiply) : \", x * y)"
      ]
    },
    {
      "cell_type": "markdown",
      "metadata": {
        "id": "7KVSYJr622sB"
      },
      "source": [
        "A big part of programming with tensors is keeping track of the expected shapes of your tensors and whether these shapes are actually showing up --- doing so will dramatically reduce the amount of bugs you have."
      ]
    },
    {
      "cell_type": "markdown",
      "metadata": {
        "id": "dniKPStURqRd"
      },
      "source": [
        "## Reshaping\n",
        "\n",
        "It's often desirable to reshape a Tensor, maybe to broadcast with something else or to turn it into something that is easier to reason about.\n",
        "We can do that with the `.view` function."
      ]
    },
    {
      "cell_type": "code",
      "execution_count": 17,
      "metadata": {
        "colab": {
          "base_uri": "https://localhost:8080/"
        },
        "id": "1c49vanzR-FZ",
        "outputId": "7dbfae05-92f3-4965-df24-32ae8442a7ba"
      },
      "outputs": [
        {
          "name": "stdout",
          "output_type": "stream",
          "text": [
            "tensor([[3, 8, 5, 7],\n",
            "        [1, 1, 3, 9],\n",
            "        [7, 4, 0, 3],\n",
            "        [0, 7, 8, 1]])\n",
            "tensor([[3, 8, 5, 7, 1, 1, 3, 9],\n",
            "        [7, 4, 0, 3, 0, 7, 8, 1]])\n",
            "tensor([[3, 8],\n",
            "        [5, 7],\n",
            "        [1, 1],\n",
            "        [3, 9],\n",
            "        [7, 4],\n",
            "        [0, 3],\n",
            "        [0, 7],\n",
            "        [8, 1]])\n",
            "tensor([3, 8, 5, 7, 1, 1, 3, 9, 7, 4, 0, 3, 0, 7, 8, 1])\n"
          ]
        }
      ],
      "source": [
        "x = torch.LongTensor(4, 4).random_(10)\n",
        "print(x)\n",
        "\n",
        "# Turn it into a Tensor of shape (2, 8)\n",
        "y = x.view(2, 8)\n",
        "print(y)\n",
        "\n",
        "# Turn it into a Tensor of shape (8, ?).\n",
        "# The -1 is inferred from the shape of the Tensor.\n",
        "z = x.view(8, -1)\n",
        "print(z)\n",
        "\n",
        "# Turn it into a Tensor of shape (16,) (flatten it).\n",
        "# This is the same as x.view(16).\n",
        "flat = x.view(-1)\n",
        "print(flat)"
      ]
    },
    {
      "cell_type": "markdown",
      "metadata": {
        "id": "zCMO9UqgVkS1"
      },
      "source": [
        "## Slicing and Indexing\n",
        "\n",
        "PyTorch follows the same conventions that NumPy uses for array slicing and indexing. [Here's a good intro to slicing and indexing in NumPy](http://www.scipy-lectures.org/intro/numpy/array_object.html#indexing-and-slicing)."
      ]
    },
    {
      "cell_type": "code",
      "execution_count": 20,
      "metadata": {
        "colab": {
          "base_uri": "https://localhost:8080/"
        },
        "id": "KlX0WJ9bWMGM",
        "outputId": "3ea6985d-7f3e-40f1-f56c-228461183fda"
      },
      "outputs": [
        {
          "name": "stdout",
          "output_type": "stream",
          "text": [
            "tensor([[1, 5, 1, 5, 0],\n",
            "        [6, 0, 0, 4, 4],\n",
            "        [4, 3, 8, 1, 7]])\n",
            "First row:\n",
            "tensor([1, 5, 1, 5, 0])\n",
            "Last row:\n",
            "tensor([4, 3, 8, 1, 7])\n",
            "3rd column from left:\n",
            "tensor([1, 0, 8])\n",
            "Last column from left:\n",
            "tensor([0, 4, 7])\n"
          ]
        }
      ],
      "source": [
        "x = torch.LongTensor(3, 5).random_(10)\n",
        "print(x)\n",
        "\n",
        "# Get the first row\n",
        "print(\"First row:\")\n",
        "print(x[0])\n",
        "\n",
        "# Get the last row\n",
        "print(\"Last row:\")\n",
        "print(x[-1])\n",
        "\n",
        "# Get the 3rd column\n",
        "print(\"3rd column from left:\")\n",
        "print(x[:, 2])\n",
        "\n",
        "# Get the last column\n",
        "print(\"Last column from left:\")\n",
        "print(x[:, -1])"
      ]
    },
    {
      "cell_type": "markdown",
      "metadata": {
        "id": "198ovrfWWkx6"
      },
      "source": [
        "Here's a slightly more complex example with a 3D Tensor --- slicing an indexing a 3D tensor is quite common in neural NLP, especially when dealing with the output of a recurrent neural network (RNN). The same slicing principles apply, though."
      ]
    },
    {
      "cell_type": "code",
      "execution_count": 21,
      "metadata": {
        "colab": {
          "base_uri": "https://localhost:8080/"
        },
        "id": "oAqxtUO-WvnY",
        "outputId": "880fd27c-e18f-4aae-8f86-6f00a5c767f5"
      },
      "outputs": [
        {
          "name": "stdout",
          "output_type": "stream",
          "text": [
            "tensor([[[ 5,  2,  9,  1, 11,  4, 11, 11,  0,  9],\n",
            "         [ 7,  1, 11,  7,  2, 14,  6,  4,  6,  0],\n",
            "         [12,  4,  7,  4,  6, 13, 13, 11, 10,  7],\n",
            "         [ 0,  5,  9,  4, 14,  8,  1,  7,  9, 10],\n",
            "         [ 1, 12, 11,  1, 14, 13, 13, 10,  1,  3]],\n",
            "\n",
            "        [[ 3,  4, 10,  9, 11,  7, 13, 12,  8, 11],\n",
            "         [ 5,  5,  5,  0, 11, 13,  0,  8,  6, 14],\n",
            "         [ 1, 12,  5,  3, 11,  3,  7, 10, 13,  3],\n",
            "         [11, 11, 12,  5,  9, 11,  0, 12,  2,  6],\n",
            "         [ 0,  3,  0,  3,  5, 10,  4, 10, 10,  0]],\n",
            "\n",
            "        [[14,  0,  9,  4, 13,  5,  0,  1,  0, 10],\n",
            "         [ 4,  9, 13,  0,  0,  7,  1,  3,  0, 14],\n",
            "         [ 9, 11,  3,  5,  8,  3, 14,  4, 13, 14],\n",
            "         [ 4,  4,  9, 11,  6, 13,  8, 14, 14,  0],\n",
            "         [10,  4, 12, 12, 13, 13,  7, 14,  2,  6]]])\n",
            "Final LSTM outputs for each example: \n",
            "tensor([[ 1, 12, 11,  1, 14, 13, 13, 10,  1,  3],\n",
            "        [ 0,  3,  0,  3,  5, 10,  4, 10, 10,  0],\n",
            "        [10,  4, 12, 12, 13, 13,  7, 14,  2,  6]])\n"
          ]
        }
      ],
      "source": [
        "# Shape of x is (batch_size, sequence_length, hidden_dim)\n",
        "# 3 is the batch size.\n",
        "# 5 is the sequence length of all examples in the batch.\n",
        "# 10 is the size of the RNN hidden state.\n",
        "x = torch.LongTensor(3, 5, 10).random_(15)\n",
        "print(x)\n",
        "\n",
        "# Get the last LSTM outputs for each example in the batch\n",
        "print(\"Final LSTM outputs for each example: \")\n",
        "print(x[:, -1, :])"
      ]
    },
    {
      "cell_type": "markdown",
      "metadata": {
        "id": "KdMeqnLiovOk"
      },
      "source": [
        "# Using the GPU\n",
        "\n",
        "PyTorch allows you to easily move computations to the GPU --- just move the associated input tensors to the GPU with the `.cuda()` function."
      ]
    },
    {
      "cell_type": "markdown",
      "metadata": {
        "id": "76uMYna9o_2K"
      },
      "source": [
        "Note that GPU and CPU tensors are fundamentally different types."
      ]
    },
    {
      "cell_type": "code",
      "execution_count": 22,
      "metadata": {
        "colab": {
          "base_uri": "https://localhost:8080/"
        },
        "id": "kYYELXQ5o7tU",
        "outputId": "852ca791-9c76-4971-94bc-02f3d871154f"
      },
      "outputs": [
        {
          "name": "stdout",
          "output_type": "stream",
          "text": [
            "<class 'torch.Tensor'>\n",
            "<class 'torch.Tensor'>\n"
          ]
        }
      ],
      "source": [
        "if torch.cuda.is_available:\n",
        "  # Create a Tensor\n",
        "  x = torch.rand(3, 5)\n",
        "  print(type(x))\n",
        "\n",
        "  # Move it to the GPU\n",
        "  x_gpu = x.cuda()\n",
        "  print(type(x_gpu))"
      ]
    },
    {
      "cell_type": "markdown",
      "metadata": {
        "id": "KjqQ4wLIp52S"
      },
      "source": [
        "If you're using a machine with a GPU, you can run `nvidia-smi` in bash to get GPU usage statistics. Below, you can see the type of GPU, the current memory usage, the amount of memory the GPU has, and the % of the GPU being used for computatation."
      ]
    },
    {
      "cell_type": "code",
      "execution_count": 23,
      "metadata": {
        "colab": {
          "base_uri": "https://localhost:8080/"
        },
        "id": "7xchx1H8p32n",
        "outputId": "3a144d53-02cb-465d-c3ac-e8dcc5cb692c"
      },
      "outputs": [
        {
          "name": "stdout",
          "output_type": "stream",
          "text": [
            "Tue Jun 14 12:59:08 2022       \n",
            "+-----------------------------------------------------------------------------+\n",
            "| NVIDIA-SMI 511.79       Driver Version: 511.79       CUDA Version: 11.6     |\n",
            "|-------------------------------+----------------------+----------------------+\n",
            "| GPU  Name            TCC/WDDM | Bus-Id        Disp.A | Volatile Uncorr. ECC |\n",
            "| Fan  Temp  Perf  Pwr:Usage/Cap|         Memory-Usage | GPU-Util  Compute M. |\n",
            "|                               |                      |               MIG M. |\n",
            "|===============================+======================+======================|\n",
            "|   0  NVIDIA GeForce ... WDDM  | 00000000:01:00.0 Off |                  N/A |\n",
            "| N/A   62C    P0    N/A /  N/A |    261MiB /  2048MiB |     42%      Default |\n",
            "|                               |                      |                  N/A |\n",
            "+-------------------------------+----------------------+----------------------+\n",
            "                                                                               \n",
            "+-----------------------------------------------------------------------------+\n",
            "| Processes:                                                                  |\n",
            "|  GPU   GI   CI        PID   Type   Process name                  GPU Memory |\n",
            "|        ID   ID                                                   Usage      |\n",
            "|=============================================================================|\n",
            "|    0   N/A  N/A     21948    C+G                                   N/A      |\n",
            "|    0   N/A  N/A     26312      C   ...s\\data_science\\python.exe    N/A      |\n",
            "+-----------------------------------------------------------------------------+\n"
          ]
        }
      ],
      "source": [
        "!nvidia-smi"
      ]
    },
    {
      "cell_type": "markdown",
      "metadata": {
        "id": "2Ur47t88ubC9"
      },
      "source": [
        "Let's test out the GPU with a large matrix multiply!"
      ]
    },
    {
      "cell_type": "code",
      "execution_count": 24,
      "metadata": {
        "id": "Um3FePM7uj14"
      },
      "outputs": [],
      "source": [
        "# Some test inputs\n",
        "test_input_one = torch.rand(1000, 9000)\n",
        "test_input_two = torch.rand(9000, 1000)"
      ]
    },
    {
      "cell_type": "code",
      "execution_count": 25,
      "metadata": {
        "colab": {
          "base_uri": "https://localhost:8080/"
        },
        "id": "rmdoOmS0vDWZ",
        "outputId": "7d17a258-7c9f-4f90-a642-a00a02ae1e08"
      },
      "outputs": [
        {
          "name": "stdout",
          "output_type": "stream",
          "text": [
            "126 ms ± 1.98 ms per loop (mean ± std. dev. of 7 runs, 10 loops each)\n"
          ]
        }
      ],
      "source": [
        "%%timeit\n",
        "test_input_one.mm(test_input_two)"
      ]
    },
    {
      "cell_type": "code",
      "execution_count": 26,
      "metadata": {
        "id": "WWfNE_jIvS4H"
      },
      "outputs": [],
      "source": [
        "# Move to GPU\n",
        "import os\n",
        "using_GPU = os.path.exists('/opt/bin/nvidia-smi')\n",
        "if using_GPU:\n",
        "  gpu_test_input_one = test_input_one.cuda()\n",
        "  gpu_test_input_two = test_input_two.cuda()"
      ]
    },
    {
      "cell_type": "code",
      "execution_count": 27,
      "metadata": {
        "colab": {
          "base_uri": "https://localhost:8080/"
        },
        "id": "m7XISOVBvZIA",
        "outputId": "bc606e3b-f28a-4954-bec3-e8fc3d8fa0db"
      },
      "outputs": [
        {
          "name": "stdout",
          "output_type": "stream",
          "text": [
            "30.3 ns ± 2.37 ns per loop (mean ± std. dev. of 7 runs, 100 loops each)\n"
          ]
        }
      ],
      "source": [
        "%%timeit -n 100\n",
        "# This now automatically runs on the GPU!\n",
        "if using_GPU:\n",
        "  gpu_test_input_one.mm(gpu_test_input_two)"
      ]
    },
    {
      "cell_type": "markdown",
      "metadata": {
        "id": "7AY55mDVwAEI"
      },
      "source": [
        "Using a GPU can give you massive speedups for tensor operations since most of them are easily parallelizable. Historically, the success of deep learning is inextricably tied to the ability to efficiently train the models on GPUs.\n",
        "\n",
        "To take advantage of this, **you want to be using PyTorch tensor operations almost everywhere** --- avoid explicitly iterating over tensors!"
      ]
    },
    {
      "cell_type": "markdown",
      "metadata": {
        "id": "IE8RE8n5cUmJ"
      },
      "source": [
        "# Computation Graphs"
      ]
    },
    {
      "cell_type": "markdown",
      "metadata": {
        "id": "I00992FzWysI"
      },
      "source": [
        "A computation graph is simply a way to define a sequence of operations to go from input to model output. \n",
        "\n",
        "You can think of the nodes in the graph as representing operations, and the edges in the graph represent tensors going in and out.\n",
        "\n",
        "For example, say we wanted to build a linear regression model. This has the form $\\hat y = Wx + b$. \n",
        "\n",
        "In this equation, $x$ is our input, $W$ is a learned weight matrix, $b$ is a learned bias, and $\\hat y$ is the predicted output. \n",
        "\n",
        "As a computation graph, this looks like:\n",
        "\n",
        "![Linear Regression Computation Graph](https://imgur.com/IcBhTjS.png)\n",
        "\n",
        "When implementing deep learning models, you're basically designing and specifying computation graphs. It's a bit like playing with Legos in that you're stringing together a bunch of blocks (the operations) to achieve a final desired output."
      ]
    },
    {
      "cell_type": "markdown",
      "metadata": {
        "id": "fjkrXzQ3UDhy"
      },
      "source": [
        "# Tensors, Variables and Autograd"
      ]
    },
    {
      "cell_type": "markdown",
      "metadata": {
        "id": "HF3x5x8RWUsT"
      },
      "source": [
        "One of PyTorch's key features (and what makes it a deep learning library) is the ability to specify arbitrary computation graphs and compute gradients on them automatically. For more detail, please see the official tutorial on grad at PyTorch: https://pytorch.org/tutorials/beginner/blitz/autograd_tutorial.html#sphx-glr-beginner-blitz-autograd-tutorial-py\n",
        "\n",
        "We can do this on Tensor objects. In older versions of PyTorch, we need to first wrap the tensor in a `Variable` and import `torch.autograd.Variable`. You will see this in tutorials still floating around the internet, hence I wanted to mention this notation as well.  Some things you can do: \n",
        "\n",
        "*   The data of the tensor (accessed with the `.data` member)\n",
        "*   The gradient with regards to this Variable (accessed with the `.grad` member)\n",
        "*   The function that created it (accessed with the `.grad_fn` member)\n",
        "\n",
        "For legacy purposes, I want to mention that you will sometimes see this: \n",
        "\n",
        "`x = Variable(torch.Tensor([1, 2, 3]), requires_grad=True)`\n",
        "\n",
        "In newer version of TyTorch can simply use: \n",
        "\n",
        "`x = torch.Tensor([1., 2., 3.], requires_grad=True)`\n"
      ]
    },
    {
      "cell_type": "code",
      "execution_count": 28,
      "metadata": {
        "colab": {
          "base_uri": "https://localhost:8080/"
        },
        "id": "XP5GOtjkWTsh",
        "outputId": "2d980570-4c9b-4ad3-b74d-76661cc27450"
      },
      "outputs": [
        {
          "name": "stdout",
          "output_type": "stream",
          "text": [
            "tensor([1., 2., 3.])\n",
            "tensor([5., 7., 9.])\n",
            "<AddBackward0 object at 0x000001997DC66800>\n"
          ]
        }
      ],
      "source": [
        "x = torch.tensor([1., 2., 3.], requires_grad=True)\n",
        "# You can access the underlying tensor with the .data attribute\n",
        "print(x.data)\n",
        "\n",
        "# Any operation you could use on Tensors, you can use on the legacy Variables\n",
        "y = torch.tensor([4., 5., 6.], requires_grad=True)\n",
        "z = x + y\n",
        "print(z.data)\n",
        "\n",
        "# But z also stores where it came from!\n",
        "print(z.grad_fn)"
      ]
    },
    {
      "cell_type": "markdown",
      "metadata": {
        "id": "D7b-U3Mfr-Px"
      },
      "source": [
        "A note on the `requires_grad` argument: with most NN code, you don’t want to set `requires_grad=True` unless you explicitly want the gradient w.r.t. to your input. In this example, however, `requires_grad=True` is necessary because otherwise there would be no gradients to compute, since there are no model parameters."
      ]
    },
    {
      "cell_type": "markdown",
      "metadata": {
        "id": "_hEy7CvTsaZw"
      },
      "source": [
        "Let's do some more operations and calculate the gradient."
      ]
    },
    {
      "cell_type": "code",
      "execution_count": 29,
      "metadata": {
        "colab": {
          "base_uri": "https://localhost:8080/"
        },
        "id": "WPYWL4pOsfmD",
        "outputId": "da74b8c4-9379-4bc6-d237-30cf85e244d9"
      },
      "outputs": [
        {
          "name": "stdout",
          "output_type": "stream",
          "text": [
            "tensor(21., grad_fn=<SumBackward0>)\n",
            "<SumBackward0 object at 0x000001997DD43F40>\n"
          ]
        }
      ],
      "source": [
        "z_sum = torch.sum(z)\n",
        "print(z_sum)\n",
        "print(z_sum.grad_fn)"
      ]
    },
    {
      "cell_type": "markdown",
      "metadata": {
        "id": "e8acGLAcs2Bt"
      },
      "source": [
        "Say we want to calculate the derivative of the sum w.r.t. the \n",
        "first element of x (in math,  $\\frac{\\partial z_{sum}}{\\partial x_0}$).\n",
        "\n",
        "Autograd knows that: $$ z_{sum} = x_0 + y_0 + x_1 + y_1 + x_2 + y_2$$\n",
        "\n",
        "So the derivative of $z_{sum}$ w.r.t $x_0$ is 1! Similarily, the derivative to all elements of $x$ is 1. Let's verify this with autograd."
      ]
    },
    {
      "cell_type": "code",
      "execution_count": 30,
      "metadata": {
        "colab": {
          "base_uri": "https://localhost:8080/"
        },
        "id": "VHSS5QnxteVO",
        "outputId": "588cedb7-6a40-4098-e79a-9a9005a46b2f"
      },
      "outputs": [
        {
          "name": "stdout",
          "output_type": "stream",
          "text": [
            "tensor([1., 1., 1.])\n"
          ]
        }
      ],
      "source": [
        "# Backprop from s backwards into the grpah\n",
        "# It'll follow the chain of computation by going from grad_fn to grad_fn\n",
        "# until it reaches the input.\n",
        "z_sum.backward()\n",
        "print(x.grad)"
      ]
    },
    {
      "cell_type": "markdown",
      "metadata": {
        "id": "h2eAbqOxt2e9"
      },
      "source": [
        "Try running the block above multiple times! What do you notice happening?\n",
        "\n",
        "**The gradient in `.grad` accumulates each time we call `.backward()`** --- this is convenient for some models, but we'll usually want to zero the gradient before running backpropagation when we're training our models (more on this later).\n",
        "\n",
        "In most models we build, we'll generally want to explicitly zero-out the gradients (details forthcoming) before calling `.backward()`"
      ]
    },
    {
      "cell_type": "markdown",
      "metadata": {
        "id": "RZNnUJcrU2r2"
      },
      "source": [
        "# Structuring PyTorch models\n",
        "\n",
        "At the highest level, `nn.Module` defines what most would refer to as a \"model\". It's a convenient way for encapsulating the trainable parameters of a model or a component of your model, and subclassing this class gives you Python functions for moving your model to the GPU, saving it, loading it etc.\n",
        "\n",
        "When you're building your own model, you're going to subclass `nn.Module`. Critically, you also need to override the `__init__()` and `forward()` functions.\n",
        "\n",
        "*   In `__init__()`, you should take arguments that modify how the model runs (e.g. # of layers, # of hidden units, output sizes). You'll also set up most of the layers that you use in the forward pass here.\n",
        "*   In `forward()`, you define the \"forward pass\" of your model, or the operations needed to transform input to output. **You can use any of the Tensor operations in the forward pass.**\n",
        "\n"
      ]
    },
    {
      "cell_type": "markdown",
      "metadata": {
        "id": "6bxeOKmLWDly"
      },
      "source": [
        "### A simple example `Module` : Logistic Regression\n",
        "\n",
        "As a simple example of how to make a Module, let's build a logistic regression model.\n",
        "\n",
        "Logistic regression takes an input $x$ and applies a linear transform to squash the input down to a probability distribution over the number of classification classes. If you recall from the lecture, we start with a linear regression model based on the input variables, which is then put into a logistic sigmoid function. As a module, this looks like:"
      ]
    },
    {
      "cell_type": "code",
      "execution_count": 32,
      "metadata": {
        "id": "H4OWZ0B1zpr3"
      },
      "outputs": [],
      "source": [
        "import torch.nn as nn\n",
        "import torch.nn.functional as F\n",
        "\n",
        "class LogisticRegression(nn.Module):\n",
        "  # input_size: Dimensionality of input feature vector.\n",
        "  # num_classes: The number of classes in the classification problem.\n",
        "  def __init__(self, input_size, num_classes):\n",
        "    # Always call the superclass (nn.Module) constructor first!\n",
        "    super(LogisticRegression, self).__init__()\n",
        "    # Set up the linear transform\n",
        "    self.linear = nn.Linear(input_size, num_classes)\n",
        "    # I do not yet include the sigmoid activation after the linear \n",
        "    # layer because our loss function will include this as you will see later\n",
        "\n",
        "  # Forward's sole argument is the input.\n",
        "  # input is of shape (batch_size, input_size)\n",
        "  def forward(self, x):\n",
        "    # Apply the linear transform.\n",
        "    # out is of shape (batch_size, num_classes). \n",
        "    out = self.linear(x)\n",
        "    out = torch.sigmoid(out)\n",
        "    # Softmax the out tensor to get a log-probability distribution\n",
        "    # over classes for each example.\n",
        "    return out"
      ]
    },
    {
      "cell_type": "markdown",
      "metadata": {
        "id": "NR7A0wolvMH3"
      },
      "source": [
        "# New section"
      ]
    },
    {
      "cell_type": "markdown",
      "metadata": {
        "id": "7RZlH4EY1BIY"
      },
      "source": [
        "Modules are also callable! As a result, we can do the following to apply them to an input. Note how the number of features determines the size of the linear layer above. "
      ]
    },
    {
      "cell_type": "code",
      "execution_count": 33,
      "metadata": {
        "colab": {
          "base_uri": "https://localhost:8080/"
        },
        "id": "E3n2DoVt1H8k",
        "outputId": "89883090-3605-4b13-ce1f-84d203f22239"
      },
      "outputs": [
        {
          "name": "stdout",
          "output_type": "stream",
          "text": [
            "LogisticRegression(\n",
            "  (linear): Linear(in_features=2, out_features=1, bias=True)\n",
            ")\n"
          ]
        }
      ],
      "source": [
        "# Binary classifiation\n",
        "num_outputs = 1\n",
        "num_input_features = 2\n",
        "\n",
        "# Create the logistic regression model\n",
        "logreg_clf = LogisticRegression(num_input_features, num_outputs)\n",
        "\n",
        "print(logreg_clf)"
      ]
    },
    {
      "cell_type": "markdown",
      "metadata": {
        "id": "7ynjaIvgIlgk"
      },
      "source": [
        "We set a learning rate a select the gradient descent optimizer to train the model. For a super small example, we manually define a training and test set for the XOR problem. "
      ]
    },
    {
      "cell_type": "code",
      "execution_count": 34,
      "metadata": {
        "colab": {
          "base_uri": "https://localhost:8080/"
        },
        "id": "OcItrPEnIluy",
        "outputId": "e6acae8f-f1cc-4d25-9b19-8740faa66e45"
      },
      "outputs": [
        {
          "name": "stdout",
          "output_type": "stream",
          "text": [
            "tensor([[0., 0.],\n",
            "        [0., 1.],\n",
            "        [1., 0.],\n",
            "        [1., 1.]])\n"
          ]
        }
      ],
      "source": [
        "import torch \n",
        "lr_rate = 0.001  # alpha\n",
        "\n",
        "# training set of input X and labels Y\n",
        "X = torch.Tensor([[0,0],[0,1], [1,0], [1,1]])\n",
        "Y = torch.Tensor([0,1,1,0]).view(-1,1) #view is similar to numpy.reshape() here it makes it into a column\n",
        "\n",
        "# Run the forward pass of the logistic regression model\n",
        "sample_output = logreg_clf(X) #completely random at the moment\n",
        "print(X)\n",
        "\n",
        "loss_function = nn.BCELoss() \n",
        "# SGD: stochastic gradient descent is used to train/fit the model\n",
        "optimizer = torch.optim.SGD(logreg_clf.parameters(), lr=lr_rate)"
      ]
    },
    {
      "cell_type": "markdown",
      "metadata": {
        "id": "FG1SaCwJJUCq"
      },
      "source": [
        "Now we can train!\n",
        "\n",
        "Take a moment to study what is happening here. This process will keep coming back. "
      ]
    },
    {
      "cell_type": "code",
      "execution_count": 35,
      "metadata": {
        "colab": {
          "base_uri": "https://localhost:8080/"
        },
        "id": "wd7fDCWsJUKP",
        "outputId": "4ac7846e-dc71-4c36-9907-a30ac0e9d384"
      },
      "outputs": [
        {
          "name": "stdout",
          "output_type": "stream",
          "text": [
            "Epoch: 0, Loss: 1.308270812034607, \n",
            "Epoch: 500, Loss: 0.9938821196556091, \n",
            "Epoch: 1000, Loss: 0.8664793968200684, \n",
            "Epoch: 1500, Loss: 0.7712299227714539, \n",
            "Epoch: 2000, Loss: 0.6280834674835205, \n"
          ]
        }
      ],
      "source": [
        "import numpy as np \n",
        "# from torch.autograd import Variable\n",
        "\n",
        "#training loop:\n",
        "\n",
        "epochs = 2001 #how many times we go through the training set\n",
        "steps = X.size(0) #steps = 4; we have 4 training examples (I know, tiny training set :)\n",
        "\n",
        "for i in range(epochs):\n",
        "    for j in range(steps):\n",
        "        # randomly sample from the training set:\n",
        "        data_point = np.random.randint(X.size(0))\n",
        "        # store the retrieved datapoint into 2 separate variables of the right shape\n",
        "        x_var = torch.Tensor(X[data_point]) \n",
        "        y_var = torch.Tensor(Y[data_point])\n",
        "\n",
        "        # print(x_var.size())\n",
        "        \n",
        "        optimizer.zero_grad() # empty (zero) the gradient buffers\n",
        "        y_hat = logreg_clf(x_var) #get the output from the model\n",
        "\n",
        "        loss = loss_function(y_hat, y_var) #calculate the loss\n",
        "        loss.backward() #backprop\n",
        "        optimizer.step() #does the update\n",
        "\n",
        "    if i % 500 == 0:\n",
        "        print (\"Epoch: {0}, Loss: {1}, \".format(i, loss.data.numpy()))"
      ]
    },
    {
      "cell_type": "markdown",
      "metadata": {
        "id": "BHSlettsMLF9"
      },
      "source": [
        "As expected the loss remains high. XOR needs a non-linear model to work well (or, a feature engineering trick: add a third input feature: $x_1 * x_2$). Next week, we'll tackle this properly with neural networks...\n",
        "\n",
        "Below you can experiment how badly it works :)\n"
      ]
    },
    {
      "cell_type": "code",
      "execution_count": 36,
      "metadata": {
        "colab": {
          "base_uri": "https://localhost:8080/"
        },
        "id": "3zKUydFc3idW",
        "outputId": "e04a9c74-ef12-4827-86b3-80ec653e8b53"
      },
      "outputs": [
        {
          "name": "stdout",
          "output_type": "stream",
          "text": [
            "0 xor 0 = 0\n",
            "0 xor 1 = 0\n",
            "1 xor 1 = 1\n",
            "1 xor 0 = 1\n"
          ]
        }
      ],
      "source": [
        "test = [[0,0],[0,1],[1,1],[1,0]]\n",
        "\n",
        "for trial in test: \n",
        "  Xtest = torch.Tensor(trial)\n",
        "  y_hat = logreg_clf(Xtest)\n",
        "  \n",
        "  if y_hat > 0.5:\n",
        "    prediction = 1\n",
        "  else: \n",
        "    prediction = 0\n",
        "    \n",
        "  print(\"{0} xor {1} = {2}\".format(int(Xtest[0]), int(Xtest[1]), prediction))\n",
        "\n"
      ]
    },
    {
      "cell_type": "markdown",
      "metadata": {
        "id": "4iHlyGbeutty"
      },
      "source": [
        "In this week's homework you will experiment with logistic regression on a problem that is actually suited for linear separation... instead of one that requires non-linear transformations. (Don't worry, we'll solve XOR later on with a deeper neural network!)\n"
      ]
    }
  ],
  "metadata": {
    "accelerator": "GPU",
    "colab": {
      "collapsed_sections": [
        "zCMO9UqgVkS1",
        "KdMeqnLiovOk"
      ],
      "name": "Week 5 - AI class - PyTorch - Tensors, grad, and logistic regression",
      "provenance": [],
      "toc_visible": true
    },
    "interpreter": {
      "hash": "ec18ae124fb7ff17ee29ebf19e741c06b30197736ff00dfba64476edf53b661f"
    },
    "kernelspec": {
      "display_name": "Python 3.10.4 ('data_science')",
      "language": "python",
      "name": "python3"
    },
    "language_info": {
      "codemirror_mode": {
        "name": "ipython",
        "version": 3
      },
      "file_extension": ".py",
      "mimetype": "text/x-python",
      "name": "python",
      "nbconvert_exporter": "python",
      "pygments_lexer": "ipython3",
      "version": "3.10.4"
    }
  },
  "nbformat": 4,
  "nbformat_minor": 0
}
